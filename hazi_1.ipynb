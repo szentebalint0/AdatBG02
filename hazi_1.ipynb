{
    "metadata": {
        "kernelspec": {
            "name": "SQL",
            "display_name": "SQL",
            "language": "sql"
        },
        "language_info": {
            "name": "sql",
            "version": ""
        }
    },
    "nbformat_minor": 2,
    "nbformat": 4,
    "cells": [
        {
            "cell_type": "code",
            "source": [
                "-- 1. NULL értékek száma az egyes oszlopokban\r\n",
                "SELECT \r\n",
                "    SUM(CASE WHEN LISTAAR IS NULL OR LISTAAR = 0 THEN 1 ELSE 0 END) AS 'Nincs árazva',\r\n",
                "    SUM(CASE WHEN KESZLET IS NULL OR KESZLET = 0 THEN 1 ELSE 0 END) AS 'Nincs készleten',\r\n",
                "    SUM(CASE WHEN LEIRAS IS NULL THEN 1 ELSE 0 END) AS 'Nincs leírása',\r\n",
                "    SUM(CASE WHEN KAT_ID IS NULL THEN 1 ELSE 0 END) AS 'Kategorizálatlan',\r\n",
                "    SUM(CASE WHEN RAKTAR_KOD IS NULL THEN 1 ELSE 0 END) AS 'Hiányzó raktárkód'\r\n",
                "FROM Termek;"
            ],
            "metadata": {
                "azdata_cell_guid": "7745045d-0ff5-4f9c-a4b7-fac925e50c9a",
                "language": "sql"
            },
            "outputs": [
                {
                    "output_type": "display_data",
                    "data": {
                        "text/html": "(1 row affected)"
                    },
                    "metadata": {}
                },
                {
                    "output_type": "display_data",
                    "data": {
                        "text/html": "Total execution time: 00:00:00.019"
                    },
                    "metadata": {}
                },
                {
                    "output_type": "execute_result",
                    "metadata": {},
                    "execution_count": 6,
                    "data": {
                        "application/vnd.dataresource+json": {
                            "schema": {
                                "fields": [
                                    {
                                        "name": "Nincs árazva"
                                    },
                                    {
                                        "name": "Nincs készleten"
                                    },
                                    {
                                        "name": "Nincs leírása"
                                    },
                                    {
                                        "name": "Kategorizálatlan"
                                    },
                                    {
                                        "name": "Hiányzó raktárkód"
                                    }
                                ]
                            },
                            "data": [
                                {
                                    "Nincs árazva": "1",
                                    "Nincs készleten": "2",
                                    "Nincs leírása": "527",
                                    "Kategorizálatlan": "0",
                                    "Hiányzó raktárkód": "0"
                                }
                            ]
                        },
                        "text/html": [
                            "<table>",
                            "<tr><th>Nincs árazva</th><th>Nincs készleten</th><th>Nincs leírása</th><th>Kategorizálatlan</th><th>Hiányzó raktárkód</th></tr>",
                            "<tr><td>1</td><td>2</td><td>527</td><td>0</td><td>0</td></tr>",
                            "</table>"
                        ]
                    }
                }
            ],
            "execution_count": 6
        },
        {
            "cell_type": "markdown",
            "source": [
                "Megfigyelhető volt, hogy nem volt elég sima IS NULL szűrés, mivel van például 0 listaárú termék is."
            ],
            "metadata": {
                "language": "sql",
                "azdata_cell_guid": "053d41dd-5b4b-4b1b-87aa-123160b31e01"
            },
            "attachments": {}
        },
        {
            "cell_type": "code",
            "source": [
                "-- 2. Min, Max, Átlag számítása\r\n",
                "SELECT \r\n",
                "    MIN(LISTAAR) AS 'Legkisebb listaárunk',\r\n",
                "    MAX(LISTAAR) AS 'Legnagyobb listaárunk',\r\n",
                "    ROUND(AVG(LISTAAR), 0) AS 'Átlag listaárunk',\r\n",
                "    MIN(KESZLET) AS 'Legkisebb készletszámunk',\r\n",
                "    MAX(KESZLET) AS 'Legnagyobb készletszámunk',\r\n",
                "    ROUND(AVG(KESZLET), 0) AS 'Árlagos készletszámunk'\r\n",
                "FROM Termek;"
            ],
            "metadata": {
                "azdata_cell_guid": "171155f3-2604-4e4e-9086-2e1ceb004d34",
                "language": "sql"
            },
            "outputs": [
                {
                    "output_type": "display_data",
                    "data": {
                        "text/html": "(1 row affected)"
                    },
                    "metadata": {}
                },
                {
                    "output_type": "display_data",
                    "data": {
                        "text/html": "Total execution time: 00:00:00.020"
                    },
                    "metadata": {}
                },
                {
                    "output_type": "execute_result",
                    "metadata": {},
                    "execution_count": 2,
                    "data": {
                        "application/vnd.dataresource+json": {
                            "schema": {
                                "fields": [
                                    {
                                        "name": "Legkisebb listaárunk"
                                    },
                                    {
                                        "name": "Legnagyobb listaárunk"
                                    },
                                    {
                                        "name": "Átlag listaárunk"
                                    },
                                    {
                                        "name": "Legkisebb készletszámunk"
                                    },
                                    {
                                        "name": "Legnagyobb készletszámunk"
                                    },
                                    {
                                        "name": "Árlagos készletszámunk"
                                    }
                                ]
                            },
                            "data": [
                                {
                                    "Legkisebb listaárunk": "0",
                                    "Legnagyobb listaárunk": "46000",
                                    "Átlag listaárunk": "786",
                                    "Legkisebb készletszámunk": "0",
                                    "Legnagyobb készletszámunk": "50000",
                                    "Árlagos készletszámunk": "1586"
                                }
                            ]
                        },
                        "text/html": [
                            "<table>",
                            "<tr><th>Legkisebb listaárunk</th><th>Legnagyobb listaárunk</th><th>Átlag listaárunk</th><th>Legkisebb készletszámunk</th><th>Legnagyobb készletszámunk</th><th>Árlagos készletszámunk</th></tr>",
                            "<tr><td>0</td><td>46000</td><td>786</td><td>0</td><td>50000</td><td>1586</td></tr>",
                            "</table>"
                        ]
                    }
                }
            ],
            "execution_count": 2
        },
        {
            "cell_type": "code",
            "source": [
                "-- 3. 5 leggyakoribb árú termékünk\r\n",
                "SELECT TOP 5 LISTAAR, COUNT(*) AS 'Gyakoriság'\r\n",
                "FROM Termek\r\n",
                "GROUP BY LISTAAR\r\n",
                "ORDER BY 2 DESC;"
            ],
            "metadata": {
                "azdata_cell_guid": "2027d15a-0487-4c55-8305-970d2fe094a0",
                "language": "sql"
            },
            "outputs": [
                {
                    "output_type": "display_data",
                    "data": {
                        "text/html": "(5 rows affected)"
                    },
                    "metadata": {}
                },
                {
                    "output_type": "display_data",
                    "data": {
                        "text/html": "Total execution time: 00:00:00.019"
                    },
                    "metadata": {}
                },
                {
                    "output_type": "execute_result",
                    "metadata": {},
                    "execution_count": 5,
                    "data": {
                        "application/vnd.dataresource+json": {
                            "schema": {
                                "fields": [
                                    {
                                        "name": "LISTAAR"
                                    },
                                    {
                                        "name": "Gyakoriság"
                                    }
                                ]
                            },
                            "data": [
                                {
                                    "LISTAAR": "30",
                                    "Gyakoriság": "16"
                                },
                                {
                                    "LISTAAR": "44",
                                    "Gyakoriság": "16"
                                },
                                {
                                    "LISTAAR": "89",
                                    "Gyakoriság": "15"
                                },
                                {
                                    "LISTAAR": "15",
                                    "Gyakoriság": "14"
                                },
                                {
                                    "LISTAAR": "103",
                                    "Gyakoriság": "12"
                                }
                            ]
                        },
                        "text/html": [
                            "<table>",
                            "<tr><th>LISTAAR</th><th>Gyakoriság</th></tr>",
                            "<tr><td>30</td><td>16</td></tr>",
                            "<tr><td>44</td><td>16</td></tr>",
                            "<tr><td>89</td><td>15</td></tr>",
                            "<tr><td>15</td><td>14</td></tr>",
                            "<tr><td>103</td><td>12</td></tr>",
                            "</table>"
                        ]
                    }
                }
            ],
            "execution_count": 5
        },
        {
            "cell_type": "code",
            "source": [
                "-- 4. Az 5 legnagyobb készlettel rendelkező termékek\r\n",
                "SELECT TOP 5 TERMEKKOD, MEGNEVEZES, KESZLET\r\n",
                "FROM Termek\r\n",
                "ORDER BY KESZLET DESC"
            ],
            "metadata": {
                "azdata_cell_guid": "e7ca4c46-0722-4959-bcad-aa09a891fb92",
                "language": "sql"
            },
            "outputs": [
                {
                    "output_type": "display_data",
                    "data": {
                        "text/html": "(5 rows affected)"
                    },
                    "metadata": {}
                },
                {
                    "output_type": "display_data",
                    "data": {
                        "text/html": "Total execution time: 00:00:00.051"
                    },
                    "metadata": {}
                },
                {
                    "output_type": "execute_result",
                    "metadata": {},
                    "execution_count": 11,
                    "data": {
                        "application/vnd.dataresource+json": {
                            "schema": {
                                "fields": [
                                    {
                                        "name": "TERMEKKOD"
                                    },
                                    {
                                        "name": "MEGNEVEZES"
                                    },
                                    {
                                        "name": "KESZLET"
                                    }
                                ]
                            },
                            "data": [
                                {
                                    "TERMEKKOD": "03050457T",
                                    "MEGNEVEZES": "Ajándék cs. tasak kicsi",
                                    "KESZLET": "50000"
                                },
                                {
                                    "TERMEKKOD": "07080471T",
                                    "MEGNEVEZES": "Golyóstoll levélbontós",
                                    "KESZLET": "50000"
                                },
                                {
                                    "TERMEKKOD": "03050079T",
                                    "MEGNEVEZES": "Díszkötöző szalag vékony",
                                    "KESZLET": "40000"
                                },
                                {
                                    "TERMEKKOD": "07080469T",
                                    "MEGNEVEZES": "Golyóstoll UNIBALL 07",
                                    "KESZLET": "35000"
                                },
                                {
                                    "TERMEKKOD": "07080164T",
                                    "MEGNEVEZES": "Golyóstoll UNI gumis",
                                    "KESZLET": "30000"
                                }
                            ]
                        },
                        "text/html": [
                            "<table>",
                            "<tr><th>TERMEKKOD</th><th>MEGNEVEZES</th><th>KESZLET</th></tr>",
                            "<tr><td>03050457T</td><td>Ajándék cs. tasak kicsi</td><td>50000</td></tr>",
                            "<tr><td>07080471T</td><td>Golyóstoll levélbontós</td><td>50000</td></tr>",
                            "<tr><td>03050079T</td><td>Díszkötöző szalag vékony</td><td>40000</td></tr>",
                            "<tr><td>07080469T</td><td>Golyóstoll UNIBALL 07</td><td>35000</td></tr>",
                            "<tr><td>07080164T</td><td>Golyóstoll UNI gumis</td><td>30000</td></tr>",
                            "</table>"
                        ]
                    }
                }
            ],
            "execution_count": 11
        },
        {
            "cell_type": "code",
            "source": [
                "-- 5. Kiugró értékek keresése a Ár szerint\r\n",
                "SELECT *\r\n",
                "FROM Termek\r\n",
                "WHERE LISTAAR = (SELECT MAX(LISTAAR) FROM Termek)\r\n",
                "   OR LISTAAR = (SELECT MIN(LISTAAR) FROM Termek);"
            ],
            "metadata": {
                "azdata_cell_guid": "86436053-570d-4aa1-af2e-134a60a5a236",
                "language": "sql"
            },
            "outputs": [
                {
                    "output_type": "display_data",
                    "data": {
                        "text/html": "(2 rows affected)"
                    },
                    "metadata": {}
                },
                {
                    "output_type": "display_data",
                    "data": {
                        "text/html": "Total execution time: 00:00:01.032"
                    },
                    "metadata": {}
                },
                {
                    "output_type": "execute_result",
                    "execution_count": 15,
                    "data": {
                        "application/vnd.dataresource+json": {
                            "schema": {
                                "fields": [
                                    {
                                        "name": "TERMEKKOD"
                                    },
                                    {
                                        "name": "MEGNEVEZES"
                                    },
                                    {
                                        "name": "KAT_ID"
                                    },
                                    {
                                        "name": "LISTAAR"
                                    },
                                    {
                                        "name": "LEIRAS"
                                    },
                                    {
                                        "name": "RAKTAR_KOD"
                                    },
                                    {
                                        "name": "KESZLET"
                                    },
                                    {
                                        "name": "MEGYS"
                                    },
                                    {
                                        "name": "FELVITTE"
                                    },
                                    {
                                        "name": "FELVITEL"
                                    }
                                ]
                            },
                            "data": [
                                {
                                    "TERMEKKOD": "07030108T",
                                    "MEGNEVEZES": "Filctoll CD író",
                                    "KAT_ID": "41",
                                    "LISTAAR": "0",
                                    "LEIRAS": "NULL",
                                    "RAKTAR_KOD": "5",
                                    "KESZLET": "500",
                                    "MEGYS": "db",
                                    "FELVITTE": "Mari",
                                    "FELVITEL": "2016-07-21"
                                },
                                {
                                    "TERMEKKOD": "N039-AL222",
                                    "MEGNEVEZES": "kosztüm (hosszú)",
                                    "KAT_ID": "88",
                                    "LISTAAR": "46000",
                                    "LEIRAS": "tört fehér  ",
                                    "RAKTAR_KOD": "2",
                                    "KESZLET": "238",
                                    "MEGYS": "db",
                                    "FELVITTE": "Mari",
                                    "FELVITEL": "2016-07-20"
                                }
                            ]
                        },
                        "text/html": "<table><tr><th>TERMEKKOD</th><th>MEGNEVEZES</th><th>KAT_ID</th><th>LISTAAR</th><th>LEIRAS</th><th>RAKTAR_KOD</th><th>KESZLET</th><th>MEGYS</th><th>FELVITTE</th><th>FELVITEL</th></tr><tr><td>07030108T</td><td>Filctoll CD író</td><td>41</td><td>0</td><td>NULL</td><td>5</td><td>500</td><td>db</td><td>Mari</td><td>2016-07-21</td></tr><tr><td>N039-AL222</td><td>kosztüm (hosszú)</td><td>88</td><td>46000</td><td>tört fehér  </td><td>2</td><td>238</td><td>db</td><td>Mari</td><td>2016-07-20</td></tr></table>"
                    },
                    "metadata": {}
                }
            ],
            "execution_count": 15
        },
        {
            "cell_type": "code",
            "source": [
                "-- 6. Az egyes raktárakban található termékek száma\r\n",
                "SELECT RAKTAR_KOD,\r\n",
                "       COUNT(*) AS termek_szam\r\n",
                "FROM Termek\r\n",
                "GROUP BY RAKTAR_KOD\r\n",
                "ORDER BY termek_szam DESC;"
            ],
            "metadata": {
                "azdata_cell_guid": "0de0591c-102b-41fa-8485-a31b4cf5e2f1",
                "language": "sql"
            },
            "outputs": [
                {
                    "output_type": "display_data",
                    "data": {
                        "text/html": "(9 rows affected)"
                    },
                    "metadata": {}
                },
                {
                    "output_type": "display_data",
                    "data": {
                        "text/html": "Total execution time: 00:00:00.039"
                    },
                    "metadata": {}
                },
                {
                    "output_type": "execute_result",
                    "metadata": {},
                    "execution_count": 7,
                    "data": {
                        "application/vnd.dataresource+json": {
                            "schema": {
                                "fields": [
                                    {
                                        "name": "RAKTAR_KOD"
                                    },
                                    {
                                        "name": "termek_szam"
                                    }
                                ]
                            },
                            "data": [
                                {
                                    "RAKTAR_KOD": "8",
                                    "termek_szam": "123"
                                },
                                {
                                    "RAKTAR_KOD": "6",
                                    "termek_szam": "106"
                                },
                                {
                                    "RAKTAR_KOD": "9",
                                    "termek_szam": "102"
                                },
                                {
                                    "RAKTAR_KOD": "7",
                                    "termek_szam": "100"
                                },
                                {
                                    "RAKTAR_KOD": "5",
                                    "termek_szam": "86"
                                },
                                {
                                    "RAKTAR_KOD": "3",
                                    "termek_szam": "14"
                                },
                                {
                                    "RAKTAR_KOD": "1",
                                    "termek_szam": "11"
                                },
                                {
                                    "RAKTAR_KOD": "2",
                                    "termek_szam": "5"
                                },
                                {
                                    "RAKTAR_KOD": "4",
                                    "termek_szam": "4"
                                }
                            ]
                        },
                        "text/html": [
                            "<table>",
                            "<tr><th>RAKTAR_KOD</th><th>termek_szam</th></tr>",
                            "<tr><td>8</td><td>123</td></tr>",
                            "<tr><td>6</td><td>106</td></tr>",
                            "<tr><td>9</td><td>102</td></tr>",
                            "<tr><td>7</td><td>100</td></tr>",
                            "<tr><td>5</td><td>86</td></tr>",
                            "<tr><td>3</td><td>14</td></tr>",
                            "<tr><td>1</td><td>11</td></tr>",
                            "<tr><td>2</td><td>5</td></tr>",
                            "<tr><td>4</td><td>4</td></tr>",
                            "</table>"
                        ]
                    }
                }
            ],
            "execution_count": 7
        },
        {
            "cell_type": "markdown",
            "source": [
                "![](data:image/png;base64,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)"
            ],
            "metadata": {
                "language": "sql",
                "azdata_cell_guid": "2cd421d0-7a26-44f0-aca4-f9550b55eb52"
            },
            "attachments": {}
        }
    ]
}