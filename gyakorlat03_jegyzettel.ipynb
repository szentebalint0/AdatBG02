{
    "metadata": {
        "kernelspec": {
            "name": "SQL",
            "display_name": "SQL",
            "language": "sql"
        },
        "language_info": {
            "name": "sql",
            "version": ""
        },
        "extensions": {
            "azuredatastudio": {
                "version": 1,
                "views": []
            }
        }
    },
    "nbformat_minor": 2,
    "nbformat": 4,
    "cells": [
        {
            "cell_type": "markdown",
            "source": [
                "**Az első 5 feladat ismétlés (többtáblás lekérdezések) a tanulmányi adatbázisból**\n",
                "\n",
                "1. Készítsünk listát arról, hogy melyik óra melyik teremben van!\n",
                "    \n",
                "    1. Jelenítsük meg az óra azonosítóját és a terem nevét!\n",
                "    2. A listát szűrjük a 3 karakter hosszú, \\[100;199\\] zárt intervallumba eső termekre! Feltesszük, hogy a 3 karakter hosszú terem nevek csak számjegyeket tartalmaznak."
            ],
            "metadata": {
                "azdata_cell_guid": "77f2d5b3-38e9-41cc-893f-f5afd02b97ef"
            },
            "attachments": {}
        },
        {
            "cell_type": "code",
            "source": [
                ""
            ],
            "metadata": {
                "azdata_cell_guid": "bd3cef1a-4e6e-4ece-9dc3-aaa9d2b5d66d",
                "language": "sql"
            },
            "outputs": [],
            "execution_count": null
        },
        {
            "cell_type": "markdown",
            "source": [
                "2. <span style=\"font-weight: 600; color: rgb(36, 41, 47); font-family: -apple-system, BlinkMacSystemFont, &quot;Segoe UI&quot;, Helvetica, Arial, sans-serif, &quot;Apple Color Emoji&quot;, &quot;Segoe UI Emoji&quot;; font-size: 16px;\">Hány óra van összesen az egyes napokon?</span>\n",
                "\n",
                "1. Jelenítsük meg a napok nevét és az órák számát az adott napon!\n",
                "2. Az oszlopokat nevezzük el értelemszerűen!\n",
                "3. A listát rendezzük óraszám szerint növekvő sorrendbe!"
            ],
            "metadata": {
                "azdata_cell_guid": "88f5b4bb-f4c1-4bad-a0c7-b2592687b422"
            },
            "attachments": {}
        },
        {
            "cell_type": "code",
            "source": [
                "SELECT n.nap,\r\n",
                "COUNT(o.ora_id) as db\r\n",
                "FROM Orak o INNER JOIN Napok n ON o.nap = n.nap_id -- mindenhez van minden egyenloseg mindket oldalan van ertek\r\n",
                "GROUP BY n.nap\r\n",
                "ORDER by db "
            ],
            "metadata": {
                "azdata_cell_guid": "e9de5726-f036-4fb9-8c33-a873955ed886",
                "language": "sql"
            },
            "outputs": [],
            "execution_count": null
        },
        {
            "cell_type": "markdown",
            "source": [
                "3. <span style=\"font-weight: 600; color: rgb(36, 41, 47); font-family: -apple-system, BlinkMacSystemFont, &quot;Segoe UI&quot;, Helvetica, Arial, sans-serif, &quot;Apple Color Emoji&quot;, &quot;Segoe UI Emoji&quot;; font-size: 16px;\">Készítsünk listát arról, hogy melyik oktatónak hány órája van az Órák táblában!</span>\n",
                "\n",
                "1. A lista jelenítse meg az oktatók nevét, és az órák számát!\n",
                "2. Az oszlopokat nevezzük el értelemszerűen!\n",
                "3. A listából hagyjuk ki az óraadókat!"
            ],
            "metadata": {
                "azdata_cell_guid": "9e7249de-1b59-43d8-84b1-26fa7d81fc5a"
            },
            "attachments": {}
        },
        {
            "cell_type": "code",
            "source": [
                ""
            ],
            "metadata": {
                "azdata_cell_guid": "6405d3e8-a9b1-45d7-aa76-3b1e785ef6cc",
                "language": "sql"
            },
            "outputs": [],
            "execution_count": null
        },
        {
            "cell_type": "markdown",
            "source": [
                "4. <span style=\"color: rgb(36, 41, 47); font-family: -apple-system, BlinkMacSystemFont, &quot;Segoe UI&quot;, Helvetica, Arial, sans-serif, &quot;Apple Color Emoji&quot;, &quot;Segoe UI Emoji&quot;; font-size: 16px;\">Van-e olyan tantárgy, amelyből nincs óra?</span>\n",
                "\n",
                "1. Jelentsük meg a tantárgy nevét és a tantárgyfelelős nevét!"
            ],
            "metadata": {
                "azdata_cell_guid": "6478e469-c094-472c-a772-ccd5b5c61516"
            },
            "attachments": {}
        },
        {
            "cell_type": "code",
            "source": [
                "SELECT okt.nev\r\n",
                "FROM Tantárgyak t LEFT JOIN Orak o on t.Tkód = o.targy -- bal oldalrol mindent felsorol, meg ha nincs is hozza jobb oldalt ertek, nullerteket is felsorolja\r\n",
                "                        JOIN Oktatok okt ON t.Tantárgyfelelős = okt.oktato_id\r\n",
                "WHERE o.targy IS NULL"
            ],
            "metadata": {
                "azdata_cell_guid": "02031ea2-3838-458d-839c-228e3b362b61",
                "language": "sql"
            },
            "outputs": [],
            "execution_count": null
        },
        {
            "cell_type": "markdown",
            "source": [
                "5. <span style=\"background-color: rgb(255, 255, 255); color: rgb(36, 41, 47); font-family: -apple-system, BlinkMacSystemFont, &quot;Segoe UI&quot;, Helvetica, Arial, sans-serif, &quot;Apple Color Emoji&quot;, &quot;Segoe UI Emoji&quot;; font-size: 16px;\">Hány óra van összesen a 120-as teremben?</span>"
            ],
            "metadata": {
                "azdata_cell_guid": "9edbbaf9-c276-4898-9a01-e1b2993c089f"
            },
            "attachments": {}
        },
        {
            "cell_type": "code",
            "source": [
                ""
            ],
            "metadata": {
                "azdata_cell_guid": "5ad5fdcb-2878-4111-861a-833bcd50e935",
                "language": "sql"
            },
            "outputs": [],
            "execution_count": null
        },
        {
            "cell_type": "markdown",
            "source": [
                "**A 6-10 feladatokat halmazműveletek segítségével oldjuk meg, szintén a tanulmányi adatbázison**\n",
                "\n",
                "6. <span style=\"background-color:rgb(255, 255, 255);color:rgb(36, 41, 47);font-family:-apple-system, BlinkMacSystemFont, &quot;Segoe UI&quot;, Helvetica, Arial, sans-serif, &quot;Apple Color Emoji&quot;, &quot;Segoe UI Emoji&quot;;font-size:16px;font-weight:600;\">Jelenítsük meg azon tanárok azonosítóját és nevét, akik hétfői vagy keddi napokon tanítanak!</span>"
            ],
            "metadata": {
                "azdata_cell_guid": "5fe65c1c-2479-45ac-ad03-ec99d12eae21"
            },
            "attachments": {}
        },
        {
            "cell_type": "code",
            "source": [
                "-- hetfo union kedd\r\n",
                "SELECT okt.oktato_id, okt.nev\r\n",
                "FROM Orak o JOIN Oktatok okt ON o.tanar = okt.oktato_id\r\n",
                "JOIN Napok n ON o.nap = n.nap_id\r\n",
                "WHERE n.nap = N'hétfő'\r\n",
                "\r\n",
                "\r\n",
                "UNION \r\n",
                "\r\n",
                "SELECT okt.oktato_id, okt.nev\r\n",
                "FROM Orak o JOIN Oktatok okt ON o.tanar = okt.oktato_id\r\n",
                "JOIN Napok n ON o.nap = n.nap_id\r\n",
                "WHERE n.nap = N'kedd'"
            ],
            "metadata": {
                "azdata_cell_guid": "924f2dde-f1c2-4def-a7f9-dbf4bace7735",
                "language": "sql",
                "tags": []
            },
            "outputs": [],
            "execution_count": null
        },
        {
            "cell_type": "markdown",
            "source": [
                "7. <span style=\"background-color: rgb(255, 255, 255); color: rgb(36, 41, 47); font-family: -apple-system, BlinkMacSystemFont, &quot;Segoe UI&quot;, Helvetica, Arial, sans-serif, &quot;Apple Color Emoji&quot;, &quot;Segoe UI Emoji&quot;; font-size: 16px; font-weight: 600;\">Melyek azok a tantárgyak, amelyek esetén van óra a 8.00-kor kezdődő sávban, de nincs a 12.30-kor kezdődő sávban?</span>"
            ],
            "metadata": {
                "azdata_cell_guid": "3aeb6bf5-b111-40d5-92b2-9712ce335696"
            },
            "attachments": {}
        },
        {
            "cell_type": "code",
            "source": [
                ""
            ],
            "metadata": {
                "azdata_cell_guid": "3e89b651-f56f-4102-af52-30eb2bbe360d",
                "language": "sql"
            },
            "outputs": [],
            "execution_count": null
        },
        {
            "cell_type": "markdown",
            "source": [
                "8. <span style=\"background-color: rgb(255, 255, 255); color: rgb(36, 41, 47); font-family: -apple-system, BlinkMacSystemFont, &quot;Segoe UI&quot;, Helvetica, Arial, sans-serif, &quot;Apple Color Emoji&quot;, &quot;Segoe UI Emoji&quot;; font-size: 16px; font-weight: 600;\">Listázzuk azokat a termeket, amelyekben oktat Kovács László és van olyan tanóra a teremben, ahol a tantárgy nevében nem szerepel az 'ürge' szó!</span>"
            ],
            "metadata": {
                "azdata_cell_guid": "26a504dc-ff6a-439f-94c0-4580eca3eacf"
            },
            "attachments": {}
        },
        {
            "cell_type": "code",
            "source": [
                ""
            ],
            "metadata": {
                "azdata_cell_guid": "1cbb8aeb-78b5-4350-aa45-e3202fdab85b",
                "language": "sql"
            },
            "outputs": [],
            "execution_count": null
        },
        {
            "cell_type": "markdown",
            "source": [
                "9. <span style=\"font-weight: 600; color: rgb(36, 41, 47); font-family: -apple-system, BlinkMacSystemFont, &quot;Segoe UI&quot;, Helvetica, Arial, sans-serif, &quot;Apple Color Emoji&quot;, &quot;Segoe UI Emoji&quot;; font-size: 16px;\">Készítsünk listát arról, hogy melyik tanárnak hány órája van a (munka) hét elején (hétfőn), hét közben (kedd, szerda és csütörtök), illetve a hét végén (péntek)!</span>\n",
                "\n",
                "1. Jelenítsük meg a tanár azonosítóját, nevét, az időszakot (hét eleje - hét közben - hét vége), valamint az óraszámot!\n",
                "2. A három megjelölt időszakot külön kérdezzük le, majd fűzzük össze a lekérdezések eredményeit!\n",
                "3. Rendezzük a listát az oktató neve, azon belül időszak szerint!"
            ],
            "metadata": {
                "azdata_cell_guid": "435e2860-2dd5-4877-90f4-34a43baeb53c"
            },
            "attachments": {}
        },
        {
            "cell_type": "code",
            "source": [
                ""
            ],
            "metadata": {
                "azdata_cell_guid": "ce846351-ddbe-4d8e-b8fb-2a92c73ac80b",
                "language": "sql"
            },
            "outputs": [],
            "execution_count": null
        },
        {
            "cell_type": "markdown",
            "source": [
                "10. <span style=\"background-color: rgb(255, 255, 255); color: rgb(36, 41, 47); font-family: -apple-system, BlinkMacSystemFont, &quot;Segoe UI&quot;, Helvetica, Arial, sans-serif, &quot;Apple Color Emoji&quot;, &quot;Segoe UI Emoji&quot;; font-size: 16px; font-weight: 600;\">Melyik napokon nincs órája Pelikán Józsefnek?</span>"
            ],
            "metadata": {
                "azdata_cell_guid": "217c5772-afe2-4a7c-b913-e3a3e09d6411"
            },
            "attachments": {}
        },
        {
            "cell_type": "code",
            "source": [
                "-- van oraja azt listazzuk es excepttel a komplemetert nezzuk \r\n",
                "SELECT nap \r\n",
                "FROM Napok\r\n",
                "\r\n",
                "EXCEPT\r\n",
                "\r\n",
                "--melyik napokon van oraja PJ nek?\r\n",
                "\r\n",
                "SELECT n.nap\r\n",
                "FROM Orak o JOIN Oktatok okt ON o.tanar = okt.oktato_id\r\n",
                "JOIN Napok n ON o.nap = n.nap_id\r\n",
                "WHERE okt.nev = N'Pelikán József'"
            ],
            "metadata": {
                "azdata_cell_guid": "a9cc0926-3dbd-4ed8-8179-1c39d64a0762",
                "language": "sql"
            },
            "outputs": [],
            "execution_count": null
        },
        {
            "cell_type": "markdown",
            "source": [
                "**A 11-15 feladatok gyakorlásra szolgálnak a közelgő zh-ra :-)**\n",
                "\n",
                "11. _Készítsünk listát az oktatók adatairól!_\n",
                "\n",
                "1. Az oktatók titulusa és neve összefűzve jelenjen meg, közöttük szóközzel!\n",
                "2. Ha valakinek nincs titulusa, akkor csak a neve jelenjen meg, szóköz nélkül!\n",
                "3. A listát rendezzük a beosztás kódja, azon belül a státusz kódja szerint növekvő sorrendbe!\n",
                "4. Az oszlopokat nevezzük el értelemszerűen!"
            ],
            "metadata": {
                "azdata_cell_guid": "d2340f5f-1614-473c-b937-85740d67f7c1"
            },
            "attachments": {}
        },
        {
            "cell_type": "code",
            "source": [
                "SELECT oktato_id, beosztás, [status],\r\n",
                "    CASE\r\n",
                "    WHEN titulus is NULL THEN nev\r\n",
                "    ELSE titulus + ' ' + nev\r\n",
                "    END AS titulusnev\r\n",
                "FROM Oktatok\r\n",
                "ORDER BY beosztás, [status]\r\n",
                "\r\n",
                ""
            ],
            "metadata": {
                "azdata_cell_guid": "e99c2c53-898f-4787-b0e6-182d106dc16f",
                "language": "sql"
            },
            "outputs": [
                {
                    "output_type": "display_data",
                    "data": {
                        "text/html": "(25 rows affected)"
                    },
                    "metadata": {}
                },
                {
                    "output_type": "display_data",
                    "data": {
                        "text/html": "Total execution time: 00:00:00.014"
                    },
                    "metadata": {}
                },
                {
                    "output_type": "execute_result",
                    "metadata": {},
                    "execution_count": 47,
                    "data": {
                        "application/vnd.dataresource+json": {
                            "schema": {
                                "fields": [
                                    {
                                        "name": "oktato_id"
                                    },
                                    {
                                        "name": "beosztás"
                                    },
                                    {
                                        "name": "status"
                                    },
                                    {
                                        "name": "titulusnev"
                                    }
                                ]
                            },
                            "data": [
                                {
                                    "oktato_id": "18",
                                    "beosztás": "1",
                                    "status": "1",
                                    "titulusnev": "Nógrádi Kata"
                                },
                                {
                                    "oktato_id": "19",
                                    "beosztás": "1",
                                    "status": "1",
                                    "titulusnev": "Rácz András"
                                },
                                {
                                    "oktato_id": "20",
                                    "beosztás": "1",
                                    "status": "1",
                                    "titulusnev": "Kovács András"
                                },
                                {
                                    "oktato_id": "104",
                                    "beosztás": "1",
                                    "status": "1",
                                    "titulusnev": "Ludas Mátyás"
                                },
                                {
                                    "oktato_id": "200",
                                    "beosztás": "1",
                                    "status": "1",
                                    "titulusnev": "Aranyi Mária"
                                },
                                {
                                    "oktato_id": "300",
                                    "beosztás": "1",
                                    "status": "1",
                                    "titulusnev": "Szabó Andrera"
                                },
                                {
                                    "oktato_id": "105",
                                    "beosztás": "1",
                                    "status": "2",
                                    "titulusnev": "Kiss István"
                                },
                                {
                                    "oktato_id": "107",
                                    "beosztás": "1",
                                    "status": "2",
                                    "titulusnev": "Mészáros Kriszta"
                                },
                                {
                                    "oktato_id": "108",
                                    "beosztás": "2",
                                    "status": "1",
                                    "titulusnev": "Róbert Gida"
                                },
                                {
                                    "oktato_id": "111",
                                    "beosztás": "2",
                                    "status": "1",
                                    "titulusnev": "Vitéz János"
                                },
                                {
                                    "oktato_id": "7",
                                    "beosztás": "2",
                                    "status": "1",
                                    "titulusnev": "Kiss János"
                                },
                                {
                                    "oktato_id": "8",
                                    "beosztás": "2",
                                    "status": "3",
                                    "titulusnev": "Pelikán József"
                                },
                                {
                                    "oktato_id": "9",
                                    "beosztás": "2",
                                    "status": "3",
                                    "titulusnev": "Farkasos Piroska"
                                },
                                {
                                    "oktato_id": "6",
                                    "beosztás": "3",
                                    "status": "1",
                                    "titulusnev": "Dr. Szép llonka"
                                },
                                {
                                    "oktato_id": "14",
                                    "beosztás": "3",
                                    "status": "1",
                                    "titulusnev": "Szénási ászló"
                                },
                                {
                                    "oktato_id": "2",
                                    "beosztás": "3",
                                    "status": "2",
                                    "titulusnev": "Dr. Szentágotai Istvás"
                                },
                                {
                                    "oktato_id": "3",
                                    "beosztás": "4",
                                    "status": "1",
                                    "titulusnev": "Szerb László"
                                },
                                {
                                    "oktato_id": "11",
                                    "beosztás": "4",
                                    "status": "1",
                                    "titulusnev": "Dr. Józsa Gábor"
                                },
                                {
                                    "oktato_id": "12",
                                    "beosztás": "4",
                                    "status": "1",
                                    "titulusnev": "Dr. Varga Kata"
                                },
                                {
                                    "oktato_id": "5",
                                    "beosztás": "4",
                                    "status": "2",
                                    "titulusnev": "Dr. Balkán András"
                                },
                                {
                                    "oktato_id": "302",
                                    "beosztás": "5",
                                    "status": "1",
                                    "titulusnev": "Dr. Kovacs Istvan"
                                },
                                {
                                    "oktato_id": "301",
                                    "beosztás": "6",
                                    "status": "1",
                                    "titulusnev": "Dr. Juhász András"
                                },
                                {
                                    "oktato_id": "10",
                                    "beosztás": "6",
                                    "status": "1",
                                    "titulusnev": "Prof. Jogrerős Pál"
                                },
                                {
                                    "oktato_id": "1",
                                    "beosztás": "6",
                                    "status": "2",
                                    "titulusnev": "Dr. Kovács László"
                                },
                                {
                                    "oktato_id": "4",
                                    "beosztás": "6",
                                    "status": "2",
                                    "titulusnev": "Prof, tanszékvezető Ujfalussi István"
                                }
                            ]
                        },
                        "text/html": [
                            "<table>",
                            "<tr><th>oktato_id</th><th>beosztás</th><th>status</th><th>titulusnev</th></tr>",
                            "<tr><td>18</td><td>1</td><td>1</td><td>Nógrádi Kata</td></tr>",
                            "<tr><td>19</td><td>1</td><td>1</td><td>Rácz András</td></tr>",
                            "<tr><td>20</td><td>1</td><td>1</td><td>Kovács András</td></tr>",
                            "<tr><td>104</td><td>1</td><td>1</td><td>Ludas Mátyás</td></tr>",
                            "<tr><td>200</td><td>1</td><td>1</td><td>Aranyi Mária</td></tr>",
                            "<tr><td>300</td><td>1</td><td>1</td><td>Szabó Andrera</td></tr>",
                            "<tr><td>105</td><td>1</td><td>2</td><td>Kiss István</td></tr>",
                            "<tr><td>107</td><td>1</td><td>2</td><td>Mészáros Kriszta</td></tr>",
                            "<tr><td>108</td><td>2</td><td>1</td><td>Róbert Gida</td></tr>",
                            "<tr><td>111</td><td>2</td><td>1</td><td>Vitéz János</td></tr>",
                            "<tr><td>7</td><td>2</td><td>1</td><td>Kiss János</td></tr>",
                            "<tr><td>8</td><td>2</td><td>3</td><td>Pelikán József</td></tr>",
                            "<tr><td>9</td><td>2</td><td>3</td><td>Farkasos Piroska</td></tr>",
                            "<tr><td>6</td><td>3</td><td>1</td><td>Dr. Szép llonka</td></tr>",
                            "<tr><td>14</td><td>3</td><td>1</td><td>Szénási ászló</td></tr>",
                            "<tr><td>2</td><td>3</td><td>2</td><td>Dr. Szentágotai Istvás</td></tr>",
                            "<tr><td>3</td><td>4</td><td>1</td><td>Szerb László</td></tr>",
                            "<tr><td>11</td><td>4</td><td>1</td><td>Dr. Józsa Gábor</td></tr>",
                            "<tr><td>12</td><td>4</td><td>1</td><td>Dr. Varga Kata</td></tr>",
                            "<tr><td>5</td><td>4</td><td>2</td><td>Dr. Balkán András</td></tr>",
                            "<tr><td>302</td><td>5</td><td>1</td><td>Dr. Kovacs Istvan</td></tr>",
                            "<tr><td>301</td><td>6</td><td>1</td><td>Dr. Juhász András</td></tr>",
                            "<tr><td>10</td><td>6</td><td>1</td><td>Prof. Jogrerős Pál</td></tr>",
                            "<tr><td>1</td><td>6</td><td>2</td><td>Dr. Kovács László</td></tr>",
                            "<tr><td>4</td><td>6</td><td>2</td><td>Prof, tanszékvezető Ujfalussi István</td></tr>",
                            "</table>"
                        ]
                    }
                }
            ],
            "execution_count": 47
        },
        {
            "cell_type": "markdown",
            "source": [
                "<span style=\"color: #09885a;\">12</span>. Készítsünk listát, amely megmutatja, hogy összesen hány tantárgy van kreditenkénti csoportosításban!\n",
                "\n",
                "  \n",
                "\n",
                "A listából hagyjuk ki azokat a tételeket, ahol ez a darabszám <span style=\"color: #09885a;\">1</span>!\n",
                "\n",
                "A Folyami gáttan tantárgyat ne vegyük figyelembe!\n",
                "\n",
                "A listát rendezzük darabszám szerint csökkenő sorrendbe!\n",
                "\n",
                "Az oszlopokat nevezzük el értelemszerűen!"
            ],
            "metadata": {
                "azdata_cell_guid": "a765e9d6-58b3-4171-872a-78f3118fd6e3"
            },
            "attachments": {}
        },
        {
            "cell_type": "code",
            "source": [
                "SELECT Kredit,\r\n",
                " COUNT(*) as szam\r\n",
                "FROM Tantárgyak\r\n",
                "WHERE Tantárgynév <> 'Folyami gáttan'\r\n",
                "GROUP BY Kredit\r\n",
                "HAVING COUNT(*) <> 1\r\n",
                "ORDER BY szam DESC"
            ],
            "metadata": {
                "azdata_cell_guid": "422e8127-b652-4d3a-bfd7-9b1637b5781e",
                "language": "sql"
            },
            "outputs": [],
            "execution_count": null
        },
        {
            "cell_type": "markdown",
            "source": [
                "13. _Készítsünk listát az oktatók nevéről, a beosztásuk alapján elvárt és a tényleges óraszámukról!_\n",
                "\n",
                "1. Az oszlopok neve legyen 'Oktató neve', 'Elvárt óraszám' és 'Tényleges óraszám'\n",
                "2. Szűrjük a listát azokra az oktatókra, ahol az elvárt és a tényleges óraszám azonos"
            ],
            "metadata": {
                "azdata_cell_guid": "3f9237ae-f109-401c-acb9-31d75e73331b"
            },
            "attachments": {}
        },
        {
            "cell_type": "code",
            "source": [
                "SELECT okt.nev, COUNT(*) as Tényleges_óraszám, b.elvart as elvárt\r\n",
                "FROM Orak o JOIN Oktatok okt on o.tanar = okt.oktato_id\r\n",
                "    JOIN Beosztasok b on okt.beosztás = b.beosztas_id\r\n",
                "    GROUP BY okt.nev, b.elvart\r\n",
                "    HAVING COUNT(*) = b.elvart"
            ],
            "metadata": {
                "azdata_cell_guid": "4b31bb89-cfbc-46b1-8639-85c462877786",
                "language": "sql",
                "tags": []
            },
            "outputs": [],
            "execution_count": null
        },
        {
            "cell_type": "markdown",
            "source": [
                "14. _Készítsünk listát, amely megmutatja, hogy mely tantárgyból nincs óra egyáltalán!_\n",
                "\n",
                "1. Csak a tantárgy neve jelenjen meg!"
            ],
            "metadata": {
                "azdata_cell_guid": "f634e09a-85ef-4e70-8ec6-ef355dfddaa7"
            },
            "attachments": {}
        },
        {
            "cell_type": "code",
            "source": [
                ""
            ],
            "metadata": {
                "azdata_cell_guid": "88abc55b-2c78-495b-a72f-3f8f4eb5fe70",
                "language": "sql"
            },
            "outputs": [],
            "execution_count": null
        },
        {
            "cell_type": "markdown",
            "source": [
                "15. _Hány órájuk van az óraadóknak napi bontásban?_\n",
                "\n",
                "1. Csak a napok nevét és az óraszámot jelenítsük meg!\n",
                "2. Rendezzük a listát óraszám szerint növekvő sorrendbe!"
            ],
            "metadata": {
                "azdata_cell_guid": "4cbf2f0d-a65d-480a-8186-ccdb24498443"
            },
            "attachments": {}
        },
        {
            "cell_type": "code",
            "source": [
                ""
            ],
            "metadata": {
                "azdata_cell_guid": "c148aee8-bc85-40bf-b80a-a4898a6c05cb",
                "language": "sql"
            },
            "outputs": [],
            "execution_count": null
        }
    ]
}