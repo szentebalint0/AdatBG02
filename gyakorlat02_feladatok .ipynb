{
    "metadata": {
        "kernelspec": {
            "name": "SQL",
            "display_name": "SQL",
            "language": "sql"
        },
        "language_info": {
            "name": "sql",
            "version": ""
        },
        "extensions": {
            "azuredatastudio": {
                "version": 1,
                "views": []
            }
        }
    },
    "nbformat_minor": 2,
    "nbformat": 4,
    "cells": [
        {
            "cell_type": "markdown",
            "source": [
                "1. <span style=\"color:rgb(36, 41, 47);font-family:-apple-system, BlinkMacSystemFont, &quot;Segoe UI&quot;, Helvetica, Arial, sans-serif, &quot;Apple Color Emoji&quot;, &quot;Segoe UI Emoji&quot;;font-size:16px;\">Készítsünk lekérdezést, amely listázza, hogy mely napokon hány db kölcsönzés történt!</span>\n",
                "\n",
                "<span style=\"font-size: 16px;\">a.&nbsp;</span> Az oszlopok neve legyen 'Dátum' és 'Kölcsönzések száma'  \n",
                "b. A listát rendezzük a kölcsönzés dátuma szerint csökkenő sorrendbe!"
            ],
            "metadata": {
                "azdata_cell_guid": "77f2d5b3-38e9-41cc-893f-f5afd02b97ef"
            },
            "attachments": {}
        },
        {
            "cell_type": "code",
            "source": [
                "SELECT ki_datum AS 'Dátum',\r\n",
                "        COUNT(*) AS 'Kölcsönzések száma'\r\n",
                "FROM kolcsonzesek\r\n",
                "GROUP BY ki_datum\r\n",
                "ORDER BY ki_datum DESC"
            ],
            "metadata": {
                "azdata_cell_guid": "bd3cef1a-4e6e-4ece-9dc3-aaa9d2b5d66d",
                "language": "sql"
            },
            "outputs": [],
            "execution_count": null
        },
        {
            "cell_type": "markdown",
            "source": [
                "2. <span style=\"font-weight: 600; color: rgb(36, 41, 47); font-family: -apple-system, BlinkMacSystemFont, &quot;Segoe UI&quot;, Helvetica, Arial, sans-serif, &quot;Apple Color Emoji&quot;, &quot;Segoe UI Emoji&quot;; font-size: 16px;\">Mennyi a dvd-k átlagos ára stílusonkénti bontásban?</span>\n",
                "\n",
                "1. Csak azokat a stílusokat vegyük figyelembe, ahol az átlagos ár 4500 Ft feletti!\n",
                "2. Az oszlopokat nevezzük el értelemszerűen!\n",
                "3. A listát rendezzük átlagos ár szerint csökkenő sorrendbe!"
            ],
            "metadata": {
                "azdata_cell_guid": "88f5b4bb-f4c1-4bad-a0c7-b2592687b422"
            },
            "attachments": {}
        },
        {
            "cell_type": "code",
            "source": [
                "SELECT stilus AS Stílus,\r\n",
                "        AVG(nettoar) AS átlagár\r\n",
                "FROM dvd\r\n",
                "GROUP BY stilus\r\n",
                "HAVING AVG(nettoar) > 4500\r\n",
                "ORDER BY AVG(nettoar) DESC"
            ],
            "metadata": {
                "azdata_cell_guid": "e9de5726-f036-4fb9-8c33-a873955ed886",
                "language": "sql",
                "tags": []
            },
            "outputs": [],
            "execution_count": null
        },
        {
            "cell_type": "markdown",
            "source": [
                "<mark>3. <span style=\"color:rgb(36, 41, 47);font-family:-apple-system, BlinkMacSystemFont, &quot;Segoe UI&quot;, Helvetica, Arial, sans-serif, &quot;Apple Color Emoji&quot;, &quot;Segoe UI Emoji&quot;;font-size:16px;\">Listázzuk nyelvenkénti, azon belül stílusonkénti bontásban, hogy mennyi a dvd-k legkisebb és legnagyobb ára!&nbsp;</span></mark> \n",
                "\n",
                "<span style=\"font-size: 16px;\">a. Az oszlopok neve legyen 'Nyelv', 'Stílus', 'MinÁr' és 'MaxÁr'!<br>b.&nbsp;</span>  A listából hagyjuk ki azokat a sorokat, ahol a nyelv vagy a stílus nincs megadva!  \n",
                "c. Szintén hagyjuk ki azokat a csoportokat, ahol a csoport elemszáma 3-nál kisebb!"
            ],
            "metadata": {
                "azdata_cell_guid": "9e7249de-1b59-43d8-84b1-26fa7d81fc5a"
            },
            "attachments": {}
        },
        {
            "cell_type": "code",
            "source": [
                "SELECT lang, stilus, MIN(nettoar), MAX(nettoar)\r\n",
                "FROM dvd\r\n",
                "WHERE lang IS NOT NULL AND stilus IS NOT NULL \r\n",
                "GROUP BY lang, stilus\r\n",
                "HAVING COUNT(lang) >= 3 AND COUNT(stilus) >= 3\r\n",
                "\r\n",
                ""
            ],
            "metadata": {
                "azdata_cell_guid": "6405d3e8-a9b1-45d7-aa76-3b1e785ef6cc",
                "language": "sql"
            },
            "outputs": [],
            "execution_count": null
        },
        {
            "cell_type": "markdown",
            "source": [
                "<mark>4. <span style=\"color: rgb(36, 41, 47); font-family: -apple-system, BlinkMacSystemFont, &quot;Segoe UI&quot;, Helvetica, Arial, sans-serif, &quot;Apple Color Emoji&quot;, &quot;Segoe UI Emoji&quot;; font-size: 16px;\">Készítsünk listát, amely a csoportokat hoz létre aszerint, hogy a mai naptól számítva hány nap telt el a kölcsönzés kezdete óta. A lista jelenítse meg csoportonkénti bontásban a kikölcsönzött dvd-k számát!</span></mark>\n",
                "\n",
                "1. Az oszlopokat nevezzük el értelemszerűen!\n",
                "2. A listát rendezzük az eltelt napok száma szerint csökkenő sorrendbe!"
            ],
            "metadata": {
                "azdata_cell_guid": "6478e469-c094-472c-a772-ccd5b5c61516"
            },
            "attachments": {}
        },
        {
            "cell_type": "code",
            "source": [
                "SELECT DATEDIFF(day, CAST(ki_datum AS date), GETDATE()),\r\n",
                "COUNT(*)\r\n",
                "FROM kolcsonzesek\r\n",
                "GROUP BY DATEDIFF(day, CAST(ki_datum AS date), GETDATE())\r\n",
                "ORDER BY 1 DESC"
            ],
            "metadata": {
                "azdata_cell_guid": "02031ea2-3838-458d-839c-228e3b362b61",
                "language": "sql"
            },
            "outputs": [
                {
                    "output_type": "display_data",
                    "data": {
                        "text/html": "(3 rows affected)"
                    },
                    "metadata": {}
                },
                {
                    "output_type": "display_data",
                    "data": {
                        "text/html": "Total execution time: 00:00:00.058"
                    },
                    "metadata": {}
                },
                {
                    "output_type": "execute_result",
                    "metadata": {},
                    "execution_count": 7,
                    "data": {
                        "application/vnd.dataresource+json": {
                            "schema": {
                                "fields": [
                                    {
                                        "name": "(No column name)"
                                    },
                                    {
                                        "name": "(No column name)"
                                    }
                                ]
                            },
                            "data": [
                                {
                                    "(No column name)": "3"
                                },
                                {
                                    "(No column name)": "1"
                                },
                                {
                                    "(No column name)": "1"
                                }
                            ]
                        },
                        "text/html": [
                            "<table>",
                            "<tr><th>(No column name)</th><th>(No column name)</th></tr>",
                            "<tr><td>7758</td><td>3</td></tr>",
                            "<tr><td>6733</td><td>1</td></tr>",
                            "<tr><td>6732</td><td>1</td></tr>",
                            "</table>"
                        ]
                    }
                }
            ],
            "execution_count": 7
        },
        {
            "cell_type": "markdown",
            "source": [
                "<mark>5. <span style=\"color: rgb(36, 41, 47); font-family: -apple-system, BlinkMacSystemFont, &quot;Segoe UI&quot;, Helvetica, Arial, sans-serif, &quot;Apple Color Emoji&quot;, &quot;Segoe UI Emoji&quot;; font-size: 16px;\">A kölcsönző tulajdonosa elhatározza, hogy ezentúl kerekebb árakat alkalmaz. Ezért minden dvd árát 1000 Ft-ra kerekíti. Készítsünk lekérdezést, amely megmutatja, hogy melyik 1000 Ft-ra kerekített ár szerint, azon belül stílus szerint hány db dvd összesen raktáron! **</span></mark>\n",
                "\n",
                "1. Csak olyan csoportokat listázzunk, ahol a raktárkészlet legalább 30!\n",
                "2. A listát rendezzük kerekített ár szerint, azon belül raktárkészlet szerint növekvő sorrendbe!"
            ],
            "metadata": {
                "azdata_cell_guid": "9edbbaf9-c276-4898-9a01-e1b2993c089f"
            },
            "attachments": {}
        },
        {
            "cell_type": "code",
            "source": [
                "SELECT ROUND(nettoar, -3) AS 'kerekített ár',\r\n",
                "        stilus AS stílus,\r\n",
                "        SUM([raktár készlet]) AS 'raktáron'\r\n",
                "FROM dvd\r\n",
                "GROUP BY ROUND(nettoar, -3), stilus\r\n",
                "HAVING SUM([raktár készlet]) >= 30\r\n",
                "ORDER BY 1, 3 ASC"
            ],
            "metadata": {
                "azdata_cell_guid": "5ad5fdcb-2878-4111-861a-833bcd50e935",
                "language": "sql"
            },
            "outputs": [
                {
                    "output_type": "display_data",
                    "data": {
                        "text/html": "(27 rows affected)"
                    },
                    "metadata": {}
                },
                {
                    "output_type": "display_data",
                    "data": {
                        "text/html": "Total execution time: 00:00:00.023"
                    },
                    "metadata": {}
                },
                {
                    "output_type": "execute_result",
                    "metadata": {},
                    "execution_count": 11,
                    "data": {
                        "application/vnd.dataresource+json": {
                            "schema": {
                                "fields": [
                                    {
                                        "name": "kerekített ár"
                                    },
                                    {
                                        "name": "stílus"
                                    },
                                    {
                                        "name": "raktáron"
                                    }
                                ]
                            },
                            "data": [
                                {
                                    "kerekített ár": "3000",
                                    "stílus": "földrajz",
                                    "raktáron": "30"
                                },
                                {
                                    "kerekített ár": "3000",
                                    "stílus": "nyelvtanító",
                                    "raktáron": "30"
                                },
                                {
                                    "kerekített ár": "3000",
                                    "stílus": "játék",
                                    "raktáron": "40"
                                },
                                {
                                    "kerekített ár": "3000",
                                    "stílus": "történelem",
                                    "raktáron": "40"
                                },
                                {
                                    "kerekített ár": "3000",
                                    "stílus": "ismeretterjesztő",
                                    "raktáron": "70"
                                },
                                {
                                    "kerekített ár": "4000",
                                    "stílus": "szótár",
                                    "raktáron": "30"
                                },
                                {
                                    "kerekített ár": "4000",
                                    "stílus": "csillagászat",
                                    "raktáron": "40"
                                },
                                {
                                    "kerekített ár": "4000",
                                    "stílus": "földrajz",
                                    "raktáron": "50"
                                },
                                {
                                    "kerekített ár": "4000",
                                    "stílus": "irodalom",
                                    "raktáron": "90"
                                },
                                {
                                    "kerekített ár": "4000",
                                    "stílus": "ismeretterjesztő",
                                    "raktáron": "130"
                                },
                                {
                                    "kerekített ár": "4000",
                                    "stílus": "nyelvtanító",
                                    "raktáron": "140"
                                },
                                {
                                    "kerekített ár": "4000",
                                    "stílus": "történelem",
                                    "raktáron": "160"
                                },
                                {
                                    "kerekített ár": "4000",
                                    "stílus": "játék",
                                    "raktáron": "180"
                                },
                                {
                                    "kerekített ár": "5000",
                                    "stílus": "irodalom",
                                    "raktáron": "30"
                                },
                                {
                                    "kerekített ár": "5000",
                                    "stílus": "matematika",
                                    "raktáron": "30"
                                },
                                {
                                    "kerekített ár": "5000",
                                    "stílus": "zene",
                                    "raktáron": "30"
                                },
                                {
                                    "kerekített ár": "5000",
                                    "stílus": "földrajz",
                                    "raktáron": "60"
                                },
                                {
                                    "kerekített ár": "5000",
                                    "stílus": "történelem",
                                    "raktáron": "120"
                                },
                                {
                                    "kerekített ár": "5000",
                                    "stílus": "nyelvtanító",
                                    "raktáron": "140"
                                },
                                {
                                    "kerekített ár": "5000",
                                    "stílus": "ismeretterjesztő",
                                    "raktáron": "170"
                                },
                                {
                                    "kerekített ár": "5000",
                                    "stílus": "játék",
                                    "raktáron": "210"
                                },
                                {
                                    "kerekített ár": "6000",
                                    "stílus": "csillagászat",
                                    "raktáron": "30"
                                },
                                {
                                    "kerekített ár": "6000",
                                    "stílus": "irodalom",
                                    "raktáron": "30"
                                },
                                {
                                    "kerekített ár": "6000",
                                    "stílus": "történelem",
                                    "raktáron": "88"
                                },
                                {
                                    "kerekített ár": "6000",
                                    "stílus": "ismeretterjesztő",
                                    "raktáron": "90"
                                },
                                {
                                    "kerekített ár": "6000",
                                    "stílus": "nyelvtanító",
                                    "raktáron": "110"
                                },
                                {
                                    "kerekített ár": "6000",
                                    "stílus": "játék",
                                    "raktáron": "170"
                                }
                            ]
                        },
                        "text/html": [
                            "<table>",
                            "<tr><th>kerekített ár</th><th>stílus</th><th>raktáron</th></tr>",
                            "<tr><td>3000</td><td>földrajz</td><td>30</td></tr>",
                            "<tr><td>3000</td><td>nyelvtanító</td><td>30</td></tr>",
                            "<tr><td>3000</td><td>játék</td><td>40</td></tr>",
                            "<tr><td>3000</td><td>történelem</td><td>40</td></tr>",
                            "<tr><td>3000</td><td>ismeretterjesztő</td><td>70</td></tr>",
                            "<tr><td>4000</td><td>szótár</td><td>30</td></tr>",
                            "<tr><td>4000</td><td>csillagászat</td><td>40</td></tr>",
                            "<tr><td>4000</td><td>földrajz</td><td>50</td></tr>",
                            "<tr><td>4000</td><td>irodalom</td><td>90</td></tr>",
                            "<tr><td>4000</td><td>ismeretterjesztő</td><td>130</td></tr>",
                            "<tr><td>4000</td><td>nyelvtanító</td><td>140</td></tr>",
                            "<tr><td>4000</td><td>történelem</td><td>160</td></tr>",
                            "<tr><td>4000</td><td>játék</td><td>180</td></tr>",
                            "<tr><td>5000</td><td>irodalom</td><td>30</td></tr>",
                            "<tr><td>5000</td><td>matematika</td><td>30</td></tr>",
                            "<tr><td>5000</td><td>zene</td><td>30</td></tr>",
                            "<tr><td>5000</td><td>földrajz</td><td>60</td></tr>",
                            "<tr><td>5000</td><td>történelem</td><td>120</td></tr>",
                            "<tr><td>5000</td><td>nyelvtanító</td><td>140</td></tr>",
                            "<tr><td>5000</td><td>ismeretterjesztő</td><td>170</td></tr>",
                            "<tr><td>5000</td><td>játék</td><td>210</td></tr>",
                            "<tr><td>6000</td><td>csillagászat</td><td>30</td></tr>",
                            "<tr><td>6000</td><td>irodalom</td><td>30</td></tr>",
                            "<tr><td>6000</td><td>történelem</td><td>88</td></tr>",
                            "<tr><td>6000</td><td>ismeretterjesztő</td><td>90</td></tr>",
                            "<tr><td>6000</td><td>nyelvtanító</td><td>110</td></tr>",
                            "<tr><td>6000</td><td>játék</td><td>170</td></tr>",
                            "</table>"
                        ]
                    }
                }
            ],
            "execution_count": 11
        },
        {
            "cell_type": "markdown",
            "source": [
                "<mark>6. <span style=\"font-weight: 600; color: rgb(36, 41, 47); font-family: -apple-system, BlinkMacSystemFont, &quot;Segoe UI&quot;, Helvetica, Arial, sans-serif, &quot;Apple Color Emoji&quot;, &quot;Segoe UI Emoji&quot;; font-size: 16px;\">A dvd-ket csoportosíthatjuk aszerint, hogy milyen hosszú a címük. Amelyiknél a cím hosszúsága 10 karakter alatt van, az legyen Rövid, 10-20-ig Átlagos, 20 felett Hosszú. Hány Rövid, Átlagos, illetve Hosszú dvd-van összesen raktáron?</span></mark>\n",
                "\n",
                "1. Az oszlopok neve legyen 'Cím hosszúság' és 'Darabszám"
            ],
            "metadata": {
                "azdata_cell_guid": "5fe65c1c-2479-45ac-ad03-ec99d12eae21"
            },
            "attachments": {}
        },
        {
            "cell_type": "code",
            "source": [
                "SELECT CASE \r\n",
                "        WHEN LEN(cim) < 10 THEN 'rövid'\r\n",
                "        WHEN LEN(cim) >= 10 AND LEN(cim) <= 20 THEN 'átlagos' \r\n",
                "        WHEN LEN(cim) > 20 THEN 'hosszú' END AS 'cím',\r\n",
                "        SUM([raktár készlet]) AS 'darabszám'\r\n",
                "FROM dvd\r\n",
                "GROUP BY CASE \r\n",
                "        WHEN LEN(cim) < 10 THEN 'rövid'\r\n",
                "        WHEN LEN(cim) >= 10 AND LEN(cim) <= 20 THEN 'átlagos' \r\n",
                "        WHEN LEN(cim) > 20 THEN 'hosszú' END"
            ],
            "metadata": {
                "azdata_cell_guid": "924f2dde-f1c2-4def-a7f9-dbf4bace7735",
                "language": "sql"
            },
            "outputs": [
                {
                    "output_type": "display_data",
                    "data": {
                        "text/html": "(4 rows affected)"
                    },
                    "metadata": {}
                },
                {
                    "output_type": "display_data",
                    "data": {
                        "text/html": "Total execution time: 00:00:00.023"
                    },
                    "metadata": {}
                },
                {
                    "output_type": "execute_result",
                    "metadata": {},
                    "execution_count": 15,
                    "data": {
                        "application/vnd.dataresource+json": {
                            "schema": {
                                "fields": [
                                    {
                                        "name": "cím"
                                    },
                                    {
                                        "name": "darabszám"
                                    }
                                ]
                            },
                            "data": [
                                {
                                    "cím": "NULL",
                                    "darabszám": "10"
                                },
                                {
                                    "cím": "átlagos",
                                    "darabszám": "930"
                                },
                                {
                                    "cím": "hosszú",
                                    "darabszám": "2118"
                                },
                                {
                                    "cím": "rövid",
                                    "darabszám": "120"
                                }
                            ]
                        },
                        "text/html": [
                            "<table>",
                            "<tr><th>cím</th><th>darabszám</th></tr>",
                            "<tr><td>NULL</td><td>10</td></tr>",
                            "<tr><td>átlagos</td><td>930</td></tr>",
                            "<tr><td>hosszú</td><td>2118</td></tr>",
                            "<tr><td>rövid</td><td>120</td></tr>",
                            "</table>"
                        ]
                    }
                }
            ],
            "execution_count": 15
        },
        {
            "cell_type": "markdown",
            "source": [
                "<mark>7. <span style=\"color: rgb(36, 41, 47); font-family: -apple-system, BlinkMacSystemFont, &quot;Segoe UI&quot;, Helvetica, Arial, sans-serif, &quot;Apple Color Emoji&quot;, &quot;Segoe UI Emoji&quot;; font-size: 16px;\">Készítsünk listát arról, hogy melyik teremben hány óra van!</span></mark>\n",
                "\n",
                "1. Jelenítsük meg a termek azonosítóit és a teremben tartott órák számát!\n",
                "2. Az oszlopokat nevezzük el értelemszerűen!\n",
                "3. Szűrjünk azokra a termekre, ahol az órák száma legalább 3!"
            ],
            "metadata": {
                "azdata_cell_guid": "3aeb6bf5-b111-40d5-92b2-9712ce335696"
            },
            "attachments": {}
        },
        {
            "cell_type": "code",
            "source": [
                "SELECT t.Tkód, COUNT(*)\r\n",
                "FROM Termek t JOIN Orak o ON t.Tkód = o.terem\r\n",
                "GROUP BY t.Tkód\r\n",
                "HAVING COUNT(*) >= 3"
            ],
            "metadata": {
                "azdata_cell_guid": "3e89b651-f56f-4102-af52-30eb2bbe360d",
                "language": "sql"
            },
            "outputs": [
                {
                    "output_type": "display_data",
                    "data": {
                        "text/html": "(11 rows affected)"
                    },
                    "metadata": {}
                },
                {
                    "output_type": "display_data",
                    "data": {
                        "text/html": "Total execution time: 00:00:00.009"
                    },
                    "metadata": {}
                },
                {
                    "output_type": "execute_result",
                    "metadata": {},
                    "execution_count": 17,
                    "data": {
                        "application/vnd.dataresource+json": {
                            "schema": {
                                "fields": [
                                    {
                                        "name": "Tkód"
                                    },
                                    {
                                        "name": "(No column name)"
                                    }
                                ]
                            },
                            "data": [
                                {
                                    "Tkód": "2",
                                    "(No column name)": "5"
                                },
                                {
                                    "Tkód": "3",
                                    "(No column name)": "11"
                                },
                                {
                                    "Tkód": "4",
                                    "(No column name)": "8"
                                },
                                {
                                    "Tkód": "5",
                                    "(No column name)": "5"
                                },
                                {
                                    "Tkód": "6",
                                    "(No column name)": "6"
                                },
                                {
                                    "Tkód": "7",
                                    "(No column name)": "6"
                                },
                                {
                                    "Tkód": "8",
                                    "(No column name)": "6"
                                },
                                {
                                    "Tkód": "10",
                                    "(No column name)": "3"
                                },
                                {
                                    "Tkód": "12",
                                    "(No column name)": "3"
                                },
                                {
                                    "Tkód": "13",
                                    "(No column name)": "5"
                                },
                                {
                                    "Tkód": "14",
                                    "(No column name)": "3"
                                }
                            ]
                        },
                        "text/html": [
                            "<table>",
                            "<tr><th>Tkód</th><th>(No column name)</th></tr>",
                            "<tr><td>2</td><td>5</td></tr>",
                            "<tr><td>3</td><td>11</td></tr>",
                            "<tr><td>4</td><td>8</td></tr>",
                            "<tr><td>5</td><td>5</td></tr>",
                            "<tr><td>6</td><td>6</td></tr>",
                            "<tr><td>7</td><td>6</td></tr>",
                            "<tr><td>8</td><td>6</td></tr>",
                            "<tr><td>10</td><td>3</td></tr>",
                            "<tr><td>12</td><td>3</td></tr>",
                            "<tr><td>13</td><td>5</td></tr>",
                            "<tr><td>14</td><td>3</td></tr>",
                            "</table>"
                        ]
                    }
                }
            ],
            "execution_count": 17
        },
        {
            "cell_type": "markdown",
            "source": [
                "<mark>8. <span style=\"color: rgb(36, 41, 47); font-family: -apple-system, BlinkMacSystemFont, &quot;Segoe UI&quot;, Helvetica, Arial, sans-serif, &quot;Apple Color Emoji&quot;, &quot;Segoe UI Emoji&quot;; font-size: 16px;\">Készítsünk lekérdezést, amely megadja, hogy minimálian és maximálisan hány kreditet ér egy tantárgy!</span></mark>\n",
                "\n",
                "1. Az oszlopokat nevezzük el értelemszerűen!\n",
                "2. Ne vegyük figyelembe azokat a tantárgyakat, amelyek nevében az „alapjai” szó szerepel, vagy a tantárgy neve 10 karakternél rövidebb!"
            ],
            "metadata": {
                "azdata_cell_guid": "26a504dc-ff6a-439f-94c0-4580eca3eacf"
            },
            "attachments": {}
        },
        {
            "cell_type": "code",
            "source": [
                "SELECT Tantárgynév, MIN(Kredit), MAX(Kredit)\r\n",
                "FROM Tantárgyak\r\n",
                "WHERE LEN(Tantárgynév) >= 10 AND Tantárgynév NOT Like '%alapjai%'\r\n",
                "GROUP BY Tantárgynév\r\n",
                ""
            ],
            "metadata": {
                "azdata_cell_guid": "1cbb8aeb-78b5-4350-aa45-e3202fdab85b",
                "language": "sql"
            },
            "outputs": [
                {
                    "output_type": "display_data",
                    "data": {
                        "text/html": "(8 rows affected)"
                    },
                    "metadata": {}
                },
                {
                    "output_type": "display_data",
                    "data": {
                        "text/html": "Total execution time: 00:00:00.019"
                    },
                    "metadata": {}
                },
                {
                    "output_type": "execute_result",
                    "metadata": {},
                    "execution_count": 18,
                    "data": {
                        "application/vnd.dataresource+json": {
                            "schema": {
                                "fields": [
                                    {
                                        "name": "Tantárgynév"
                                    },
                                    {
                                        "name": "(No column name)"
                                    },
                                    {
                                        "name": "(No column name)"
                                    }
                                ]
                            },
                            "data": [
                                {
                                    "Tantárgynév": "Az öntés elmélete",
                                    "(No column name)": "4"
                                },
                                {
                                    "Tantárgynév": "Az ürge anatómiája",
                                    "(No column name)": "5"
                                },
                                {
                                    "Tantárgynév": "Bevezetés az ürgeöntésbe",
                                    "(No column name)": "3"
                                },
                                {
                                    "Tantárgynév": "Fejezetek az ürgék jogaiból",
                                    "(No column name)": "3"
                                },
                                {
                                    "Tantárgynév": "Folyami gáttan",
                                    "(No column name)": "2"
                                },
                                {
                                    "Tantárgynév": "Öntési gyakorlat",
                                    "(No column name)": "1"
                                },
                                {
                                    "Tantárgynév": "ü-business",
                                    "(No column name)": "2"
                                },
                                {
                                    "Tantárgynév": "Ürgeöntés az EU-ban",
                                    "(No column name)": "1"
                                }
                            ]
                        },
                        "text/html": [
                            "<table>",
                            "<tr><th>Tantárgynév</th><th>(No column name)</th><th>(No column name)</th></tr>",
                            "<tr><td>Az öntés elmélete</td><td>4</td><td>4</td></tr>",
                            "<tr><td>Az ürge anatómiája</td><td>5</td><td>5</td></tr>",
                            "<tr><td>Bevezetés az ürgeöntésbe</td><td>3</td><td>3</td></tr>",
                            "<tr><td>Fejezetek az ürgék jogaiból</td><td>3</td><td>3</td></tr>",
                            "<tr><td>Folyami gáttan</td><td>2</td><td>2</td></tr>",
                            "<tr><td>Öntési gyakorlat</td><td>1</td><td>1</td></tr>",
                            "<tr><td>ü-business</td><td>2</td><td>2</td></tr>",
                            "<tr><td>Ürgeöntés az EU-ban</td><td>1</td><td>1</td></tr>",
                            "</table>"
                        ]
                    }
                }
            ],
            "execution_count": 18
        },
        {
            "cell_type": "markdown",
            "source": [
                "<mark>9. <span style=\"color: rgb(36, 41, 47); font-family: -apple-system, BlinkMacSystemFont, &quot;Segoe UI&quot;, Helvetica, Arial, sans-serif, &quot;Apple Color Emoji&quot;, &quot;Segoe UI Emoji&quot;; font-size: 16px;\">A tapasztalat alapján a tanársegédeknek 8, az óraadóknak 10 órájuk van egy héten. A többiek annyi órát tartanak, amennyi az elvárt óraszámuk. Készítsünk lekérdezést, amely minden beosztáshoz megjeleníti, hogy hetente hány túlóra tartozik hozzá!</span></mark>\n",
                "\n",
                "1. A lekérdezés csak a beosztások nevét és a heti túlórák számát jelenítse meg!"
            ],
            "metadata": {
                "azdata_cell_guid": "435e2860-2dd5-4877-90f4-34a43baeb53c"
            },
            "attachments": {}
        },
        {
            "cell_type": "code",
            "source": [
                "SELECT beosztasnev,\r\n",
                "\t   CASE WHEN beosztasnev = 'Tanársegéd' THEN 8\r\n",
                "\t        WHEN beosztasnev = 'Óraadó' THEN 10\r\n",
                "\t\t\tELSE elvart\r\n",
                "\t   END - elvart AS 'Túlóra'\r\n",
                "FROM Beosztasok"
            ],
            "metadata": {
                "azdata_cell_guid": "ce846351-ddbe-4d8e-b8fb-2a92c73ac80b",
                "language": "sql"
            },
            "outputs": [
                {
                    "output_type": "display_data",
                    "data": {
                        "text/html": "(7 rows affected)"
                    },
                    "metadata": {}
                },
                {
                    "output_type": "display_data",
                    "data": {
                        "text/html": "Total execution time: 00:00:00.061"
                    },
                    "metadata": {}
                },
                {
                    "output_type": "execute_result",
                    "metadata": {},
                    "execution_count": 19,
                    "data": {
                        "application/vnd.dataresource+json": {
                            "schema": {
                                "fields": [
                                    {
                                        "name": "beosztasnev"
                                    },
                                    {
                                        "name": "Túlóra"
                                    }
                                ]
                            },
                            "data": [
                                {
                                    "beosztasnev": "Óraadó",
                                    "Túlóra": "4"
                                },
                                {
                                    "beosztasnev": "Tanársegéd",
                                    "Túlóra": "2"
                                },
                                {
                                    "beosztasnev": "Adjunktus",
                                    "Túlóra": "0"
                                },
                                {
                                    "beosztasnev": "Docens",
                                    "Túlóra": "0"
                                },
                                {
                                    "beosztasnev": "Professzor",
                                    "Túlóra": "0"
                                },
                                {
                                    "beosztasnev": "Egyetemi tanár",
                                    "Túlóra": "0"
                                },
                                {
                                    "beosztasnev": "Tudományos munkatárs",
                                    "Túlóra": "0"
                                }
                            ]
                        },
                        "text/html": [
                            "<table>",
                            "<tr><th>beosztasnev</th><th>Túlóra</th></tr>",
                            "<tr><td>Óraadó</td><td>4</td></tr>",
                            "<tr><td>Tanársegéd</td><td>2</td></tr>",
                            "<tr><td>Adjunktus</td><td>0</td></tr>",
                            "<tr><td>Docens</td><td>0</td></tr>",
                            "<tr><td>Professzor</td><td>0</td></tr>",
                            "<tr><td>Egyetemi tanár</td><td>0</td></tr>",
                            "<tr><td>Tudományos munkatárs</td><td>0</td></tr>",
                            "</table>"
                        ]
                    }
                }
            ],
            "execution_count": 19
        },
        {
            "cell_type": "markdown",
            "source": [
                "<mark>10. <span style=\"font-weight: 600; color: rgb(36, 41, 47); font-family: -apple-system, BlinkMacSystemFont, &quot;Segoe UI&quot;, Helvetica, Arial, sans-serif, &quot;Apple Color Emoji&quot;, &quot;Segoe UI Emoji&quot;; font-size: 16px;\">Melyek azok az oktatók, akiknek nincs órájuk?</span></mark>\n",
                "\n",
                "1. Csak az oktatók neve jelenjen meg!\n",
                "2. ÖTLET: használjunk LEFT JOIN-t, és szűrjünk azokra a rekordokra, ahol NULL érték van a JOIN utáni feltétel jobb oldalán!"
            ],
            "metadata": {
                "azdata_cell_guid": "217c5772-afe2-4a7c-b913-e3a3e09d6411"
            },
            "attachments": {}
        },
        {
            "cell_type": "code",
            "source": [
                "SELECT okt.nev\r\n",
                "FROM Oktatok okt LEFT JOIN Orak o ON okt.oktato_id = o.tanar\r\n",
                "WHERE o.tanar IS NULL"
            ],
            "metadata": {
                "azdata_cell_guid": "a9cc0926-3dbd-4ed8-8179-1c39d64a0762",
                "language": "sql"
            },
            "outputs": [
                {
                    "output_type": "display_data",
                    "data": {
                        "text/html": "(5 rows affected)"
                    },
                    "metadata": {}
                },
                {
                    "output_type": "display_data",
                    "data": {
                        "text/html": "Total execution time: 00:00:00.017"
                    },
                    "metadata": {}
                },
                {
                    "output_type": "execute_result",
                    "metadata": {},
                    "execution_count": 20,
                    "data": {
                        "application/vnd.dataresource+json": {
                            "schema": {
                                "fields": [
                                    {
                                        "name": "nev"
                                    }
                                ]
                            },
                            "data": [
                                {
                                    "nev": "Józsa Gábor"
                                },
                                {
                                    "nev": "Rácz András"
                                },
                                {
                                    "nev": "Kiss István"
                                },
                                {
                                    "nev": "Mészáros Kriszta"
                                },
                                {
                                    "nev": "Kovacs Istvan"
                                }
                            ]
                        },
                        "text/html": [
                            "<table>",
                            "<tr><th>nev</th></tr>",
                            "<tr><td>Józsa Gábor</td></tr>",
                            "<tr><td>Rácz András</td></tr>",
                            "<tr><td>Kiss István</td></tr>",
                            "<tr><td>Mészáros Kriszta</td></tr>",
                            "<tr><td>Kovacs Istvan</td></tr>",
                            "</table>"
                        ]
                    }
                }
            ],
            "execution_count": 20
        },
        {
            "cell_type": "markdown",
            "source": [
                "<mark>11. <span style=\"font-weight: 600; color: rgb(36, 41, 47); font-family: -apple-system, BlinkMacSystemFont, &quot;Segoe UI&quot;, Helvetica, Arial, sans-serif, &quot;Apple Color Emoji&quot;, &quot;Segoe UI Emoji&quot;; font-size: 16px;\">Készítsünk lekérdezést, amely részletesen megjeleníti az egyes órák fontosabb adatait, azaz</span></mark>\n",
                "\n",
                "1. Az órák azonosítóit, a tanár nevét, a tantárgy nevét, a terem nevét és a kezdési időpontot!\n",
                "2. Az oszlopokat nevezzük el értelemszerűen!"
            ],
            "metadata": {
                "azdata_cell_guid": "d2340f5f-1614-473c-b937-85740d67f7c1"
            },
            "attachments": {}
        },
        {
            "cell_type": "code",
            "source": [
                "SELECT o.ora_id, okt.nev, t.Tantárgynév, ter.Terem, s.Időpont\r\n",
                "FROM Orak o JOIN Oktatok okt ON o.tanar = okt.oktato_id \r\n",
                "            JOIN Tantárgyak t ON o.targy = t.Tkód\r\n",
                "            JOIN Termek ter ON o.terem = ter.Tkód\r\n",
                "            JOIN Savok s ON o.Sav = s.Sav_id\r\n",
                "\r\n",
                ""
            ],
            "metadata": {
                "azdata_cell_guid": "e99c2c53-898f-4787-b0e6-182d106dc16f",
                "language": "sql"
            },
            "outputs": [
                {
                    "output_type": "display_data",
                    "data": {
                        "text/html": "(67 rows affected)"
                    },
                    "metadata": {}
                },
                {
                    "output_type": "display_data",
                    "data": {
                        "text/html": "Total execution time: 00:00:00.081"
                    },
                    "metadata": {}
                },
                {
                    "output_type": "execute_result",
                    "metadata": {},
                    "execution_count": 21,
                    "data": {
                        "application/vnd.dataresource+json": {
                            "schema": {
                                "fields": [
                                    {
                                        "name": "ora_id"
                                    },
                                    {
                                        "name": "nev"
                                    },
                                    {
                                        "name": "Tantárgynév"
                                    },
                                    {
                                        "name": "Terem"
                                    },
                                    {
                                        "name": "Időpont"
                                    }
                                ]
                            },
                            "data": [
                                {
                                    "ora_id": "159",
                                    "nev": "Ujfalussi István",
                                    "Tantárgynév": "Az ürgeöntés alapjai",
                                    "Terem": "117",
                                    "Időpont": "8.00"
                                },
                                {
                                    "ora_id": "160",
                                    "nev": "Pelikán József",
                                    "Tantárgynév": "Az ürgeöntés alapjai",
                                    "Terem": "118",
                                    "Időpont": "14.00"
                                },
                                {
                                    "ora_id": "161",
                                    "nev": "Pelikán József",
                                    "Tantárgynév": "Az ürgeöntés alapjai",
                                    "Terem": "118",
                                    "Időpont": "9.30"
                                },
                                {
                                    "ora_id": "162",
                                    "nev": "Kovács András",
                                    "Tantárgynév": "Az ürgeöntés alapjai",
                                    "Terem": "119",
                                    "Időpont": "12.30"
                                },
                                {
                                    "ora_id": "163",
                                    "nev": "Szerb László",
                                    "Tantárgynév": "Az ürgeöntés alapjai",
                                    "Terem": "120",
                                    "Időpont": "9.30"
                                },
                                {
                                    "ora_id": "164",
                                    "nev": "Kiss János",
                                    "Tantárgynév": "Az ürgeöntés alapjai",
                                    "Terem": "119",
                                    "Időpont": "11.00"
                                },
                                {
                                    "ora_id": "165",
                                    "nev": "Szerb László",
                                    "Tantárgynév": "Az ürgeöntés alapjai",
                                    "Terem": "119",
                                    "Időpont": "11.00"
                                },
                                {
                                    "ora_id": "166",
                                    "nev": "Szerb László",
                                    "Tantárgynév": "Az ürgeöntés alapjai",
                                    "Terem": "119",
                                    "Időpont": "12.30"
                                },
                                {
                                    "ora_id": "167",
                                    "nev": "Szentágotai Istvás",
                                    "Tantárgynév": "Az ürgeöntés alapjai",
                                    "Terem": "120",
                                    "Időpont": "12.30"
                                },
                                {
                                    "ora_id": "168",
                                    "nev": "Ujfalussi István",
                                    "Tantárgynév": "Az ürgeöntés alapjai",
                                    "Terem": "217",
                                    "Időpont": "11.00"
                                },
                                {
                                    "ora_id": "169",
                                    "nev": "Kovács András",
                                    "Tantárgynév": "Az ürgeöntés alapjai",
                                    "Terem": "218",
                                    "Időpont": "9.30"
                                },
                                {
                                    "ora_id": "170",
                                    "nev": "Ludas Mátyás",
                                    "Tantárgynév": "Az ürgeöntés alapjai",
                                    "Terem": "120",
                                    "Időpont": "9.30"
                                },
                                {
                                    "ora_id": "171",
                                    "nev": "Szénási ászló",
                                    "Tantárgynév": "Az ürgeöntés alapjai",
                                    "Terem": "220",
                                    "Időpont": "9.30"
                                },
                                {
                                    "ora_id": "172",
                                    "nev": "Kiss János",
                                    "Tantárgynév": "Az ürgeöntés alapjai",
                                    "Terem": "119",
                                    "Időpont": "9.30"
                                },
                                {
                                    "ora_id": "173",
                                    "nev": "Kovács András",
                                    "Tantárgynév": "Az ürgeöntés alapjai",
                                    "Terem": "119",
                                    "Időpont": "11.00"
                                },
                                {
                                    "ora_id": "174",
                                    "nev": "Ludas Mátyás",
                                    "Tantárgynév": "Az ürgeöntés alapjai",
                                    "Terem": "219",
                                    "Időpont": "11.00"
                                },
                                {
                                    "ora_id": "175",
                                    "nev": "Szénási ászló",
                                    "Tantárgynév": "Az ürgeöntés alapjai",
                                    "Terem": "120",
                                    "Időpont": "12.30"
                                },
                                {
                                    "ora_id": "176",
                                    "nev": "Kovács András",
                                    "Tantárgynév": "Az ürgeöntés alapjai",
                                    "Terem": "118",
                                    "Időpont": "12.30"
                                },
                                {
                                    "ora_id": "177",
                                    "nev": "Szentágotai Istvás",
                                    "Tantárgynév": "Az ürgeöntés alapjai",
                                    "Terem": "119",
                                    "Időpont": "14.00"
                                },
                                {
                                    "ora_id": "178",
                                    "nev": "Vitéz János",
                                    "Tantárgynév": "Az ürgeöntés alapjai",
                                    "Terem": "220",
                                    "Időpont": "14.00"
                                },
                                {
                                    "ora_id": "179",
                                    "nev": "Szentágotai Istvás",
                                    "Tantárgynév": "Az ürgeöntés alapjai",
                                    "Terem": "120",
                                    "Időpont": "15.30"
                                },
                                {
                                    "ora_id": "180",
                                    "nev": "Vitéz János",
                                    "Tantárgynév": "Az ürgeöntés alapjai",
                                    "Terem": "119",
                                    "Időpont": "15.30"
                                },
                                {
                                    "ora_id": "181",
                                    "nev": "Szentágotai Istvás",
                                    "Tantárgynév": "Az ürgeöntés alapjai",
                                    "Terem": "118",
                                    "Időpont": "8.00"
                                },
                                {
                                    "ora_id": "182",
                                    "nev": "Vitéz János",
                                    "Tantárgynév": "Az ürgeöntés alapjai",
                                    "Terem": "219",
                                    "Időpont": "8.00"
                                },
                                {
                                    "ora_id": "183",
                                    "nev": "Szentágotai Istvás",
                                    "Tantárgynév": "Az ürgeöntés alapjai",
                                    "Terem": "220",
                                    "Időpont": "9.30"
                                },
                                {
                                    "ora_id": "184",
                                    "nev": "Vitéz János",
                                    "Tantárgynév": "Az ürgeöntés alapjai",
                                    "Terem": "218",
                                    "Időpont": "9.30"
                                },
                                {
                                    "ora_id": "185",
                                    "nev": "Szentágotai Istvás",
                                    "Tantárgynév": "Az ürgeöntés alapjai",
                                    "Terem": "120",
                                    "Időpont": "11.00"
                                },
                                {
                                    "ora_id": "186",
                                    "nev": "Nógrádi Kata",
                                    "Tantárgynév": "ü-business",
                                    "Terem": "219",
                                    "Időpont": "12.30"
                                },
                                {
                                    "ora_id": "187",
                                    "nev": "Balkán András",
                                    "Tantárgynév": "Bevezetés az ürgeöntésbe",
                                    "Terem": "217",
                                    "Időpont": "9.30"
                                },
                                {
                                    "ora_id": "188",
                                    "nev": "Farkasos Piroska",
                                    "Tantárgynév": "Bevezetés az ürgeöntésbe",
                                    "Terem": "VP 203.",
                                    "Időpont": "15.30"
                                },
                                {
                                    "ora_id": "189",
                                    "nev": "Farkasos Piroska",
                                    "Tantárgynév": "Bevezetés az ürgeöntésbe",
                                    "Terem": "VP 203.",
                                    "Időpont": "9.30"
                                },
                                {
                                    "ora_id": "190",
                                    "nev": "Farkasos Piroska",
                                    "Tantárgynév": "Bevezetés az ürgeöntésbe",
                                    "Terem": "E.2.238",
                                    "Időpont": "11.00"
                                },
                                {
                                    "ora_id": "191",
                                    "nev": "Varga Kata",
                                    "Tantárgynév": "Az ürgeöntés hydrológiai alapjai II.",
                                    "Terem": "220",
                                    "Időpont": "14.00"
                                },
                                {
                                    "ora_id": "192",
                                    "nev": "Varga Kata",
                                    "Tantárgynév": "Az ürgeöntés hydrológiai alapjai II.",
                                    "Terem": "119",
                                    "Időpont": "15.30"
                                },
                                {
                                    "ora_id": "193",
                                    "nev": "Farkasos Piroska",
                                    "Tantárgynév": "Az ürgeöntés hydrológiai alapjai II.",
                                    "Terem": "217",
                                    "Időpont": "14.00"
                                },
                                {
                                    "ora_id": "194",
                                    "nev": "Farkasos Piroska",
                                    "Tantárgynév": "Az ürgeöntés hydrológiai alapjai II.",
                                    "Terem": "E.fsz.I",
                                    "Időpont": "15.30"
                                },
                                {
                                    "ora_id": "195",
                                    "nev": "Balkán András",
                                    "Tantárgynév": "Az ürgeöntés hydrológiai alapjai II.",
                                    "Terem": "116",
                                    "Időpont": "14.00"
                                },
                                {
                                    "ora_id": "196",
                                    "nev": "Balkán András",
                                    "Tantárgynév": "Az ürgeöntés hydrológiai alapjai II.",
                                    "Terem": "218",
                                    "Időpont": "15.30"
                                },
                                {
                                    "ora_id": "197",
                                    "nev": "Farkasos Piroska",
                                    "Tantárgynév": "Az ürgeöntés hydrológiai alapjai II.",
                                    "Terem": "116",
                                    "Időpont": "8.00"
                                },
                                {
                                    "ora_id": "198",
                                    "nev": "Farkasos Piroska",
                                    "Tantárgynév": "Az ürgeöntés hydrológiai alapjai II.",
                                    "Terem": "119",
                                    "Időpont": "9.30"
                                },
                                {
                                    "ora_id": "199",
                                    "nev": "Szabó Andrera",
                                    "Tantárgynév": "Az ürgeöntés hydrológiai alapjai II.",
                                    "Terem": "218",
                                    "Időpont": "8.00"
                                },
                                {
                                    "ora_id": "200",
                                    "nev": "Szabó Andrera",
                                    "Tantárgynév": "Az ürgeöntés hydrológiai alapjai II.",
                                    "Terem": "220",
                                    "Időpont": "9.30"
                                },
                                {
                                    "ora_id": "201",
                                    "nev": "Juhász András",
                                    "Tantárgynév": "Öntési gyakorlat",
                                    "Terem": "E.2.238",
                                    "Időpont": "12.30"
                                },
                                {
                                    "ora_id": "202",
                                    "nev": "Juhász András",
                                    "Tantárgynév": "Öntési gyakorlat",
                                    "Terem": "E.3.332",
                                    "Időpont": "14.00"
                                },
                                {
                                    "ora_id": "203",
                                    "nev": "Aranyi Mária",
                                    "Tantárgynév": "Az ürgeöntés hydrológiai alapjai I.",
                                    "Terem": "S.Asor.S3",
                                    "Időpont": "12.30"
                                },
                                {
                                    "ora_id": "204",
                                    "nev": "Róbert Gida",
                                    "Tantárgynév": "Az ürgeöntés hydrológiai alapjai I.",
                                    "Terem": "120",
                                    "Időpont": "14.00"
                                },
                                {
                                    "ora_id": "205",
                                    "nev": "Ujfalussi István",
                                    "Tantárgynév": "Az öntés elmélete",
                                    "Terem": "220",
                                    "Időpont": "12.30"
                                },
                                {
                                    "ora_id": "206",
                                    "nev": "Varga Kata",
                                    "Tantárgynév": "Az öntés elmélete",
                                    "Terem": "S.Asor.S3",
                                    "Időpont": "8.00"
                                },
                                {
                                    "ora_id": "207",
                                    "nev": "Varga Kata",
                                    "Tantárgynév": "Az öntés elmélete",
                                    "Terem": "219",
                                    "Időpont": "12.30"
                                },
                                {
                                    "ora_id": "208",
                                    "nev": "Jogrerős Pál",
                                    "Tantárgynév": "Ürgevitel",
                                    "Terem": "VP 203.",
                                    "Időpont": "8.00"
                                },
                                {
                                    "ora_id": "209",
                                    "nev": "Jogrerős Pál",
                                    "Tantárgynév": "Ürgevitel",
                                    "Terem": "VP 203.",
                                    "Időpont": "9.30"
                                },
                                {
                                    "ora_id": "210",
                                    "nev": "Szép llonka",
                                    "Tantárgynév": "Ürgeöntés az EU-ban",
                                    "Terem": "E.2.238",
                                    "Időpont": "15.30"
                                },
                                {
                                    "ora_id": "211",
                                    "nev": "Szép llonka",
                                    "Tantárgynév": "Ürgeöntés az EU-ban",
                                    "Terem": "217",
                                    "Időpont": "17.00"
                                },
                                {
                                    "ora_id": "212",
                                    "nev": "Kiss János",
                                    "Tantárgynév": "Ürgeöntés az EU-ban",
                                    "Terem": "120",
                                    "Időpont": "18.30"
                                },
                                {
                                    "ora_id": "213",
                                    "nev": "Kiss János",
                                    "Tantárgynév": "Ürgeöntés az EU-ban",
                                    "Terem": "218",
                                    "Időpont": "20.00"
                                },
                                {
                                    "ora_id": "214",
                                    "nev": "Pelikán József",
                                    "Tantárgynév": "Az ürge anatómiája",
                                    "Terem": "219",
                                    "Időpont": "11.00"
                                },
                                {
                                    "ora_id": "215",
                                    "nev": "Pelikán József",
                                    "Tantárgynév": "Az ürge anatómiája",
                                    "Terem": "E.fsz.IV.",
                                    "Időpont": "12.30"
                                },
                                {
                                    "ora_id": "216",
                                    "nev": "Szép llonka",
                                    "Tantárgynév": "Az ürge anatómiája",
                                    "Terem": "218",
                                    "Időpont": "11.00"
                                },
                                {
                                    "ora_id": "217",
                                    "nev": "Szép llonka",
                                    "Tantárgynév": "Az ürge anatómiája",
                                    "Terem": "217",
                                    "Időpont": "12.30"
                                },
                                {
                                    "ora_id": "218",
                                    "nev": "Pelikán József",
                                    "Tantárgynév": "Az ürge anatómiája",
                                    "Terem": "118",
                                    "Időpont": "15.30"
                                },
                                {
                                    "ora_id": "219",
                                    "nev": "Pelikán József",
                                    "Tantárgynév": "Az ürge anatómiája",
                                    "Terem": "219",
                                    "Időpont": "17.00"
                                },
                                {
                                    "ora_id": "220",
                                    "nev": "Kovács László",
                                    "Tantárgynév": "Fejezetek az ürgék jogaiból",
                                    "Terem": "119",
                                    "Időpont": "11.00"
                                },
                                {
                                    "ora_id": "221",
                                    "nev": "Kovács László",
                                    "Tantárgynév": "Fejezetek az ürgék jogaiból",
                                    "Terem": "VP 203.",
                                    "Időpont": "11.00"
                                },
                                {
                                    "ora_id": "222",
                                    "nev": "Kovács László",
                                    "Tantárgynév": "Fejezetek az ürgék jogaiból",
                                    "Terem": "116",
                                    "Időpont": "14.00"
                                },
                                {
                                    "ora_id": "223",
                                    "nev": "Kovács László",
                                    "Tantárgynév": "Fejezetek az ürgék jogaiból",
                                    "Terem": "S.Asor.S3",
                                    "Időpont": "8.00"
                                },
                                {
                                    "ora_id": "226",
                                    "nev": "Szentágotai Istvás",
                                    "Tantárgynév": "ürgefőzés",
                                    "Terem": "117",
                                    "Időpont": "11.00"
                                },
                                {
                                    "ora_id": "227",
                                    "nev": "Szentágotai Istvás",
                                    "Tantárgynév": "Az ürgeöntés hydrológiai alapjai I.",
                                    "Terem": "116",
                                    "Időpont": "14.00"
                                }
                            ]
                        },
                        "text/html": [
                            "<table>",
                            "<tr><th>ora_id</th><th>nev</th><th>Tantárgynév</th><th>Terem</th><th>Időpont</th></tr>",
                            "<tr><td>159</td><td>Ujfalussi István</td><td>Az ürgeöntés alapjai</td><td>117</td><td>8.00</td></tr>",
                            "<tr><td>160</td><td>Pelikán József</td><td>Az ürgeöntés alapjai</td><td>118</td><td>14.00</td></tr>",
                            "<tr><td>161</td><td>Pelikán József</td><td>Az ürgeöntés alapjai</td><td>118</td><td>9.30</td></tr>",
                            "<tr><td>162</td><td>Kovács András</td><td>Az ürgeöntés alapjai</td><td>119</td><td>12.30</td></tr>",
                            "<tr><td>163</td><td>Szerb László</td><td>Az ürgeöntés alapjai</td><td>120</td><td>9.30</td></tr>",
                            "<tr><td>164</td><td>Kiss János</td><td>Az ürgeöntés alapjai</td><td>119</td><td>11.00</td></tr>",
                            "<tr><td>165</td><td>Szerb László</td><td>Az ürgeöntés alapjai</td><td>119</td><td>11.00</td></tr>",
                            "<tr><td>166</td><td>Szerb László</td><td>Az ürgeöntés alapjai</td><td>119</td><td>12.30</td></tr>",
                            "<tr><td>167</td><td>Szentágotai Istvás</td><td>Az ürgeöntés alapjai</td><td>120</td><td>12.30</td></tr>",
                            "<tr><td>168</td><td>Ujfalussi István</td><td>Az ürgeöntés alapjai</td><td>217</td><td>11.00</td></tr>",
                            "<tr><td>169</td><td>Kovács András</td><td>Az ürgeöntés alapjai</td><td>218</td><td>9.30</td></tr>",
                            "<tr><td>170</td><td>Ludas Mátyás</td><td>Az ürgeöntés alapjai</td><td>120</td><td>9.30</td></tr>",
                            "<tr><td>171</td><td>Szénási ászló</td><td>Az ürgeöntés alapjai</td><td>220</td><td>9.30</td></tr>",
                            "<tr><td>172</td><td>Kiss János</td><td>Az ürgeöntés alapjai</td><td>119</td><td>9.30</td></tr>",
                            "<tr><td>173</td><td>Kovács András</td><td>Az ürgeöntés alapjai</td><td>119</td><td>11.00</td></tr>",
                            "<tr><td>174</td><td>Ludas Mátyás</td><td>Az ürgeöntés alapjai</td><td>219</td><td>11.00</td></tr>",
                            "<tr><td>175</td><td>Szénási ászló</td><td>Az ürgeöntés alapjai</td><td>120</td><td>12.30</td></tr>",
                            "<tr><td>176</td><td>Kovács András</td><td>Az ürgeöntés alapjai</td><td>118</td><td>12.30</td></tr>",
                            "<tr><td>177</td><td>Szentágotai Istvás</td><td>Az ürgeöntés alapjai</td><td>119</td><td>14.00</td></tr>",
                            "<tr><td>178</td><td>Vitéz János</td><td>Az ürgeöntés alapjai</td><td>220</td><td>14.00</td></tr>",
                            "<tr><td>179</td><td>Szentágotai Istvás</td><td>Az ürgeöntés alapjai</td><td>120</td><td>15.30</td></tr>",
                            "<tr><td>180</td><td>Vitéz János</td><td>Az ürgeöntés alapjai</td><td>119</td><td>15.30</td></tr>",
                            "<tr><td>181</td><td>Szentágotai Istvás</td><td>Az ürgeöntés alapjai</td><td>118</td><td>8.00</td></tr>",
                            "<tr><td>182</td><td>Vitéz János</td><td>Az ürgeöntés alapjai</td><td>219</td><td>8.00</td></tr>",
                            "<tr><td>183</td><td>Szentágotai Istvás</td><td>Az ürgeöntés alapjai</td><td>220</td><td>9.30</td></tr>",
                            "<tr><td>184</td><td>Vitéz János</td><td>Az ürgeöntés alapjai</td><td>218</td><td>9.30</td></tr>",
                            "<tr><td>185</td><td>Szentágotai Istvás</td><td>Az ürgeöntés alapjai</td><td>120</td><td>11.00</td></tr>",
                            "<tr><td>186</td><td>Nógrádi Kata</td><td>ü-business</td><td>219</td><td>12.30</td></tr>",
                            "<tr><td>187</td><td>Balkán András</td><td>Bevezetés az ürgeöntésbe</td><td>217</td><td>9.30</td></tr>",
                            "<tr><td>188</td><td>Farkasos Piroska</td><td>Bevezetés az ürgeöntésbe</td><td>VP 203.</td><td>15.30</td></tr>",
                            "<tr><td>189</td><td>Farkasos Piroska</td><td>Bevezetés az ürgeöntésbe</td><td>VP 203.</td><td>9.30</td></tr>",
                            "<tr><td>190</td><td>Farkasos Piroska</td><td>Bevezetés az ürgeöntésbe</td><td>E.2.238</td><td>11.00</td></tr>",
                            "<tr><td>191</td><td>Varga Kata</td><td>Az ürgeöntés hydrológiai alapjai II.</td><td>220</td><td>14.00</td></tr>",
                            "<tr><td>192</td><td>Varga Kata</td><td>Az ürgeöntés hydrológiai alapjai II.</td><td>119</td><td>15.30</td></tr>",
                            "<tr><td>193</td><td>Farkasos Piroska</td><td>Az ürgeöntés hydrológiai alapjai II.</td><td>217</td><td>14.00</td></tr>",
                            "<tr><td>194</td><td>Farkasos Piroska</td><td>Az ürgeöntés hydrológiai alapjai II.</td><td>E.fsz.I</td><td>15.30</td></tr>",
                            "<tr><td>195</td><td>Balkán András</td><td>Az ürgeöntés hydrológiai alapjai II.</td><td>116</td><td>14.00</td></tr>",
                            "<tr><td>196</td><td>Balkán András</td><td>Az ürgeöntés hydrológiai alapjai II.</td><td>218</td><td>15.30</td></tr>",
                            "<tr><td>197</td><td>Farkasos Piroska</td><td>Az ürgeöntés hydrológiai alapjai II.</td><td>116</td><td>8.00</td></tr>",
                            "<tr><td>198</td><td>Farkasos Piroska</td><td>Az ürgeöntés hydrológiai alapjai II.</td><td>119</td><td>9.30</td></tr>",
                            "<tr><td>199</td><td>Szabó Andrera</td><td>Az ürgeöntés hydrológiai alapjai II.</td><td>218</td><td>8.00</td></tr>",
                            "<tr><td>200</td><td>Szabó Andrera</td><td>Az ürgeöntés hydrológiai alapjai II.</td><td>220</td><td>9.30</td></tr>",
                            "<tr><td>201</td><td>Juhász András</td><td>Öntési gyakorlat</td><td>E.2.238</td><td>12.30</td></tr>",
                            "<tr><td>202</td><td>Juhász András</td><td>Öntési gyakorlat</td><td>E.3.332</td><td>14.00</td></tr>",
                            "<tr><td>203</td><td>Aranyi Mária</td><td>Az ürgeöntés hydrológiai alapjai I.</td><td>S.Asor.S3</td><td>12.30</td></tr>",
                            "<tr><td>204</td><td>Róbert Gida</td><td>Az ürgeöntés hydrológiai alapjai I.</td><td>120</td><td>14.00</td></tr>",
                            "<tr><td>205</td><td>Ujfalussi István</td><td>Az öntés elmélete</td><td>220</td><td>12.30</td></tr>",
                            "<tr><td>206</td><td>Varga Kata</td><td>Az öntés elmélete</td><td>S.Asor.S3</td><td>8.00</td></tr>",
                            "<tr><td>207</td><td>Varga Kata</td><td>Az öntés elmélete</td><td>219</td><td>12.30</td></tr>",
                            "<tr><td>208</td><td>Jogrerős Pál</td><td>Ürgevitel</td><td>VP 203.</td><td>8.00</td></tr>",
                            "<tr><td>209</td><td>Jogrerős Pál</td><td>Ürgevitel</td><td>VP 203.</td><td>9.30</td></tr>",
                            "<tr><td>210</td><td>Szép llonka</td><td>Ürgeöntés az EU-ban</td><td>E.2.238</td><td>15.30</td></tr>",
                            "<tr><td>211</td><td>Szép llonka</td><td>Ürgeöntés az EU-ban</td><td>217</td><td>17.00</td></tr>",
                            "<tr><td>212</td><td>Kiss János</td><td>Ürgeöntés az EU-ban</td><td>120</td><td>18.30</td></tr>",
                            "<tr><td>213</td><td>Kiss János</td><td>Ürgeöntés az EU-ban</td><td>218</td><td>20.00</td></tr>",
                            "<tr><td>214</td><td>Pelikán József</td><td>Az ürge anatómiája</td><td>219</td><td>11.00</td></tr>",
                            "<tr><td>215</td><td>Pelikán József</td><td>Az ürge anatómiája</td><td>E.fsz.IV.</td><td>12.30</td></tr>",
                            "<tr><td>216</td><td>Szép llonka</td><td>Az ürge anatómiája</td><td>218</td><td>11.00</td></tr>",
                            "<tr><td>217</td><td>Szép llonka</td><td>Az ürge anatómiája</td><td>217</td><td>12.30</td></tr>",
                            "<tr><td>218</td><td>Pelikán József</td><td>Az ürge anatómiája</td><td>118</td><td>15.30</td></tr>",
                            "<tr><td>219</td><td>Pelikán József</td><td>Az ürge anatómiája</td><td>219</td><td>17.00</td></tr>",
                            "<tr><td>220</td><td>Kovács László</td><td>Fejezetek az ürgék jogaiból</td><td>119</td><td>11.00</td></tr>",
                            "<tr><td>221</td><td>Kovács László</td><td>Fejezetek az ürgék jogaiból</td><td>VP 203.</td><td>11.00</td></tr>",
                            "<tr><td>222</td><td>Kovács László</td><td>Fejezetek az ürgék jogaiból</td><td>116</td><td>14.00</td></tr>",
                            "<tr><td>223</td><td>Kovács László</td><td>Fejezetek az ürgék jogaiból</td><td>S.Asor.S3</td><td>8.00</td></tr>",
                            "<tr><td>226</td><td>Szentágotai Istvás</td><td>ürgefőzés</td><td>117</td><td>11.00</td></tr>",
                            "<tr><td>227</td><td>Szentágotai Istvás</td><td>Az ürgeöntés hydrológiai alapjai I.</td><td>116</td><td>14.00</td></tr>",
                            "</table>"
                        ]
                    }
                }
            ],
            "execution_count": 21
        },
        {
            "cell_type": "markdown",
            "source": [
                "<mark>12. <span style=\"color: rgb(36, 41, 47); font-family: -apple-system, BlinkMacSystemFont, &quot;Segoe UI&quot;, Helvetica, Arial, sans-serif, &quot;Apple Color Emoji&quot;, &quot;Segoe UI Emoji&quot;; font-size: 16px;\">Készítsünk listát, amely tartalmazza az egyes órák azonosítóit, és az órán oktatott tantárgy felelősének nevét!</span></mark>\n",
                "\n",
                "1. Rendezzük a listát a tantárgyfelelős neve szerint csökkenő sorrendbe!"
            ],
            "metadata": {
                "azdata_cell_guid": "a765e9d6-58b3-4171-872a-78f3118fd6e3"
            },
            "attachments": {}
        },
        {
            "cell_type": "code",
            "source": [
                "SELECT o.ora_id, okt.nev\r\n",
                "FROM Oktatok okt JOIN Orak o ON okt.oktato_id = o.tanar\r\n",
                "                JOIN Tantárgyak t ON o.targy = t.Tkód\r\n",
                "ORDER BY okt.nev DESC"
            ],
            "metadata": {
                "azdata_cell_guid": "422e8127-b652-4d3a-bfd7-9b1637b5781e",
                "language": "sql"
            },
            "outputs": [
                {
                    "output_type": "display_data",
                    "data": {
                        "text/html": "(67 rows affected)"
                    },
                    "metadata": {}
                },
                {
                    "output_type": "display_data",
                    "data": {
                        "text/html": "Total execution time: 00:00:00.060"
                    },
                    "metadata": {}
                },
                {
                    "output_type": "execute_result",
                    "metadata": {},
                    "execution_count": 23,
                    "data": {
                        "application/vnd.dataresource+json": {
                            "schema": {
                                "fields": [
                                    {
                                        "name": "ora_id"
                                    },
                                    {
                                        "name": "nev"
                                    }
                                ]
                            },
                            "data": [
                                {
                                    "ora_id": "178",
                                    "nev": "Vitéz János"
                                },
                                {
                                    "ora_id": "180",
                                    "nev": "Vitéz János"
                                },
                                {
                                    "ora_id": "182",
                                    "nev": "Vitéz János"
                                },
                                {
                                    "ora_id": "184",
                                    "nev": "Vitéz János"
                                },
                                {
                                    "ora_id": "191",
                                    "nev": "Varga Kata"
                                },
                                {
                                    "ora_id": "192",
                                    "nev": "Varga Kata"
                                },
                                {
                                    "ora_id": "206",
                                    "nev": "Varga Kata"
                                },
                                {
                                    "ora_id": "207",
                                    "nev": "Varga Kata"
                                },
                                {
                                    "ora_id": "205",
                                    "nev": "Ujfalussi István"
                                },
                                {
                                    "ora_id": "159",
                                    "nev": "Ujfalussi István"
                                },
                                {
                                    "ora_id": "168",
                                    "nev": "Ujfalussi István"
                                },
                                {
                                    "ora_id": "163",
                                    "nev": "Szerb László"
                                },
                                {
                                    "ora_id": "165",
                                    "nev": "Szerb László"
                                },
                                {
                                    "ora_id": "166",
                                    "nev": "Szerb László"
                                },
                                {
                                    "ora_id": "216",
                                    "nev": "Szép llonka"
                                },
                                {
                                    "ora_id": "217",
                                    "nev": "Szép llonka"
                                },
                                {
                                    "ora_id": "210",
                                    "nev": "Szép llonka"
                                },
                                {
                                    "ora_id": "211",
                                    "nev": "Szép llonka"
                                },
                                {
                                    "ora_id": "226",
                                    "nev": "Szentágotai Istvás"
                                },
                                {
                                    "ora_id": "227",
                                    "nev": "Szentágotai Istvás"
                                },
                                {
                                    "ora_id": "167",
                                    "nev": "Szentágotai Istvás"
                                },
                                {
                                    "ora_id": "185",
                                    "nev": "Szentágotai Istvás"
                                },
                                {
                                    "ora_id": "183",
                                    "nev": "Szentágotai Istvás"
                                },
                                {
                                    "ora_id": "181",
                                    "nev": "Szentágotai Istvás"
                                },
                                {
                                    "ora_id": "179",
                                    "nev": "Szentágotai Istvás"
                                },
                                {
                                    "ora_id": "177",
                                    "nev": "Szentágotai Istvás"
                                },
                                {
                                    "ora_id": "171",
                                    "nev": "Szénási ászló"
                                },
                                {
                                    "ora_id": "175",
                                    "nev": "Szénási ászló"
                                },
                                {
                                    "ora_id": "199",
                                    "nev": "Szabó Andrera"
                                },
                                {
                                    "ora_id": "200",
                                    "nev": "Szabó Andrera"
                                },
                                {
                                    "ora_id": "204",
                                    "nev": "Róbert Gida"
                                },
                                {
                                    "ora_id": "214",
                                    "nev": "Pelikán József"
                                },
                                {
                                    "ora_id": "215",
                                    "nev": "Pelikán József"
                                },
                                {
                                    "ora_id": "218",
                                    "nev": "Pelikán József"
                                },
                                {
                                    "ora_id": "219",
                                    "nev": "Pelikán József"
                                },
                                {
                                    "ora_id": "160",
                                    "nev": "Pelikán József"
                                },
                                {
                                    "ora_id": "161",
                                    "nev": "Pelikán József"
                                },
                                {
                                    "ora_id": "186",
                                    "nev": "Nógrádi Kata"
                                },
                                {
                                    "ora_id": "174",
                                    "nev": "Ludas Mátyás"
                                },
                                {
                                    "ora_id": "170",
                                    "nev": "Ludas Mátyás"
                                },
                                {
                                    "ora_id": "220",
                                    "nev": "Kovács László"
                                },
                                {
                                    "ora_id": "221",
                                    "nev": "Kovács László"
                                },
                                {
                                    "ora_id": "222",
                                    "nev": "Kovács László"
                                },
                                {
                                    "ora_id": "223",
                                    "nev": "Kovács László"
                                },
                                {
                                    "ora_id": "173",
                                    "nev": "Kovács András"
                                },
                                {
                                    "ora_id": "176",
                                    "nev": "Kovács András"
                                },
                                {
                                    "ora_id": "169",
                                    "nev": "Kovács András"
                                },
                                {
                                    "ora_id": "162",
                                    "nev": "Kovács András"
                                },
                                {
                                    "ora_id": "164",
                                    "nev": "Kiss János"
                                },
                                {
                                    "ora_id": "172",
                                    "nev": "Kiss János"
                                },
                                {
                                    "ora_id": "212",
                                    "nev": "Kiss János"
                                },
                                {
                                    "ora_id": "213",
                                    "nev": "Kiss János"
                                },
                                {
                                    "ora_id": "201",
                                    "nev": "Juhász András"
                                },
                                {
                                    "ora_id": "202",
                                    "nev": "Juhász András"
                                },
                                {
                                    "ora_id": "208",
                                    "nev": "Jogrerős Pál"
                                },
                                {
                                    "ora_id": "209",
                                    "nev": "Jogrerős Pál"
                                },
                                {
                                    "ora_id": "188",
                                    "nev": "Farkasos Piroska"
                                },
                                {
                                    "ora_id": "189",
                                    "nev": "Farkasos Piroska"
                                },
                                {
                                    "ora_id": "190",
                                    "nev": "Farkasos Piroska"
                                },
                                {
                                    "ora_id": "197",
                                    "nev": "Farkasos Piroska"
                                },
                                {
                                    "ora_id": "198",
                                    "nev": "Farkasos Piroska"
                                },
                                {
                                    "ora_id": "193",
                                    "nev": "Farkasos Piroska"
                                },
                                {
                                    "ora_id": "194",
                                    "nev": "Farkasos Piroska"
                                },
                                {
                                    "ora_id": "195",
                                    "nev": "Balkán András"
                                },
                                {
                                    "ora_id": "196",
                                    "nev": "Balkán András"
                                },
                                {
                                    "ora_id": "187",
                                    "nev": "Balkán András"
                                },
                                {
                                    "ora_id": "203",
                                    "nev": "Aranyi Mária"
                                }
                            ]
                        },
                        "text/html": [
                            "<table>",
                            "<tr><th>ora_id</th><th>nev</th></tr>",
                            "<tr><td>178</td><td>Vitéz János</td></tr>",
                            "<tr><td>180</td><td>Vitéz János</td></tr>",
                            "<tr><td>182</td><td>Vitéz János</td></tr>",
                            "<tr><td>184</td><td>Vitéz János</td></tr>",
                            "<tr><td>191</td><td>Varga Kata</td></tr>",
                            "<tr><td>192</td><td>Varga Kata</td></tr>",
                            "<tr><td>206</td><td>Varga Kata</td></tr>",
                            "<tr><td>207</td><td>Varga Kata</td></tr>",
                            "<tr><td>205</td><td>Ujfalussi István</td></tr>",
                            "<tr><td>159</td><td>Ujfalussi István</td></tr>",
                            "<tr><td>168</td><td>Ujfalussi István</td></tr>",
                            "<tr><td>163</td><td>Szerb László</td></tr>",
                            "<tr><td>165</td><td>Szerb László</td></tr>",
                            "<tr><td>166</td><td>Szerb László</td></tr>",
                            "<tr><td>216</td><td>Szép llonka</td></tr>",
                            "<tr><td>217</td><td>Szép llonka</td></tr>",
                            "<tr><td>210</td><td>Szép llonka</td></tr>",
                            "<tr><td>211</td><td>Szép llonka</td></tr>",
                            "<tr><td>226</td><td>Szentágotai Istvás</td></tr>",
                            "<tr><td>227</td><td>Szentágotai Istvás</td></tr>",
                            "<tr><td>167</td><td>Szentágotai Istvás</td></tr>",
                            "<tr><td>185</td><td>Szentágotai Istvás</td></tr>",
                            "<tr><td>183</td><td>Szentágotai Istvás</td></tr>",
                            "<tr><td>181</td><td>Szentágotai Istvás</td></tr>",
                            "<tr><td>179</td><td>Szentágotai Istvás</td></tr>",
                            "<tr><td>177</td><td>Szentágotai Istvás</td></tr>",
                            "<tr><td>171</td><td>Szénási ászló</td></tr>",
                            "<tr><td>175</td><td>Szénási ászló</td></tr>",
                            "<tr><td>199</td><td>Szabó Andrera</td></tr>",
                            "<tr><td>200</td><td>Szabó Andrera</td></tr>",
                            "<tr><td>204</td><td>Róbert Gida</td></tr>",
                            "<tr><td>214</td><td>Pelikán József</td></tr>",
                            "<tr><td>215</td><td>Pelikán József</td></tr>",
                            "<tr><td>218</td><td>Pelikán József</td></tr>",
                            "<tr><td>219</td><td>Pelikán József</td></tr>",
                            "<tr><td>160</td><td>Pelikán József</td></tr>",
                            "<tr><td>161</td><td>Pelikán József</td></tr>",
                            "<tr><td>186</td><td>Nógrádi Kata</td></tr>",
                            "<tr><td>174</td><td>Ludas Mátyás</td></tr>",
                            "<tr><td>170</td><td>Ludas Mátyás</td></tr>",
                            "<tr><td>220</td><td>Kovács László</td></tr>",
                            "<tr><td>221</td><td>Kovács László</td></tr>",
                            "<tr><td>222</td><td>Kovács László</td></tr>",
                            "<tr><td>223</td><td>Kovács László</td></tr>",
                            "<tr><td>173</td><td>Kovács András</td></tr>",
                            "<tr><td>176</td><td>Kovács András</td></tr>",
                            "<tr><td>169</td><td>Kovács András</td></tr>",
                            "<tr><td>162</td><td>Kovács András</td></tr>",
                            "<tr><td>164</td><td>Kiss János</td></tr>",
                            "<tr><td>172</td><td>Kiss János</td></tr>",
                            "<tr><td>212</td><td>Kiss János</td></tr>",
                            "<tr><td>213</td><td>Kiss János</td></tr>",
                            "<tr><td>201</td><td>Juhász András</td></tr>",
                            "<tr><td>202</td><td>Juhász András</td></tr>",
                            "<tr><td>208</td><td>Jogrerős Pál</td></tr>",
                            "<tr><td>209</td><td>Jogrerős Pál</td></tr>",
                            "<tr><td>188</td><td>Farkasos Piroska</td></tr>",
                            "<tr><td>189</td><td>Farkasos Piroska</td></tr>",
                            "<tr><td>190</td><td>Farkasos Piroska</td></tr>",
                            "<tr><td>197</td><td>Farkasos Piroska</td></tr>",
                            "<tr><td>198</td><td>Farkasos Piroska</td></tr>",
                            "<tr><td>193</td><td>Farkasos Piroska</td></tr>",
                            "<tr><td>194</td><td>Farkasos Piroska</td></tr>",
                            "<tr><td>195</td><td>Balkán András</td></tr>",
                            "<tr><td>196</td><td>Balkán András</td></tr>",
                            "<tr><td>187</td><td>Balkán András</td></tr>",
                            "<tr><td>203</td><td>Aranyi Mária</td></tr>",
                            "</table>"
                        ]
                    }
                }
            ],
            "execution_count": 23
        },
        {
            "cell_type": "markdown",
            "source": [
                "<mark>13. <span style=\"color: rgb(36, 41, 47); font-family: -apple-system, BlinkMacSystemFont, &quot;Segoe UI&quot;, Helvetica, Arial, sans-serif, &quot;Apple Color Emoji&quot;, &quot;Segoe UI Emoji&quot;; font-size: 16px;\">Készítsünk listát, amely megjeleníti, hogy az Orak táblában lévő órák közül hányat tart Dr., illetve nem Dr. titulusú tanár!</span></mark>\n",
                "\n",
                "1. Az oszlopokat nevezzük el értelemszerűen!"
            ],
            "metadata": {
                "azdata_cell_guid": "3f9237ae-f109-401c-acb9-31d75e73331b"
            },
            "attachments": {}
        },
        {
            "cell_type": "code",
            "source": [
                "SELECT IIF(LEFT(okt.titulus, 2) = 'Dr', 'Dr.', 'Nem Dr.'), COUNT(*)\r\n",
                "FROM Oktatok okt JOIN Orak o ON okt.oktato_id = o.tanar\r\n",
                "GROUP BY IIF(LEFT(okt.titulus, 2) = 'Dr', 'Dr.', 'Nem Dr.')"
            ],
            "metadata": {
                "azdata_cell_guid": "4b31bb89-cfbc-46b1-8639-85c462877786",
                "language": "sql"
            },
            "outputs": [
                {
                    "output_type": "display_data",
                    "data": {
                        "text/html": "(2 rows affected)"
                    },
                    "metadata": {}
                },
                {
                    "output_type": "display_data",
                    "data": {
                        "text/html": "Total execution time: 00:00:00.017"
                    },
                    "metadata": {}
                },
                {
                    "output_type": "execute_result",
                    "metadata": {},
                    "execution_count": 24,
                    "data": {
                        "application/vnd.dataresource+json": {
                            "schema": {
                                "fields": [
                                    {
                                        "name": "(No column name)"
                                    },
                                    {
                                        "name": "(No column name)"
                                    }
                                ]
                            },
                            "data": [
                                {
                                    "(No column name)": "25"
                                },
                                {
                                    "(No column name)": "42"
                                }
                            ]
                        },
                        "text/html": [
                            "<table>",
                            "<tr><th>(No column name)</th><th>(No column name)</th></tr>",
                            "<tr><td>Dr.</td><td>25</td></tr>",
                            "<tr><td>Nem Dr.</td><td>42</td></tr>",
                            "</table>"
                        ]
                    }
                }
            ],
            "execution_count": 24
        },
        {
            "cell_type": "markdown",
            "source": [
                "<mark>14. <span style=\"color: rgb(36, 41, 47); font-family: -apple-system, BlinkMacSystemFont, &quot;Segoe UI&quot;, Helvetica, Arial, sans-serif, &quot;Apple Color Emoji&quot;, &quot;Segoe UI Emoji&quot;; font-size: 16px;\">Készítsünk listát arról, hogy beosztásonként hány óra szerepel az Orak táblában!</span></mark>\n",
                "\n",
                "1. Jelenítsük meg a beosztások nevét és az órák számát!\n",
                "2. A listát szűrjük azokra a beosztásokra, ahol ez az óraszám 10 feletti!"
            ],
            "metadata": {
                "azdata_cell_guid": "f634e09a-85ef-4e70-8ec6-ef355dfddaa7"
            },
            "attachments": {}
        },
        {
            "cell_type": "code",
            "source": [
                "SELECT b.beosztasnev, COUNT(o.ora_id)\r\n",
                "FROM Beosztasok b JOIN Oktatok okt ON b.beosztas_id = okt.beosztás\r\n",
                "                  JOIN Orak o ON okt.oktato_id = o.tanar\r\n",
                "GROUP BY b.beosztasnev\r\n",
                "HAVING COUNT(o.ora_id) > 10"
            ],
            "metadata": {
                "azdata_cell_guid": "88abc55b-2c78-495b-a72f-3f8f4eb5fe70",
                "language": "sql",
                "tags": []
            },
            "outputs": [
                {
                    "output_type": "display_data",
                    "data": {
                        "text/html": "(3 rows affected)"
                    },
                    "metadata": {}
                },
                {
                    "output_type": "display_data",
                    "data": {
                        "text/html": "Total execution time: 00:00:00.047"
                    },
                    "metadata": {}
                },
                {
                    "output_type": "execute_result",
                    "metadata": {},
                    "execution_count": 25,
                    "data": {
                        "application/vnd.dataresource+json": {
                            "schema": {
                                "fields": [
                                    {
                                        "name": "beosztasnev"
                                    },
                                    {
                                        "name": "(No column name)"
                                    }
                                ]
                            },
                            "data": [
                                {
                                    "beosztasnev": "Adjunktus",
                                    "(No column name)": "14"
                                },
                                {
                                    "beosztasnev": "Egyetemi tanár",
                                    "(No column name)": "11"
                                },
                                {
                                    "beosztasnev": "Tanársegéd",
                                    "(No column name)": "22"
                                }
                            ]
                        },
                        "text/html": [
                            "<table>",
                            "<tr><th>beosztasnev</th><th>(No column name)</th></tr>",
                            "<tr><td>Adjunktus</td><td>14</td></tr>",
                            "<tr><td>Egyetemi tanár</td><td>11</td></tr>",
                            "<tr><td>Tanársegéd</td><td>22</td></tr>",
                            "</table>"
                        ]
                    }
                }
            ],
            "execution_count": 25
        },
        {
            "cell_type": "markdown",
            "source": [
                "<mark>15. <span style=\"color: rgb(36, 41, 47); font-family: -apple-system, BlinkMacSystemFont, &quot;Segoe UI&quot;, Helvetica, Arial, sans-serif, &quot;Apple Color Emoji&quot;, &quot;Segoe UI Emoji&quot;; font-size: 16px;\">Melyek azok az órák, amelyek kezdési időpontja olyan sávba esik, amely a mostani időpont (óra:perc) után van?</span></mark>\n",
                "\n",
                "1. Listázzuk az órák azonosítóit, valamint az órakezdés napját és időpontját!\n",
                "2. A listát rendezzük az időpont szerint növekvő sorrendbe!"
            ],
            "metadata": {
                "azdata_cell_guid": "4cbf2f0d-a65d-480a-8186-ccdb24498443"
            },
            "attachments": {}
        },
        {
            "cell_type": "code",
            "source": [
                "SELECT n.nap, s.Időpont\r\n",
                "FROM Napok n JOIN Orak o ON n.nap_id = o.nap JOIN Savok s ON o.Sav = s.Sav_id\r\n",
                "WHERE cast(LEFT(időpont, CHARINDEX('.',időpont)-1)+':'+RIGHT(időpont,2) as time) > CAST(GETDATE() AS time)\r\n",
                "ORDER BY  cast(LEFT(időpont, CHARINDEX('.',időpont)-1)+':'+RIGHT(időpont,2) as time)"
            ],
            "metadata": {
                "azdata_cell_guid": "c148aee8-bc85-40bf-b80a-a4898a6c05cb",
                "language": "sql"
            },
            "outputs": [],
            "execution_count": null
        }
    ]
}