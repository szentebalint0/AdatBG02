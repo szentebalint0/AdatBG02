{
    "metadata": {
        "kernelspec": {
            "name": "SQL",
            "display_name": "SQL",
            "language": "sql"
        },
        "language_info": {
            "name": "sql",
            "version": ""
        },
        "extensions": {
            "azuredatastudio": {
                "version": 1,
                "views": []
            }
        }
    },
    "nbformat_minor": 2,
    "nbformat": 4,
    "cells": [
        {
            "cell_type": "markdown",
            "source": [
                "**Az első 5 feladat ismétlés (többtáblás lekérdezések) a tanulmányi adatbázisból**\n",
                "\n",
                "1. Készítsünk listát arról, hogy melyik óra melyik teremben van!\n",
                "    \n",
                "    1. Jelenítsük meg az óra azonosítóját és a terem nevét!\n",
                "    2. A listát szűrjük a 3 karakter hosszú, \\[100;199\\] zárt intervallumba eső termekre! Feltesszük, hogy a 3 karakter hosszú terem nevek csak számjegyeket tartalmaznak."
            ],
            "metadata": {
                "azdata_cell_guid": "77f2d5b3-38e9-41cc-893f-f5afd02b97ef"
            },
            "attachments": {}
        },
        {
            "cell_type": "code",
            "source": [
                "SELECT o.ora_id, t.Terem\r\n",
                "FROM Orak o JOIN Termek t ON o.terem= t.Tkód\r\n",
                "WHERE len(t.Terem) = 3 AND t.Terem BETWEEN '100' AND '199'"
            ],
            "metadata": {
                "azdata_cell_guid": "bd3cef1a-4e6e-4ece-9dc3-aaa9d2b5d66d",
                "language": "sql"
            },
            "outputs": [
                {
                    "output_type": "display_data",
                    "data": {
                        "text/html": "(30 rows affected)"
                    },
                    "metadata": {}
                },
                {
                    "output_type": "display_data",
                    "data": {
                        "text/html": "Total execution time: 00:00:00.022"
                    },
                    "metadata": {}
                },
                {
                    "output_type": "execute_result",
                    "metadata": {},
                    "execution_count": 7,
                    "data": {
                        "application/vnd.dataresource+json": {
                            "schema": {
                                "fields": [
                                    {
                                        "name": "ora_id"
                                    },
                                    {
                                        "name": "Terem"
                                    }
                                ]
                            },
                            "data": [
                                {
                                    "ora_id": "159",
                                    "Terem": "117"
                                },
                                {
                                    "ora_id": "160",
                                    "Terem": "118"
                                },
                                {
                                    "ora_id": "161",
                                    "Terem": "118"
                                },
                                {
                                    "ora_id": "162",
                                    "Terem": "119"
                                },
                                {
                                    "ora_id": "163",
                                    "Terem": "120"
                                },
                                {
                                    "ora_id": "164",
                                    "Terem": "119"
                                },
                                {
                                    "ora_id": "165",
                                    "Terem": "119"
                                },
                                {
                                    "ora_id": "166",
                                    "Terem": "119"
                                },
                                {
                                    "ora_id": "167",
                                    "Terem": "120"
                                },
                                {
                                    "ora_id": "170",
                                    "Terem": "120"
                                },
                                {
                                    "ora_id": "172",
                                    "Terem": "119"
                                },
                                {
                                    "ora_id": "173",
                                    "Terem": "119"
                                },
                                {
                                    "ora_id": "175",
                                    "Terem": "120"
                                },
                                {
                                    "ora_id": "176",
                                    "Terem": "118"
                                },
                                {
                                    "ora_id": "177",
                                    "Terem": "119"
                                },
                                {
                                    "ora_id": "179",
                                    "Terem": "120"
                                },
                                {
                                    "ora_id": "180",
                                    "Terem": "119"
                                },
                                {
                                    "ora_id": "181",
                                    "Terem": "118"
                                },
                                {
                                    "ora_id": "185",
                                    "Terem": "120"
                                },
                                {
                                    "ora_id": "192",
                                    "Terem": "119"
                                },
                                {
                                    "ora_id": "195",
                                    "Terem": "116"
                                },
                                {
                                    "ora_id": "197",
                                    "Terem": "116"
                                },
                                {
                                    "ora_id": "198",
                                    "Terem": "119"
                                },
                                {
                                    "ora_id": "204",
                                    "Terem": "120"
                                },
                                {
                                    "ora_id": "212",
                                    "Terem": "120"
                                },
                                {
                                    "ora_id": "218",
                                    "Terem": "118"
                                },
                                {
                                    "ora_id": "220",
                                    "Terem": "119"
                                },
                                {
                                    "ora_id": "222",
                                    "Terem": "116"
                                },
                                {
                                    "ora_id": "226",
                                    "Terem": "117"
                                },
                                {
                                    "ora_id": "227",
                                    "Terem": "116"
                                }
                            ]
                        },
                        "text/html": [
                            "<table>",
                            "<tr><th>ora_id</th><th>Terem</th></tr>",
                            "<tr><td>159</td><td>117</td></tr>",
                            "<tr><td>160</td><td>118</td></tr>",
                            "<tr><td>161</td><td>118</td></tr>",
                            "<tr><td>162</td><td>119</td></tr>",
                            "<tr><td>163</td><td>120</td></tr>",
                            "<tr><td>164</td><td>119</td></tr>",
                            "<tr><td>165</td><td>119</td></tr>",
                            "<tr><td>166</td><td>119</td></tr>",
                            "<tr><td>167</td><td>120</td></tr>",
                            "<tr><td>170</td><td>120</td></tr>",
                            "<tr><td>172</td><td>119</td></tr>",
                            "<tr><td>173</td><td>119</td></tr>",
                            "<tr><td>175</td><td>120</td></tr>",
                            "<tr><td>176</td><td>118</td></tr>",
                            "<tr><td>177</td><td>119</td></tr>",
                            "<tr><td>179</td><td>120</td></tr>",
                            "<tr><td>180</td><td>119</td></tr>",
                            "<tr><td>181</td><td>118</td></tr>",
                            "<tr><td>185</td><td>120</td></tr>",
                            "<tr><td>192</td><td>119</td></tr>",
                            "<tr><td>195</td><td>116</td></tr>",
                            "<tr><td>197</td><td>116</td></tr>",
                            "<tr><td>198</td><td>119</td></tr>",
                            "<tr><td>204</td><td>120</td></tr>",
                            "<tr><td>212</td><td>120</td></tr>",
                            "<tr><td>218</td><td>118</td></tr>",
                            "<tr><td>220</td><td>119</td></tr>",
                            "<tr><td>222</td><td>116</td></tr>",
                            "<tr><td>226</td><td>117</td></tr>",
                            "<tr><td>227</td><td>116</td></tr>",
                            "</table>"
                        ]
                    }
                }
            ],
            "execution_count": 7
        },
        {
            "cell_type": "markdown",
            "source": [
                "1. <mark>2. <span style=\"font-weight: 600; color: rgb(36, 41, 47); font-family: -apple-system, BlinkMacSystemFont, &quot;Segoe UI&quot;, Helvetica, Arial, sans-serif, &quot;Apple Color Emoji&quot;, &quot;Segoe UI Emoji&quot;; font-size: 16px;\">Hány óra van összesen az egyes napokon?</span></mark>\n",
                "2. Jelenítsük meg a napok nevét és az órák számát az adott napon!\n",
                "3. Az oszlopokat nevezzük el értelemszerűen!\n",
                "4. A listát rendezzük óraszám szerint növekvő sorrendbe!"
            ],
            "metadata": {
                "azdata_cell_guid": "88f5b4bb-f4c1-4bad-a0c7-b2592687b422"
            },
            "attachments": {}
        },
        {
            "cell_type": "code",
            "source": [
                "SELECT n.nap, COUNT(*)\r\n",
                "FROM Orak o JOIN Napok n ON o.nap = n.nap_id \r\n",
                "GROUP BY n.nap\r\n",
                "ORDER BY COUNT(*) ASC"
            ],
            "metadata": {
                "azdata_cell_guid": "9e07ee4d-b168-463e-a43f-077a57b0ab45",
                "language": "sql"
            },
            "outputs": [
                {
                    "output_type": "display_data",
                    "data": {
                        "text/html": "(5 rows affected)"
                    },
                    "metadata": {}
                },
                {
                    "output_type": "display_data",
                    "data": {
                        "text/html": "Total execution time: 00:00:00.021"
                    },
                    "metadata": {}
                },
                {
                    "output_type": "execute_result",
                    "metadata": {},
                    "execution_count": 8,
                    "data": {
                        "application/vnd.dataresource+json": {
                            "schema": {
                                "fields": [
                                    {
                                        "name": "nap"
                                    },
                                    {
                                        "name": "(No column name)"
                                    }
                                ]
                            },
                            "data": [
                                {
                                    "nap": "Péntek",
                                    "(No column name)": "6"
                                },
                                {
                                    "nap": "Szerda",
                                    "(No column name)": "6"
                                },
                                {
                                    "nap": "Kedd",
                                    "(No column name)": "13"
                                },
                                {
                                    "nap": "Csütörtök",
                                    "(No column name)": "19"
                                },
                                {
                                    "nap": "Hétfő",
                                    "(No column name)": "23"
                                }
                            ]
                        },
                        "text/html": [
                            "<table>",
                            "<tr><th>nap</th><th>(No column name)</th></tr>",
                            "<tr><td>Péntek</td><td>6</td></tr>",
                            "<tr><td>Szerda</td><td>6</td></tr>",
                            "<tr><td>Kedd</td><td>13</td></tr>",
                            "<tr><td>Csütörtök</td><td>19</td></tr>",
                            "<tr><td>Hétfő</td><td>23</td></tr>",
                            "</table>"
                        ]
                    }
                }
            ],
            "execution_count": 8
        },
        {
            "cell_type": "markdown",
            "source": [
                "<mark>3. <span style=\"font-weight: 600; color: rgb(36, 41, 47); font-family: -apple-system, BlinkMacSystemFont, &quot;Segoe UI&quot;, Helvetica, Arial, sans-serif, &quot;Apple Color Emoji&quot;, &quot;Segoe UI Emoji&quot;; font-size: 16px;\">Készítsünk listát arról, hogy melyik oktatónak hány órája van az Órák táblában!</span></mark>\n",
                "\n",
                "1. A lista jelenítse meg az oktatók nevét, és az órák számát!\n",
                "2. Az oszlopokat nevezzük el értelemszerűen!\n",
                "3. A listából hagyjuk ki az óraadókat!"
            ],
            "metadata": {
                "azdata_cell_guid": "9e7249de-1b59-43d8-84b1-26fa7d81fc5a"
            },
            "attachments": {}
        },
        {
            "cell_type": "code",
            "source": [
                "SELECT okt.nev, count(*)\r\n",
                "FROM Orak o JOIN Oktatok okt ON o.tanar = okt.oktato_id JOIN Beosztasok b ON okt.beosztás = b.beosztas_id\r\n",
                "WHERE b.beosztasnev <> 'Óraadó'\r\n",
                "GROUP BY okt.nev"
            ],
            "metadata": {
                "azdata_cell_guid": "6405d3e8-a9b1-45d7-aa76-3b1e785ef6cc",
                "language": "sql"
            },
            "outputs": [
                {
                    "output_type": "display_data",
                    "data": {
                        "text/html": "(15 rows affected)"
                    },
                    "metadata": {}
                },
                {
                    "output_type": "display_data",
                    "data": {
                        "text/html": "Total execution time: 00:00:00.020"
                    },
                    "metadata": {}
                },
                {
                    "output_type": "execute_result",
                    "metadata": {},
                    "execution_count": 9,
                    "data": {
                        "application/vnd.dataresource+json": {
                            "schema": {
                                "fields": [
                                    {
                                        "name": "nev"
                                    },
                                    {
                                        "name": "(No column name)"
                                    }
                                ]
                            },
                            "data": [
                                {
                                    "nev": "Balkán András",
                                    "(No column name)": "3"
                                },
                                {
                                    "nev": "Farkasos Piroska",
                                    "(No column name)": "7"
                                },
                                {
                                    "nev": "Jogrerős Pál",
                                    "(No column name)": "2"
                                },
                                {
                                    "nev": "Juhász András",
                                    "(No column name)": "2"
                                },
                                {
                                    "nev": "Kiss János",
                                    "(No column name)": "4"
                                },
                                {
                                    "nev": "Kovács László",
                                    "(No column name)": "4"
                                },
                                {
                                    "nev": "Pelikán József",
                                    "(No column name)": "6"
                                },
                                {
                                    "nev": "Róbert Gida",
                                    "(No column name)": "1"
                                },
                                {
                                    "nev": "Szénási ászló",
                                    "(No column name)": "2"
                                },
                                {
                                    "nev": "Szentágotai Istvás",
                                    "(No column name)": "8"
                                },
                                {
                                    "nev": "Szép llonka",
                                    "(No column name)": "4"
                                },
                                {
                                    "nev": "Szerb László",
                                    "(No column name)": "3"
                                },
                                {
                                    "nev": "Ujfalussi István",
                                    "(No column name)": "3"
                                },
                                {
                                    "nev": "Varga Kata",
                                    "(No column name)": "4"
                                },
                                {
                                    "nev": "Vitéz János",
                                    "(No column name)": "4"
                                }
                            ]
                        },
                        "text/html": [
                            "<table>",
                            "<tr><th>nev</th><th>(No column name)</th></tr>",
                            "<tr><td>Balkán András</td><td>3</td></tr>",
                            "<tr><td>Farkasos Piroska</td><td>7</td></tr>",
                            "<tr><td>Jogrerős Pál</td><td>2</td></tr>",
                            "<tr><td>Juhász András</td><td>2</td></tr>",
                            "<tr><td>Kiss János</td><td>4</td></tr>",
                            "<tr><td>Kovács László</td><td>4</td></tr>",
                            "<tr><td>Pelikán József</td><td>6</td></tr>",
                            "<tr><td>Róbert Gida</td><td>1</td></tr>",
                            "<tr><td>Szénási ászló</td><td>2</td></tr>",
                            "<tr><td>Szentágotai Istvás</td><td>8</td></tr>",
                            "<tr><td>Szép llonka</td><td>4</td></tr>",
                            "<tr><td>Szerb László</td><td>3</td></tr>",
                            "<tr><td>Ujfalussi István</td><td>3</td></tr>",
                            "<tr><td>Varga Kata</td><td>4</td></tr>",
                            "<tr><td>Vitéz János</td><td>4</td></tr>",
                            "</table>"
                        ]
                    }
                }
            ],
            "execution_count": 9
        },
        {
            "cell_type": "markdown",
            "source": [
                "<mark>4. <span style=\"color: rgb(36, 41, 47); font-family: -apple-system, BlinkMacSystemFont, &quot;Segoe UI&quot;, Helvetica, Arial, sans-serif, &quot;Apple Color Emoji&quot;, &quot;Segoe UI Emoji&quot;; font-size: 16px;\">Van-e olyan tantárgy, amelyből nincs óra?</span></mark>\n",
                "\n",
                "1. Jelentsük meg a tantárgy nevét és a tantárgyfelelős nevét!"
            ],
            "metadata": {
                "azdata_cell_guid": "6478e469-c094-472c-a772-ccd5b5c61516"
            },
            "attachments": {}
        },
        {
            "cell_type": "code",
            "source": [
                "SELECT t.Tantárgynév, okt.nev\r\n",
                "FROM Tantárgyak t  LEFT JOIN Orak o ON t.Tkód = o.targy JOIN Oktatok okt ON t.Tantárgyfelelős = okt.oktato_id\r\n",
                "WHERE o.targy IS NULL\r\n",
                ""
            ],
            "metadata": {
                "azdata_cell_guid": "02031ea2-3838-458d-839c-228e3b362b61",
                "language": "sql"
            },
            "outputs": [
                {
                    "output_type": "display_data",
                    "data": {
                        "text/html": "(1 row affected)"
                    },
                    "metadata": {}
                },
                {
                    "output_type": "display_data",
                    "data": {
                        "text/html": "Total execution time: 00:00:00.019"
                    },
                    "metadata": {}
                },
                {
                    "output_type": "execute_result",
                    "metadata": {},
                    "execution_count": 15,
                    "data": {
                        "application/vnd.dataresource+json": {
                            "schema": {
                                "fields": [
                                    {
                                        "name": "Tantárgynév"
                                    },
                                    {
                                        "name": "nev"
                                    }
                                ]
                            },
                            "data": [
                                {
                                    "Tantárgynév": "Folyami gáttan",
                                    "nev": "Varga Kata"
                                }
                            ]
                        },
                        "text/html": [
                            "<table>",
                            "<tr><th>Tantárgynév</th><th>nev</th></tr>",
                            "<tr><td>Folyami gáttan</td><td>Varga Kata</td></tr>",
                            "</table>"
                        ]
                    }
                }
            ],
            "execution_count": 15
        },
        {
            "cell_type": "markdown",
            "source": [
                "5. <span style=\"background-color: rgb(255, 255, 255); color: rgb(36, 41, 47); font-family: -apple-system, BlinkMacSystemFont, &quot;Segoe UI&quot;, Helvetica, Arial, sans-serif, &quot;Apple Color Emoji&quot;, &quot;Segoe UI Emoji&quot;; font-size: 16px;\">Hány óra van összesen a 120-as teremben?</span>"
            ],
            "metadata": {
                "azdata_cell_guid": "9edbbaf9-c276-4898-9a01-e1b2993c089f"
            },
            "attachments": {}
        },
        {
            "cell_type": "code",
            "source": [
                "SELECT t.Terem, COUNT(*) \r\n",
                "FROM Orak o JOIN Termek t ON o.terem = t.Tkód\r\n",
                "WHERE t.Terem = '120'\r\n",
                "GROUP BY t.Terem"
            ],
            "metadata": {
                "azdata_cell_guid": "5ad5fdcb-2878-4111-861a-833bcd50e935",
                "language": "sql"
            },
            "outputs": [
                {
                    "output_type": "display_data",
                    "data": {
                        "text/html": "(1 row affected)"
                    },
                    "metadata": {}
                },
                {
                    "output_type": "display_data",
                    "data": {
                        "text/html": "Total execution time: 00:00:00.020"
                    },
                    "metadata": {}
                },
                {
                    "output_type": "execute_result",
                    "metadata": {},
                    "execution_count": 16,
                    "data": {
                        "application/vnd.dataresource+json": {
                            "schema": {
                                "fields": [
                                    {
                                        "name": "Terem"
                                    },
                                    {
                                        "name": "(No column name)"
                                    }
                                ]
                            },
                            "data": [
                                {
                                    "Terem": "120",
                                    "(No column name)": "8"
                                }
                            ]
                        },
                        "text/html": [
                            "<table>",
                            "<tr><th>Terem</th><th>(No column name)</th></tr>",
                            "<tr><td>120</td><td>8</td></tr>",
                            "</table>"
                        ]
                    }
                }
            ],
            "execution_count": 16
        },
        {
            "cell_type": "markdown",
            "source": [
                "**A 6-10 feladatokat halmazműveletek segítségével oldjuk meg, szintén a tanulmányi adatbázison**\n",
                "\n",
                "6. <span style=\"background-color:rgb(255, 255, 255);color:rgb(36, 41, 47);font-family:-apple-system, BlinkMacSystemFont, &quot;Segoe UI&quot;, Helvetica, Arial, sans-serif, &quot;Apple Color Emoji&quot;, &quot;Segoe UI Emoji&quot;;font-size:16px;font-weight:600;\">Jelenítsük meg azon tanárok azonosítóját és nevét, akik hétfői vagy keddi napokon tanítanak!</span>"
            ],
            "metadata": {
                "azdata_cell_guid": "5fe65c1c-2479-45ac-ad03-ec99d12eae21"
            },
            "attachments": {}
        },
        {
            "cell_type": "code",
            "source": [
                "SELECT okt.oktato_id, okt.nev\r\n",
                "FROM Oktatok okt JOIN Orak o ON okt.oktato_id = o.tanar JOIN Napok n ON o.nap = n.nap_id\r\n",
                "WHERE n.nap = N'Hétfő'\r\n",
                "\r\n",
                "UNION \r\n",
                "\r\n",
                "SELECT okt.oktato_id, okt.nev\r\n",
                "FROM Oktatok okt JOIN Orak o ON okt.oktato_id = o.tanar JOIN Napok n ON o.nap = n.nap_id\r\n",
                "WHERE n.nap = N'Kedd'\r\n",
                ""
            ],
            "metadata": {
                "azdata_cell_guid": "924f2dde-f1c2-4def-a7f9-dbf4bace7735",
                "language": "sql"
            },
            "outputs": [
                {
                    "output_type": "display_data",
                    "data": {
                        "text/html": "(17 rows affected)"
                    },
                    "metadata": {}
                },
                {
                    "output_type": "display_data",
                    "data": {
                        "text/html": "Total execution time: 00:00:00.023"
                    },
                    "metadata": {}
                },
                {
                    "output_type": "execute_result",
                    "metadata": {},
                    "execution_count": 17,
                    "data": {
                        "application/vnd.dataresource+json": {
                            "schema": {
                                "fields": [
                                    {
                                        "name": "oktato_id"
                                    },
                                    {
                                        "name": "nev"
                                    }
                                ]
                            },
                            "data": [
                                {
                                    "oktato_id": "1",
                                    "nev": "Kovács László"
                                },
                                {
                                    "oktato_id": "2",
                                    "nev": "Szentágotai Istvás"
                                },
                                {
                                    "oktato_id": "3",
                                    "nev": "Szerb László"
                                },
                                {
                                    "oktato_id": "4",
                                    "nev": "Ujfalussi István"
                                },
                                {
                                    "oktato_id": "5",
                                    "nev": "Balkán András"
                                },
                                {
                                    "oktato_id": "6",
                                    "nev": "Szép llonka"
                                },
                                {
                                    "oktato_id": "7",
                                    "nev": "Kiss János"
                                },
                                {
                                    "oktato_id": "8",
                                    "nev": "Pelikán József"
                                },
                                {
                                    "oktato_id": "9",
                                    "nev": "Farkasos Piroska"
                                },
                                {
                                    "oktato_id": "10",
                                    "nev": "Jogrerős Pál"
                                },
                                {
                                    "oktato_id": "12",
                                    "nev": "Varga Kata"
                                },
                                {
                                    "oktato_id": "14",
                                    "nev": "Szénási ászló"
                                },
                                {
                                    "oktato_id": "18",
                                    "nev": "Nógrádi Kata"
                                },
                                {
                                    "oktato_id": "20",
                                    "nev": "Kovács András"
                                },
                                {
                                    "oktato_id": "104",
                                    "nev": "Ludas Mátyás"
                                },
                                {
                                    "oktato_id": "108",
                                    "nev": "Róbert Gida"
                                },
                                {
                                    "oktato_id": "200",
                                    "nev": "Aranyi Mária"
                                }
                            ]
                        },
                        "text/html": [
                            "<table>",
                            "<tr><th>oktato_id</th><th>nev</th></tr>",
                            "<tr><td>1</td><td>Kovács László</td></tr>",
                            "<tr><td>2</td><td>Szentágotai Istvás</td></tr>",
                            "<tr><td>3</td><td>Szerb László</td></tr>",
                            "<tr><td>4</td><td>Ujfalussi István</td></tr>",
                            "<tr><td>5</td><td>Balkán András</td></tr>",
                            "<tr><td>6</td><td>Szép llonka</td></tr>",
                            "<tr><td>7</td><td>Kiss János</td></tr>",
                            "<tr><td>8</td><td>Pelikán József</td></tr>",
                            "<tr><td>9</td><td>Farkasos Piroska</td></tr>",
                            "<tr><td>10</td><td>Jogrerős Pál</td></tr>",
                            "<tr><td>12</td><td>Varga Kata</td></tr>",
                            "<tr><td>14</td><td>Szénási ászló</td></tr>",
                            "<tr><td>18</td><td>Nógrádi Kata</td></tr>",
                            "<tr><td>20</td><td>Kovács András</td></tr>",
                            "<tr><td>104</td><td>Ludas Mátyás</td></tr>",
                            "<tr><td>108</td><td>Róbert Gida</td></tr>",
                            "<tr><td>200</td><td>Aranyi Mária</td></tr>",
                            "</table>"
                        ]
                    }
                }
            ],
            "execution_count": 17
        },
        {
            "cell_type": "markdown",
            "source": [
                "7. <span style=\"background-color: rgb(255, 255, 255); color: rgb(36, 41, 47); font-family: -apple-system, BlinkMacSystemFont, &quot;Segoe UI&quot;, Helvetica, Arial, sans-serif, &quot;Apple Color Emoji&quot;, &quot;Segoe UI Emoji&quot;; font-size: 16px; font-weight: 600;\">Melyek azok a tantárgyak, amelyek esetén van óra a 8.00-kor kezdődő sávban, de nincs a 12.30-kor kezdődő sávban?</span>"
            ],
            "metadata": {
                "azdata_cell_guid": "3aeb6bf5-b111-40d5-92b2-9712ce335696"
            },
            "attachments": {}
        },
        {
            "cell_type": "code",
            "source": [
                "SELECT t.Tantárgynév\r\n",
                "FROM Tantárgyak t JOIN Orak o ON t.Tkód = o.targy JOIN Savok s ON o.Sav = s.Sav_id\r\n",
                "WHERE s.Időpont = '8.00'\r\n",
                "\r\n",
                "EXCEPT\r\n",
                "\r\n",
                "SELECT t.Tantárgynév\r\n",
                "FROM Tantárgyak t JOIN Orak o ON t.Tkód = o.targy JOIN Savok s ON o.Sav = s.Sav_id\r\n",
                "WHERE s.Időpont = '12.30'\r\n",
                ""
            ],
            "metadata": {
                "azdata_cell_guid": "3e89b651-f56f-4102-af52-30eb2bbe360d",
                "language": "sql"
            },
            "outputs": [
                {
                    "output_type": "display_data",
                    "data": {
                        "text/html": "(3 rows affected)"
                    },
                    "metadata": {}
                },
                {
                    "output_type": "display_data",
                    "data": {
                        "text/html": "Total execution time: 00:00:00.028"
                    },
                    "metadata": {}
                },
                {
                    "output_type": "execute_result",
                    "metadata": {},
                    "execution_count": 21,
                    "data": {
                        "application/vnd.dataresource+json": {
                            "schema": {
                                "fields": [
                                    {
                                        "name": "Tantárgynév"
                                    }
                                ]
                            },
                            "data": [
                                {
                                    "Tantárgynév": "Az ürgeöntés hydrológiai alapjai II."
                                },
                                {
                                    "Tantárgynév": "Fejezetek az ürgék jogaiból"
                                },
                                {
                                    "Tantárgynév": "Ürgevitel"
                                }
                            ]
                        },
                        "text/html": [
                            "<table>",
                            "<tr><th>Tantárgynév</th></tr>",
                            "<tr><td>Az ürgeöntés hydrológiai alapjai II.</td></tr>",
                            "<tr><td>Fejezetek az ürgék jogaiból</td></tr>",
                            "<tr><td>Ürgevitel</td></tr>",
                            "</table>"
                        ]
                    }
                }
            ],
            "execution_count": 21
        },
        {
            "cell_type": "markdown",
            "source": [
                "8. <span style=\"background-color: rgb(255, 255, 255); color: rgb(36, 41, 47); font-family: -apple-system, BlinkMacSystemFont, &quot;Segoe UI&quot;, Helvetica, Arial, sans-serif, &quot;Apple Color Emoji&quot;, &quot;Segoe UI Emoji&quot;; font-size: 16px; font-weight: 600;\">Listázzuk azokat a termeket, amelyekben oktat Kovács László és van olyan tanóra a teremben, ahol a tantárgy nevében nem szerepel az 'ürge' szó!</span>"
            ],
            "metadata": {
                "azdata_cell_guid": "26a504dc-ff6a-439f-94c0-4580eca3eacf"
            },
            "attachments": {}
        },
        {
            "cell_type": "code",
            "source": [
                ""
            ],
            "metadata": {
                "azdata_cell_guid": "1cbb8aeb-78b5-4350-aa45-e3202fdab85b",
                "language": "sql"
            },
            "outputs": [],
            "execution_count": null
        },
        {
            "cell_type": "markdown",
            "source": [
                "<mark>9. <span style=\"font-weight: 600; color: rgb(36, 41, 47); font-family: -apple-system, BlinkMacSystemFont, &quot;Segoe UI&quot;, Helvetica, Arial, sans-serif, &quot;Apple Color Emoji&quot;, &quot;Segoe UI Emoji&quot;; font-size: 16px;\">Készítsünk listát arról, hogy melyik tanárnak hány órája van a (munka) hét elején (hétfőn), hét közben (kedd, szerda és csütörtök), illetve a hét végén (péntek)!</span></mark>\n",
                "\n",
                "1. Jelenítsük meg a tanár azonosítóját, nevét, az időszakot (hét eleje - hét közben - hét vége), valamint az óraszámot!\n",
                "2. A három megjelölt időszakot külön kérdezzük le, majd fűzzük össze a lekérdezések eredményeit!\n",
                "3. Rendezzük a listát az oktató neve, azon belül időszak szerint!"
            ],
            "metadata": {
                "azdata_cell_guid": "435e2860-2dd5-4877-90f4-34a43baeb53c"
            },
            "attachments": {}
        },
        {
            "cell_type": "code",
            "source": [
                "SELECT okt.oktato_id, okt.nev, IIF(n.nap = N'Hétfő', 'Hét eleje', '') AS 'Időszak', COUNT(*)\r\n",
                "FROM Oktatok okt JOIN Orak o ON okt.oktato_id = o.tanar JOIN Napok n ON o.nap = n.nap_id\r\n",
                "WHERE n.nap = N'Hétfő'\r\n",
                "GROUP BY okt.oktato_id, okt.nev, IIF(n.nap = N'Hétfő', 'Hét eleje', '')\r\n",
                "\r\n",
                "\r\n",
                "UNION \r\n",
                "\r\n",
                "SELECT okt.oktato_id, okt.nev, IIF(n.nap = N'Kedd' OR n.nap = N'Szerda' OR n.nap = N'Csütörtök', 'Hét közepe', '') AS 'Időszak', COUNT(*)\r\n",
                "FROM Oktatok okt JOIN Orak o ON okt.oktato_id = o.tanar JOIN Napok n ON o.nap = n.nap_id\r\n",
                "WHERE n.nap = N'Kedd' OR n.nap = N'Szerda' OR n.nap = N'Csütörtök'\r\n",
                "GROUP BY okt.oktato_id, okt.nev, IIF(n.nap = N'Kedd' OR n.nap = N'Szerda' OR n.nap = N'Csütörtök', 'Hét közepe', '')\r\n",
                "\r\n",
                "\r\n",
                "UNION \r\n",
                "\r\n",
                "SELECT okt.oktato_id, okt.nev, IIF(n.nap = N'Péntek', 'Hét vége', '') AS 'Időszak', COUNT(*)\r\n",
                "FROM Oktatok okt JOIN Orak o ON okt.oktato_id = o.tanar JOIN Napok n ON o.nap = n.nap_id\r\n",
                "WHERE n.nap = N'Péntek'\r\n",
                "GROUP BY okt.oktato_id, okt.nev, IIF(n.nap = N'Péntek', 'Hét vége', '') \r\n",
                "\r\n",
                "ORDER BY okt.nev, 'Időszak'"
            ],
            "metadata": {
                "azdata_cell_guid": "ce846351-ddbe-4d8e-b8fb-2a92c73ac80b",
                "language": "sql"
            },
            "outputs": [
                {
                    "output_type": "display_data",
                    "data": {
                        "text/html": "(33 rows affected)"
                    },
                    "metadata": {}
                },
                {
                    "output_type": "display_data",
                    "data": {
                        "text/html": "Total execution time: 00:00:00.031"
                    },
                    "metadata": {}
                },
                {
                    "output_type": "execute_result",
                    "metadata": {},
                    "execution_count": 27,
                    "data": {
                        "application/vnd.dataresource+json": {
                            "schema": {
                                "fields": [
                                    {
                                        "name": "oktato_id"
                                    },
                                    {
                                        "name": "nev"
                                    },
                                    {
                                        "name": "Időszak"
                                    },
                                    {
                                        "name": "(No column name)"
                                    }
                                ]
                            },
                            "data": [
                                {
                                    "oktato_id": "200",
                                    "nev": "Aranyi Mária",
                                    "Időszak": "Hét eleje",
                                    "(No column name)": "1"
                                },
                                {
                                    "oktato_id": "5",
                                    "nev": "Balkán András",
                                    "Időszak": "Hét eleje",
                                    "(No column name)": "2"
                                },
                                {
                                    "oktato_id": "5",
                                    "nev": "Balkán András",
                                    "Időszak": "Hét közepe",
                                    "(No column name)": "1"
                                },
                                {
                                    "oktato_id": "9",
                                    "nev": "Farkasos Piroska",
                                    "Időszak": "Hét eleje",
                                    "(No column name)": "2"
                                },
                                {
                                    "oktato_id": "9",
                                    "nev": "Farkasos Piroska",
                                    "Időszak": "Hét közepe",
                                    "(No column name)": "4"
                                },
                                {
                                    "oktato_id": "9",
                                    "nev": "Farkasos Piroska",
                                    "Időszak": "Hét vége",
                                    "(No column name)": "1"
                                },
                                {
                                    "oktato_id": "10",
                                    "nev": "Jogrerős Pál",
                                    "Időszak": "Hét eleje",
                                    "(No column name)": "2"
                                },
                                {
                                    "oktato_id": "301",
                                    "nev": "Juhász András",
                                    "Időszak": "Hét közepe",
                                    "(No column name)": "2"
                                },
                                {
                                    "oktato_id": "7",
                                    "nev": "Kiss János",
                                    "Időszak": "Hét eleje",
                                    "(No column name)": "2"
                                },
                                {
                                    "oktato_id": "7",
                                    "nev": "Kiss János",
                                    "Időszak": "Hét közepe",
                                    "(No column name)": "2"
                                },
                                {
                                    "oktato_id": "20",
                                    "nev": "Kovács András",
                                    "Időszak": "Hét eleje",
                                    "(No column name)": "2"
                                },
                                {
                                    "oktato_id": "20",
                                    "nev": "Kovács András",
                                    "Időszak": "Hét közepe",
                                    "(No column name)": "2"
                                },
                                {
                                    "oktato_id": "1",
                                    "nev": "Kovács László",
                                    "Időszak": "Hét közepe",
                                    "(No column name)": "3"
                                },
                                {
                                    "oktato_id": "1",
                                    "nev": "Kovács László",
                                    "Időszak": "Hét vége",
                                    "(No column name)": "1"
                                },
                                {
                                    "oktato_id": "104",
                                    "nev": "Ludas Mátyás",
                                    "Időszak": "Hét eleje",
                                    "(No column name)": "1"
                                },
                                {
                                    "oktato_id": "104",
                                    "nev": "Ludas Mátyás",
                                    "Időszak": "Hét közepe",
                                    "(No column name)": "1"
                                },
                                {
                                    "oktato_id": "18",
                                    "nev": "Nógrádi Kata",
                                    "Időszak": "Hét közepe",
                                    "(No column name)": "1"
                                },
                                {
                                    "oktato_id": "8",
                                    "nev": "Pelikán József",
                                    "Időszak": "Hét eleje",
                                    "(No column name)": "3"
                                },
                                {
                                    "oktato_id": "8",
                                    "nev": "Pelikán József",
                                    "Időszak": "Hét közepe",
                                    "(No column name)": "3"
                                },
                                {
                                    "oktato_id": "108",
                                    "nev": "Róbert Gida",
                                    "Időszak": "Hét közepe",
                                    "(No column name)": "1"
                                },
                                {
                                    "oktato_id": "300",
                                    "nev": "Szabó Andrera",
                                    "Időszak": "Hét közepe",
                                    "(No column name)": "2"
                                },
                                {
                                    "oktato_id": "14",
                                    "nev": "Szénási ászló",
                                    "Időszak": "Hét közepe",
                                    "(No column name)": "2"
                                },
                                {
                                    "oktato_id": "2",
                                    "nev": "Szentágotai Istvás",
                                    "Időszak": "Hét eleje",
                                    "(No column name)": "1"
                                },
                                {
                                    "oktato_id": "2",
                                    "nev": "Szentágotai Istvás",
                                    "Időszak": "Hét közepe",
                                    "(No column name)": "5"
                                },
                                {
                                    "oktato_id": "2",
                                    "nev": "Szentágotai Istvás",
                                    "Időszak": "Hét vége",
                                    "(No column name)": "2"
                                },
                                {
                                    "oktato_id": "6",
                                    "nev": "Szép llonka",
                                    "Időszak": "Hét eleje",
                                    "(No column name)": "4"
                                },
                                {
                                    "oktato_id": "3",
                                    "nev": "Szerb László",
                                    "Időszak": "Hét közepe",
                                    "(No column name)": "3"
                                },
                                {
                                    "oktato_id": "4",
                                    "nev": "Ujfalussi István",
                                    "Időszak": "Hét eleje",
                                    "(No column name)": "1"
                                },
                                {
                                    "oktato_id": "4",
                                    "nev": "Ujfalussi István",
                                    "Időszak": "Hét közepe",
                                    "(No column name)": "2"
                                },
                                {
                                    "oktato_id": "12",
                                    "nev": "Varga Kata",
                                    "Időszak": "Hét eleje",
                                    "(No column name)": "2"
                                },
                                {
                                    "oktato_id": "12",
                                    "nev": "Varga Kata",
                                    "Időszak": "Hét közepe",
                                    "(No column name)": "2"
                                },
                                {
                                    "oktato_id": "111",
                                    "nev": "Vitéz János",
                                    "Időszak": "Hét közepe",
                                    "(No column name)": "2"
                                },
                                {
                                    "oktato_id": "111",
                                    "nev": "Vitéz János",
                                    "Időszak": "Hét vége",
                                    "(No column name)": "2"
                                }
                            ]
                        },
                        "text/html": [
                            "<table>",
                            "<tr><th>oktato_id</th><th>nev</th><th>Időszak</th><th>(No column name)</th></tr>",
                            "<tr><td>200</td><td>Aranyi Mária</td><td>Hét eleje</td><td>1</td></tr>",
                            "<tr><td>5</td><td>Balkán András</td><td>Hét eleje</td><td>2</td></tr>",
                            "<tr><td>5</td><td>Balkán András</td><td>Hét közepe</td><td>1</td></tr>",
                            "<tr><td>9</td><td>Farkasos Piroska</td><td>Hét eleje</td><td>2</td></tr>",
                            "<tr><td>9</td><td>Farkasos Piroska</td><td>Hét közepe</td><td>4</td></tr>",
                            "<tr><td>9</td><td>Farkasos Piroska</td><td>Hét vége</td><td>1</td></tr>",
                            "<tr><td>10</td><td>Jogrerős Pál</td><td>Hét eleje</td><td>2</td></tr>",
                            "<tr><td>301</td><td>Juhász András</td><td>Hét közepe</td><td>2</td></tr>",
                            "<tr><td>7</td><td>Kiss János</td><td>Hét eleje</td><td>2</td></tr>",
                            "<tr><td>7</td><td>Kiss János</td><td>Hét közepe</td><td>2</td></tr>",
                            "<tr><td>20</td><td>Kovács András</td><td>Hét eleje</td><td>2</td></tr>",
                            "<tr><td>20</td><td>Kovács András</td><td>Hét közepe</td><td>2</td></tr>",
                            "<tr><td>1</td><td>Kovács László</td><td>Hét közepe</td><td>3</td></tr>",
                            "<tr><td>1</td><td>Kovács László</td><td>Hét vége</td><td>1</td></tr>",
                            "<tr><td>104</td><td>Ludas Mátyás</td><td>Hét eleje</td><td>1</td></tr>",
                            "<tr><td>104</td><td>Ludas Mátyás</td><td>Hét közepe</td><td>1</td></tr>",
                            "<tr><td>18</td><td>Nógrádi Kata</td><td>Hét közepe</td><td>1</td></tr>",
                            "<tr><td>8</td><td>Pelikán József</td><td>Hét eleje</td><td>3</td></tr>",
                            "<tr><td>8</td><td>Pelikán József</td><td>Hét közepe</td><td>3</td></tr>",
                            "<tr><td>108</td><td>Róbert Gida</td><td>Hét közepe</td><td>1</td></tr>",
                            "<tr><td>300</td><td>Szabó Andrera</td><td>Hét közepe</td><td>2</td></tr>",
                            "<tr><td>14</td><td>Szénási ászló</td><td>Hét közepe</td><td>2</td></tr>",
                            "<tr><td>2</td><td>Szentágotai Istvás</td><td>Hét eleje</td><td>1</td></tr>",
                            "<tr><td>2</td><td>Szentágotai Istvás</td><td>Hét közepe</td><td>5</td></tr>",
                            "<tr><td>2</td><td>Szentágotai Istvás</td><td>Hét vége</td><td>2</td></tr>",
                            "<tr><td>6</td><td>Szép llonka</td><td>Hét eleje</td><td>4</td></tr>",
                            "<tr><td>3</td><td>Szerb László</td><td>Hét közepe</td><td>3</td></tr>",
                            "<tr><td>4</td><td>Ujfalussi István</td><td>Hét eleje</td><td>1</td></tr>",
                            "<tr><td>4</td><td>Ujfalussi István</td><td>Hét közepe</td><td>2</td></tr>",
                            "<tr><td>12</td><td>Varga Kata</td><td>Hét eleje</td><td>2</td></tr>",
                            "<tr><td>12</td><td>Varga Kata</td><td>Hét közepe</td><td>2</td></tr>",
                            "<tr><td>111</td><td>Vitéz János</td><td>Hét közepe</td><td>2</td></tr>",
                            "<tr><td>111</td><td>Vitéz János</td><td>Hét vége</td><td>2</td></tr>",
                            "</table>"
                        ]
                    }
                }
            ],
            "execution_count": 27
        },
        {
            "cell_type": "markdown",
            "source": [
                "10. <span style=\"background-color: rgb(255, 255, 255); color: rgb(36, 41, 47); font-family: -apple-system, BlinkMacSystemFont, &quot;Segoe UI&quot;, Helvetica, Arial, sans-serif, &quot;Apple Color Emoji&quot;, &quot;Segoe UI Emoji&quot;; font-size: 16px; font-weight: 600;\">Melyik napokon nincs órája Pelikán Józsefnek?</span>"
            ],
            "metadata": {
                "azdata_cell_guid": "217c5772-afe2-4a7c-b913-e3a3e09d6411"
            },
            "attachments": {}
        },
        {
            "cell_type": "code",
            "source": [
                "SELECT Nap \r\n",
                "from Napok\r\n",
                "\r\n",
                "EXCEPT\r\n",
                "\r\n",
                "SELECT n.nap \r\n",
                "FROM Oktatok okt JOIN Orak o  ON okt.oktato_id = o.tanar JOIN Napok n ON o.nap = n.nap_id\r\n",
                "WHERE okt.nev = 'Pelikán József'\r\n",
                ""
            ],
            "metadata": {
                "azdata_cell_guid": "a9cc0926-3dbd-4ed8-8179-1c39d64a0762",
                "language": "sql"
            },
            "outputs": [
                {
                    "output_type": "display_data",
                    "data": {
                        "text/html": "(3 rows affected)"
                    },
                    "metadata": {}
                },
                {
                    "output_type": "display_data",
                    "data": {
                        "text/html": "Total execution time: 00:00:00.024"
                    },
                    "metadata": {}
                },
                {
                    "output_type": "execute_result",
                    "metadata": {},
                    "execution_count": 30,
                    "data": {
                        "application/vnd.dataresource+json": {
                            "schema": {
                                "fields": [
                                    {
                                        "name": "nap"
                                    }
                                ]
                            },
                            "data": [
                                {
                                    "nap": "Csütörtök"
                                },
                                {
                                    "nap": "Péntek"
                                },
                                {
                                    "nap": "Szerda"
                                }
                            ]
                        },
                        "text/html": [
                            "<table>",
                            "<tr><th>nap</th></tr>",
                            "<tr><td>Csütörtök</td></tr>",
                            "<tr><td>Péntek</td></tr>",
                            "<tr><td>Szerda</td></tr>",
                            "</table>"
                        ]
                    }
                }
            ],
            "execution_count": 30
        },
        {
            "cell_type": "markdown",
            "source": [
                "**A 11-15 feladatok gyakorlásra szolgálnak a közelgő zh-ra :-)**\n",
                "\n",
                "11. _Készítsünk listát az oktatók adatairól!_\n",
                "\n",
                "1. Az oktatók titulusa és neve összefűzve jelenjen meg, közöttük szóközzel!\n",
                "2. Ha valakinek nincs titulusa, akkor csak a neve jelenjen meg, szóköz nélkül!\n",
                "3. A listát rendezzük a beosztás kódja, azon belül a státusz kódja szerint növekvő sorrendbe!\n",
                "4. Az oszlopokat nevezzük el értelemszerűen!"
            ],
            "metadata": {
                "azdata_cell_guid": "d2340f5f-1614-473c-b937-85740d67f7c1"
            },
            "attachments": {}
        },
        {
            "cell_type": "code",
            "source": [
                "SELECT o.oktato_id, b.beosztasnev, o.[status], IIF(LEFT(o.titulus, 3) = 'Dr.', 'Dr.' + ' ' + o.nev, LEFT(o.nev, CHARINDEX(' ', o.nev)-1) + RIGHT(o.nev, len(o.nev) - CHARINDEX(' ', o.nev))) AS Név\r\n",
                "FROM Oktatok o JOIN Beosztasok b ON o.beosztás = b.beosztas_id\r\n",
                "ORDER BY b.beosztas_id, o.[status]"
            ],
            "metadata": {
                "azdata_cell_guid": "e99c2c53-898f-4787-b0e6-182d106dc16f",
                "language": "sql"
            },
            "outputs": [
                {
                    "output_type": "display_data",
                    "data": {
                        "text/html": "(25 rows affected)"
                    },
                    "metadata": {}
                },
                {
                    "output_type": "display_data",
                    "data": {
                        "text/html": "Total execution time: 00:00:00.022"
                    },
                    "metadata": {}
                },
                {
                    "output_type": "execute_result",
                    "metadata": {},
                    "execution_count": 36,
                    "data": {
                        "application/vnd.dataresource+json": {
                            "schema": {
                                "fields": [
                                    {
                                        "name": "oktato_id"
                                    },
                                    {
                                        "name": "beosztasnev"
                                    },
                                    {
                                        "name": "status"
                                    },
                                    {
                                        "name": "Név"
                                    }
                                ]
                            },
                            "data": [
                                {
                                    "oktato_id": "18",
                                    "beosztasnev": "Óraadó",
                                    "status": "1",
                                    "Név": "NógrádiKata"
                                },
                                {
                                    "oktato_id": "19",
                                    "beosztasnev": "Óraadó",
                                    "status": "1",
                                    "Név": "RáczAndrás"
                                },
                                {
                                    "oktato_id": "20",
                                    "beosztasnev": "Óraadó",
                                    "status": "1",
                                    "Név": "KovácsAndrás"
                                },
                                {
                                    "oktato_id": "104",
                                    "beosztasnev": "Óraadó",
                                    "status": "1",
                                    "Név": "LudasMátyás"
                                },
                                {
                                    "oktato_id": "200",
                                    "beosztasnev": "Óraadó",
                                    "status": "1",
                                    "Név": "AranyiMária"
                                },
                                {
                                    "oktato_id": "300",
                                    "beosztasnev": "Óraadó",
                                    "status": "1",
                                    "Név": "SzabóAndrera"
                                },
                                {
                                    "oktato_id": "105",
                                    "beosztasnev": "Óraadó",
                                    "status": "2",
                                    "Név": "KissIstván"
                                },
                                {
                                    "oktato_id": "107",
                                    "beosztasnev": "Óraadó",
                                    "status": "2",
                                    "Név": "MészárosKriszta"
                                },
                                {
                                    "oktato_id": "108",
                                    "beosztasnev": "Tanársegéd",
                                    "status": "1",
                                    "Név": "RóbertGida"
                                },
                                {
                                    "oktato_id": "111",
                                    "beosztasnev": "Tanársegéd",
                                    "status": "1",
                                    "Név": "VitézJános"
                                },
                                {
                                    "oktato_id": "7",
                                    "beosztasnev": "Tanársegéd",
                                    "status": "1",
                                    "Név": "KissJános"
                                },
                                {
                                    "oktato_id": "8",
                                    "beosztasnev": "Tanársegéd",
                                    "status": "3",
                                    "Név": "PelikánJózsef"
                                },
                                {
                                    "oktato_id": "9",
                                    "beosztasnev": "Tanársegéd",
                                    "status": "3",
                                    "Név": "FarkasosPiroska"
                                },
                                {
                                    "oktato_id": "6",
                                    "beosztasnev": "Adjunktus",
                                    "status": "1",
                                    "Név": "Dr. Szép llonka"
                                },
                                {
                                    "oktato_id": "14",
                                    "beosztasnev": "Adjunktus",
                                    "status": "1",
                                    "Név": "Szénásiászló"
                                },
                                {
                                    "oktato_id": "2",
                                    "beosztasnev": "Adjunktus",
                                    "status": "2",
                                    "Név": "Dr. Szentágotai Istvás"
                                },
                                {
                                    "oktato_id": "3",
                                    "beosztasnev": "Docens",
                                    "status": "1",
                                    "Név": "SzerbLászló"
                                },
                                {
                                    "oktato_id": "11",
                                    "beosztasnev": "Docens",
                                    "status": "1",
                                    "Név": "Dr. Józsa Gábor"
                                },
                                {
                                    "oktato_id": "12",
                                    "beosztasnev": "Docens",
                                    "status": "1",
                                    "Név": "Dr. Varga Kata"
                                },
                                {
                                    "oktato_id": "5",
                                    "beosztasnev": "Docens",
                                    "status": "2",
                                    "Név": "Dr. Balkán András"
                                },
                                {
                                    "oktato_id": "302",
                                    "beosztasnev": "Professzor",
                                    "status": "1",
                                    "Név": "Dr. Kovacs Istvan"
                                },
                                {
                                    "oktato_id": "301",
                                    "beosztasnev": "Egyetemi tanár",
                                    "status": "1",
                                    "Név": "Dr. Juhász András"
                                },
                                {
                                    "oktato_id": "10",
                                    "beosztasnev": "Egyetemi tanár",
                                    "status": "1",
                                    "Név": "JogrerősPál"
                                },
                                {
                                    "oktato_id": "1",
                                    "beosztasnev": "Egyetemi tanár",
                                    "status": "2",
                                    "Név": "Dr. Kovács László"
                                },
                                {
                                    "oktato_id": "4",
                                    "beosztasnev": "Egyetemi tanár",
                                    "status": "2",
                                    "Név": "UjfalussiIstván"
                                }
                            ]
                        },
                        "text/html": [
                            "<table>",
                            "<tr><th>oktato_id</th><th>beosztasnev</th><th>status</th><th>Név</th></tr>",
                            "<tr><td>18</td><td>Óraadó</td><td>1</td><td>NógrádiKata</td></tr>",
                            "<tr><td>19</td><td>Óraadó</td><td>1</td><td>RáczAndrás</td></tr>",
                            "<tr><td>20</td><td>Óraadó</td><td>1</td><td>KovácsAndrás</td></tr>",
                            "<tr><td>104</td><td>Óraadó</td><td>1</td><td>LudasMátyás</td></tr>",
                            "<tr><td>200</td><td>Óraadó</td><td>1</td><td>AranyiMária</td></tr>",
                            "<tr><td>300</td><td>Óraadó</td><td>1</td><td>SzabóAndrera</td></tr>",
                            "<tr><td>105</td><td>Óraadó</td><td>2</td><td>KissIstván</td></tr>",
                            "<tr><td>107</td><td>Óraadó</td><td>2</td><td>MészárosKriszta</td></tr>",
                            "<tr><td>108</td><td>Tanársegéd</td><td>1</td><td>RóbertGida</td></tr>",
                            "<tr><td>111</td><td>Tanársegéd</td><td>1</td><td>VitézJános</td></tr>",
                            "<tr><td>7</td><td>Tanársegéd</td><td>1</td><td>KissJános</td></tr>",
                            "<tr><td>8</td><td>Tanársegéd</td><td>3</td><td>PelikánJózsef</td></tr>",
                            "<tr><td>9</td><td>Tanársegéd</td><td>3</td><td>FarkasosPiroska</td></tr>",
                            "<tr><td>6</td><td>Adjunktus</td><td>1</td><td>Dr. Szép llonka</td></tr>",
                            "<tr><td>14</td><td>Adjunktus</td><td>1</td><td>Szénásiászló</td></tr>",
                            "<tr><td>2</td><td>Adjunktus</td><td>2</td><td>Dr. Szentágotai Istvás</td></tr>",
                            "<tr><td>3</td><td>Docens</td><td>1</td><td>SzerbLászló</td></tr>",
                            "<tr><td>11</td><td>Docens</td><td>1</td><td>Dr. Józsa Gábor</td></tr>",
                            "<tr><td>12</td><td>Docens</td><td>1</td><td>Dr. Varga Kata</td></tr>",
                            "<tr><td>5</td><td>Docens</td><td>2</td><td>Dr. Balkán András</td></tr>",
                            "<tr><td>302</td><td>Professzor</td><td>1</td><td>Dr. Kovacs Istvan</td></tr>",
                            "<tr><td>301</td><td>Egyetemi tanár</td><td>1</td><td>Dr. Juhász András</td></tr>",
                            "<tr><td>10</td><td>Egyetemi tanár</td><td>1</td><td>JogrerősPál</td></tr>",
                            "<tr><td>1</td><td>Egyetemi tanár</td><td>2</td><td>Dr. Kovács László</td></tr>",
                            "<tr><td>4</td><td>Egyetemi tanár</td><td>2</td><td>UjfalussiIstván</td></tr>",
                            "</table>"
                        ]
                    }
                }
            ],
            "execution_count": 36
        },
        {
            "cell_type": "markdown",
            "source": [
                "<span style=\"color: #09885a;\">12</span>. Készítsünk listát, amely megmutatja, hogy összesen hány tantárgy van kreditenkénti csoportosításban!\n",
                "\n",
                "  \n",
                "\n",
                "A listából hagyjuk ki azokat a tételeket, ahol ez a darabszám <span style=\"color: #09885a;\">1</span>!\n",
                "\n",
                "A Folyami gáttan tantárgyat ne vegyük figyelembe!\n",
                "\n",
                "A listát rendezzük darabszám szerint csökkenő sorrendbe!\n",
                "\n",
                "Az oszlopokat nevezzük el értelemszerűen!"
            ],
            "metadata": {
                "azdata_cell_guid": "a765e9d6-58b3-4171-872a-78f3118fd6e3"
            },
            "attachments": {}
        },
        {
            "cell_type": "code",
            "source": [
                "SELECT Kredit, COUNT(*)\r\n",
                "FROM Tantárgyak\r\n",
                "WHERE Tantárgynév <> 'Folyami gáttan'\r\n",
                "GROUP BY Kredit\r\n",
                "HAVING COUNT(*) <> 1\r\n",
                "ORDER BY COUNT(*) DESC"
            ],
            "metadata": {
                "azdata_cell_guid": "422e8127-b652-4d3a-bfd7-9b1637b5781e",
                "language": "sql",
                "tags": []
            },
            "outputs": [
                {
                    "output_type": "display_data",
                    "data": {
                        "text/html": "(4 rows affected)"
                    },
                    "metadata": {}
                },
                {
                    "output_type": "display_data",
                    "data": {
                        "text/html": "Total execution time: 00:00:00.017"
                    },
                    "metadata": {}
                },
                {
                    "output_type": "execute_result",
                    "metadata": {},
                    "execution_count": 37,
                    "data": {
                        "application/vnd.dataresource+json": {
                            "schema": {
                                "fields": [
                                    {
                                        "name": "Kredit"
                                    },
                                    {
                                        "name": "(No column name)"
                                    }
                                ]
                            },
                            "data": [
                                {
                                    "Kredit": "2",
                                    "(No column name)": "3"
                                },
                                {
                                    "Kredit": "3",
                                    "(No column name)": "3"
                                },
                                {
                                    "Kredit": "4",
                                    "(No column name)": "2"
                                },
                                {
                                    "Kredit": "1",
                                    "(No column name)": "2"
                                }
                            ]
                        },
                        "text/html": [
                            "<table>",
                            "<tr><th>Kredit</th><th>(No column name)</th></tr>",
                            "<tr><td>2</td><td>3</td></tr>",
                            "<tr><td>3</td><td>3</td></tr>",
                            "<tr><td>4</td><td>2</td></tr>",
                            "<tr><td>1</td><td>2</td></tr>",
                            "</table>"
                        ]
                    }
                }
            ],
            "execution_count": 37
        },
        {
            "cell_type": "markdown",
            "source": [
                "13. _Készítsünk listát az oktatók nevéről, a beosztásuk alapján elvárt és a tényleges óraszámukról!_\n",
                "\n",
                "1. Az oszlopok neve legyen 'Oktató neve', 'Elvárt óraszám' és 'Tényleges óraszám'\n",
                "2. Szűrjük a listát azokra az oktatókra, ahol az elvárt és a tényleges óraszám azonos"
            ],
            "metadata": {
                "azdata_cell_guid": "3f9237ae-f109-401c-acb9-31d75e73331b"
            },
            "attachments": {}
        },
        {
            "cell_type": "code",
            "source": [
                "SELECT okt.nev, b.elvart, COUNT(ora_id) AS 'tényleges oraszám'\r\n",
                "FROM Oktatok okt JOIN Orak o ON okt.oktato_id = o.tanar JOIN Beosztasok b ON okt.beosztás = b.beosztas_id\r\n",
                "GROUP BY okt.nev, b.elvart\r\n",
                "HAVING COUNT(ora_id) = b.elvart"
            ],
            "metadata": {
                "azdata_cell_guid": "4b31bb89-cfbc-46b1-8639-85c462877786",
                "language": "sql"
            },
            "outputs": [
                {
                    "output_type": "display_data",
                    "data": {
                        "text/html": "(4 rows affected)"
                    },
                    "metadata": {}
                },
                {
                    "output_type": "display_data",
                    "data": {
                        "text/html": "Total execution time: 00:00:00.020"
                    },
                    "metadata": {}
                },
                {
                    "output_type": "execute_result",
                    "metadata": {},
                    "execution_count": 41,
                    "data": {
                        "application/vnd.dataresource+json": {
                            "schema": {
                                "fields": [
                                    {
                                        "name": "nev"
                                    },
                                    {
                                        "name": "elvart"
                                    },
                                    {
                                        "name": "tényleges oraszám"
                                    }
                                ]
                            },
                            "data": [
                                {
                                    "nev": "Jogrerős Pál",
                                    "elvart": "2",
                                    "tényleges oraszám": "2"
                                },
                                {
                                    "nev": "Juhász András",
                                    "elvart": "2",
                                    "tényleges oraszám": "2"
                                },
                                {
                                    "nev": "Varga Kata",
                                    "elvart": "4",
                                    "tényleges oraszám": "4"
                                },
                                {
                                    "nev": "Pelikán József",
                                    "elvart": "6",
                                    "tényleges oraszám": "6"
                                }
                            ]
                        },
                        "text/html": [
                            "<table>",
                            "<tr><th>nev</th><th>elvart</th><th>tényleges oraszám</th></tr>",
                            "<tr><td>Jogrerős Pál</td><td>2</td><td>2</td></tr>",
                            "<tr><td>Juhász András</td><td>2</td><td>2</td></tr>",
                            "<tr><td>Varga Kata</td><td>4</td><td>4</td></tr>",
                            "<tr><td>Pelikán József</td><td>6</td><td>6</td></tr>",
                            "</table>"
                        ]
                    }
                }
            ],
            "execution_count": 41
        },
        {
            "cell_type": "markdown",
            "source": [
                "14. _Készítsünk listát, amely megmutatja, hogy mely tantárgyból nincs óra egyáltalán!_\n",
                "\n",
                "1. Csak a tantárgy neve jelenjen meg!"
            ],
            "metadata": {
                "azdata_cell_guid": "f634e09a-85ef-4e70-8ec6-ef355dfddaa7"
            },
            "attachments": {}
        },
        {
            "cell_type": "code",
            "source": [
                "SELECT t.Tantárgynév\r\n",
                "FROM Tantárgyak t LEFT JOIN Orak o ON t.Tkód = o.targy\r\n",
                "WHERE o.targy IS NULL"
            ],
            "metadata": {
                "azdata_cell_guid": "88abc55b-2c78-495b-a72f-3f8f4eb5fe70",
                "language": "sql"
            },
            "outputs": [
                {
                    "output_type": "display_data",
                    "data": {
                        "text/html": "(1 row affected)"
                    },
                    "metadata": {}
                },
                {
                    "output_type": "display_data",
                    "data": {
                        "text/html": "Total execution time: 00:00:00.015"
                    },
                    "metadata": {}
                },
                {
                    "output_type": "execute_result",
                    "metadata": {},
                    "execution_count": 42,
                    "data": {
                        "application/vnd.dataresource+json": {
                            "schema": {
                                "fields": [
                                    {
                                        "name": "Tantárgynév"
                                    }
                                ]
                            },
                            "data": [
                                {
                                    "Tantárgynév": "Folyami gáttan"
                                }
                            ]
                        },
                        "text/html": [
                            "<table>",
                            "<tr><th>Tantárgynév</th></tr>",
                            "<tr><td>Folyami gáttan</td></tr>",
                            "</table>"
                        ]
                    }
                }
            ],
            "execution_count": 42
        },
        {
            "cell_type": "markdown",
            "source": [
                "![](data:image/png;base64,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)"
            ],
            "metadata": {
                "language": "sql",
                "azdata_cell_guid": "2bf61280-839b-485f-b0cf-f648391f8220"
            },
            "attachments": {}
        },
        {
            "cell_type": "markdown",
            "source": [
                "15. _Hány órájuk van az óraadóknak napi bontásban?_\n",
                "\n",
                "1. Csak a napok nevét és az óraszámot jelenítsük meg!\n",
                "2. Rendezzük a listát óraszám szerint növekvő sorrendbe!"
            ],
            "metadata": {
                "azdata_cell_guid": "4cbf2f0d-a65d-480a-8186-ccdb24498443"
            },
            "attachments": {}
        },
        {
            "cell_type": "code",
            "source": [
                "SELECT n.nap, COUNT(*)\r\n",
                "FROM statusok s JOIN Oktatok okt ON s.Skod = okt.[status] JOIN Orak o ON okt.oktato_id = o.tanar JOIN Napok n ON o.nap = n.nap_id\r\n",
                "WHERE s.Status = 'Óraadó'\r\n",
                "GROUP BY n.nap\r\n",
                "ORDER BY 2 ASC"
            ],
            "metadata": {
                "azdata_cell_guid": "c148aee8-bc85-40bf-b80a-a4898a6c05cb",
                "language": "sql"
            },
            "outputs": [
                {
                    "output_type": "display_data",
                    "data": {
                        "text/html": "(5 rows affected)"
                    },
                    "metadata": {}
                },
                {
                    "output_type": "display_data",
                    "data": {
                        "text/html": "Total execution time: 00:00:00.022"
                    },
                    "metadata": {}
                },
                {
                    "output_type": "execute_result",
                    "metadata": {},
                    "execution_count": 43,
                    "data": {
                        "application/vnd.dataresource+json": {
                            "schema": {
                                "fields": [
                                    {
                                        "name": "nap"
                                    },
                                    {
                                        "name": "(No column name)"
                                    }
                                ]
                            },
                            "data": [
                                {
                                    "nap": "Péntek",
                                    "(No column name)": "1"
                                },
                                {
                                    "nap": "Szerda",
                                    "(No column name)": "1"
                                },
                                {
                                    "nap": "Csütörtök",
                                    "(No column name)": "3"
                                },
                                {
                                    "nap": "Kedd",
                                    "(No column name)": "3"
                                },
                                {
                                    "nap": "Hétfő",
                                    "(No column name)": "5"
                                }
                            ]
                        },
                        "text/html": [
                            "<table>",
                            "<tr><th>nap</th><th>(No column name)</th></tr>",
                            "<tr><td>Péntek</td><td>1</td></tr>",
                            "<tr><td>Szerda</td><td>1</td></tr>",
                            "<tr><td>Csütörtök</td><td>3</td></tr>",
                            "<tr><td>Kedd</td><td>3</td></tr>",
                            "<tr><td>Hétfő</td><td>5</td></tr>",
                            "</table>"
                        ]
                    }
                }
            ],
            "execution_count": 43
        }
    ]
}