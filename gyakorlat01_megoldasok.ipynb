{
    "metadata": {
        "kernelspec": {
            "name": "SQL",
            "display_name": "SQL",
            "language": "sql"
        },
        "language_info": {
            "name": "sql",
            "version": ""
        },
        "extensions": {
            "azuredatastudio": {
                "version": 1,
                "views": []
            }
        }
    },
    "nbformat_minor": 2,
    "nbformat": 4,
    "cells": [
        {
            "cell_type": "markdown",
            "source": [
                "1. Listázzuk a <span style=\"color: #800000;\">`kolcsonzes`</span> tábla következő oszlopait: ID, ki\\_datum, vissza\\_datum! \n",
                "\n",
                "  \n",
                "\n",
                "a.  Az ID oszlop neve legyen Azonosító\n",
                "\n",
                "b.  A ki\\_datum oszlop neve legyen Kölcsönzés\\_dátuma\n",
                "\n",
                "c.  A vissza\\_datum oszlop neve legyen Visszahozatal\\_dátuma"
            ],
            "metadata": {
                "azdata_cell_guid": "77f2d5b3-38e9-41cc-893f-f5afd02b97ef"
            },
            "attachments": {}
        },
        {
            "cell_type": "code",
            "source": [
                "SELECT ID as 'Azonosító', \r\n",
                "       ki_datum as 'Kölcsönzés_dátuma', \r\n",
                "       vissza_datum as 'Visszahozatal_dátuma'\r\n",
                "FROM kolcsonzesek"
            ],
            "metadata": {
                "azdata_cell_guid": "bd3cef1a-4e6e-4ece-9dc3-aaa9d2b5d66d",
                "language": "sql"
            },
            "outputs": [],
            "execution_count": null
        },
        {
            "cell_type": "markdown",
            "source": [
                "2. Melyek azok a kölcsönzések, amelyek 2005.01.01 és 2007.01.01 között történtek?"
            ],
            "metadata": {
                "azdata_cell_guid": "88f5b4bb-f4c1-4bad-a0c7-b2592687b422"
            },
            "attachments": {}
        },
        {
            "cell_type": "code",
            "source": [
                "SELECT *\r\n",
                "FROM kolcsonzesek\r\n",
                "WHERE ki_datum BETWEEN '2005.01.01' AND '2007.01.01'"
            ],
            "metadata": {
                "azdata_cell_guid": "e9de5726-f036-4fb9-8c33-a873955ed886",
                "language": "sql"
            },
            "outputs": [
                {
                    "output_type": "display_data",
                    "data": {
                        "text/html": "(2 rows affected)"
                    },
                    "metadata": {}
                },
                {
                    "output_type": "display_data",
                    "data": {
                        "text/html": "Total execution time: 00:00:00.066"
                    },
                    "metadata": {}
                },
                {
                    "output_type": "execute_result",
                    "execution_count": 1,
                    "data": {
                        "application/vnd.dataresource+json": {
                            "schema": {
                                "fields": [
                                    {
                                        "name": "ID"
                                    },
                                    {
                                        "name": "ki"
                                    },
                                    {
                                        "name": "mit"
                                    },
                                    {
                                        "name": "ki_datum"
                                    },
                                    {
                                        "name": "vissza_datum"
                                    }
                                ]
                            },
                            "data": [
                                {
                                    "ID": "13",
                                    "ki": "1",
                                    "mit": "3",
                                    "ki_datum": "2006-10-01",
                                    "vissza_datum": "2006-10-10"
                                },
                                {
                                    "ID": "14",
                                    "ki": "2",
                                    "mit": "3",
                                    "ki_datum": "2006-10-02",
                                    "vissza_datum": "2006-10-09"
                                }
                            ]
                        },
                        "text/html": "<table><tr><th>ID</th><th>ki</th><th>mit</th><th>ki_datum</th><th>vissza_datum</th></tr><tr><td>13</td><td>1</td><td>3</td><td>2006-10-01</td><td>2006-10-10</td></tr><tr><td>14</td><td>2</td><td>3</td><td>2006-10-02</td><td>2006-10-09</td></tr></table>"
                    },
                    "metadata": {}
                }
            ],
            "execution_count": 1
        },
        {
            "cell_type": "markdown",
            "source": [
                "3. Melyek azok a tagok, akiknek kedvenc stílusa a játék, és nevük a-ra végződik?\n",
                "\n",
                "  \n",
                "\n",
                "a.  Csak a tagok neve jelenjen meg, az oszlop neve Név legyen"
            ],
            "metadata": {
                "azdata_cell_guid": "9e7249de-1b59-43d8-84b1-26fa7d81fc5a"
            },
            "attachments": {}
        },
        {
            "cell_type": "code",
            "source": [
                "SELECT nev as 'Név'\r\n",
                "FROM tagok\r\n",
                "WHERE kedvencstilus='játék' AND nev LIKE '%a'"
            ],
            "metadata": {
                "azdata_cell_guid": "6405d3e8-a9b1-45d7-aa76-3b1e785ef6cc",
                "language": "sql"
            },
            "outputs": [],
            "execution_count": null
        },
        {
            "cell_type": "markdown",
            "source": [
                "4. Listázzuk egy oszlopban a tagok nevét, címét és kedvenc stílusát összefűzve! \n",
                "\n",
                "  \n",
                "\n",
                "a.  A nevet, címet és a stílust kötőjellel válasszuk el\n",
                "\n",
                "b.  A kötőjelek előtt és után legyen 1-1 szóköz\n",
                "\n",
                "c.  Az oszlop neve legyen TAG\n",
                "\n",
                "d.  Kinga keresztnevű tagok ne legyenek benne a listában"
            ],
            "metadata": {
                "azdata_cell_guid": "6478e469-c094-472c-a772-ccd5b5c61516"
            },
            "attachments": {}
        },
        {
            "cell_type": "code",
            "source": [
                "SELECT nev +' - '+cim+' - '+ kedvencstilus AS 'TAG'\r\n",
                "FROM tagok\r\n",
                "WHERE nev NOT LIKE '%Kinga'"
            ],
            "metadata": {
                "azdata_cell_guid": "02031ea2-3838-458d-839c-228e3b362b61",
                "language": "sql"
            },
            "outputs": [],
            "execution_count": null
        },
        {
            "cell_type": "markdown",
            "source": [
                "5. Mennyi lenne a dvd-k nettó ára, ha 20%-kal csökkenne? \n",
                "\n",
                "  \n",
                "\n",
                "a.  Csak a dvd-k címét és a csökkentett árat jelenítsük meg\n",
                "\n",
                "b.  A csökkentett árat nevezzük el diszkont\\_ar-nak"
            ],
            "metadata": {
                "azdata_cell_guid": "9edbbaf9-c276-4898-9a01-e1b2993c089f"
            },
            "attachments": {}
        },
        {
            "cell_type": "code",
            "source": [
                "SELECT id, \r\n",
                "       cim, \r\n",
                "       nettoar*0.8 AS 'diszkont_ar'\r\n",
                "FROM dvd"
            ],
            "metadata": {
                "azdata_cell_guid": "5ad5fdcb-2878-4111-861a-833bcd50e935",
                "language": "sql"
            },
            "outputs": [],
            "execution_count": null
        },
        {
            "cell_type": "markdown",
            "source": [
                "6. Melyek azok a kölcsönzések, ahol még nem hozták vissza a dvd-t?"
            ],
            "metadata": {
                "azdata_cell_guid": "5fe65c1c-2479-45ac-ad03-ec99d12eae21"
            },
            "attachments": {}
        },
        {
            "cell_type": "code",
            "source": [
                "SELECT *\r\n",
                "FROM kolcsonzesek\r\n",
                "WHERE vissza_datum IS NULL"
            ],
            "metadata": {
                "azdata_cell_guid": "924f2dde-f1c2-4def-a7f9-dbf4bace7735",
                "language": "sql"
            },
            "outputs": [],
            "execution_count": null
        },
        {
            "cell_type": "markdown",
            "source": [
                "7. Listázzuk azon diákok nevét és születési idejét, akik 1984-ben vagy 1985-ben születtek!  \n",
                "\n",
                "  \n",
                "\n",
                "a.  A születési dátum csak az évet, hónapot és a napot tartalmazza! \n",
                "\n",
                "b.  A születési dátum oszlopát nevezzük el 'Születési idő'-nek!"
            ],
            "metadata": {
                "azdata_cell_guid": "3aeb6bf5-b111-40d5-92b2-9712ce335696"
            },
            "attachments": {}
        },
        {
            "cell_type": "code",
            "source": [
                "SELECT Nev, \r\n",
                "       CAST(Szulido AS DATE) AS 'Születési idő'\r\n",
                "FROM diak\r\n",
                "WHERE YEAR(Szulido) in (1984, 1985)"
            ],
            "metadata": {
                "azdata_cell_guid": "3e89b651-f56f-4102-af52-30eb2bbe360d",
                "language": "sql"
            },
            "outputs": [],
            "execution_count": null
        },
        {
            "cell_type": "markdown",
            "source": [
                "8. Készítsünk lekérdezést, amely a tanulók nevét és az ebből képzett felhasználói nevét tartalmazza. \n",
                "\n",
                "  \n",
                "\n",
                "a.  A felhasználói név álljon a név első kettő, illetve utolsó kettő betűjének összefűzéséből!\n",
                "\n",
                "b.  A listát szűrjük azon tanulókra, akik teljes neve - szóközzel együtt - legalább 10 betűs!"
            ],
            "metadata": {
                "azdata_cell_guid": "26a504dc-ff6a-439f-94c0-4580eca3eacf"
            },
            "attachments": {}
        },
        {
            "cell_type": "code",
            "source": [
                "SELECT Nev, \r\n",
                "       LEFT(Nev, 2) + RIGHT(Nev, 2) AS 'Felhasználói név'\r\n",
                "FROM diak\r\n",
                "WHERE LEN(Nev) >=10"
            ],
            "metadata": {
                "azdata_cell_guid": "1cbb8aeb-78b5-4350-aa45-e3202fdab85b",
                "language": "sql"
            },
            "outputs": [],
            "execution_count": null
        },
        {
            "cell_type": "markdown",
            "source": [
                "9. Készítsünk listát a diákok adatairól, ahol a diákok neve úgy jelenik meg, hogy először a keresztnév, majd a vezetéknév, közöttük szóközzel!  \n",
                "\n",
                "a.  Ezen felül a születési idő három külön oszlopban jelenjen meg (év, hónap, nap). \n",
                "\n",
                "b.  Az oszlopokat nevezzük el értelemszerűen!"
            ],
            "metadata": {
                "azdata_cell_guid": "435e2860-2dd5-4877-90f4-34a43baeb53c"
            },
            "attachments": {}
        },
        {
            "cell_type": "code",
            "source": [
                "SELECT DiakAz AS 'Azonosító',\r\n",
                "       RIGHT(Nev, LEN(Nev)-CHARINDEX(' ',Nev))+' '+\r\n",
                "            LEFT(Nev, CHARINDEX(' ',Nev)-1) AS 'Nev',\r\n",
                "\t   YEAR(Szulido) AS 'Születési év',\r\n",
                "\t   MONTH(Szulido) AS 'Születési hónap',\r\n",
                "\t   DAY(Szulido) AS 'Születési nap'\r\n",
                "FROM diak"
            ],
            "metadata": {
                "azdata_cell_guid": "ce846351-ddbe-4d8e-b8fb-2a92c73ac80b",
                "language": "sql"
            },
            "outputs": [],
            "execution_count": null
        },
        {
            "cell_type": "markdown",
            "source": [
                "10. Készítsünk listát a munkák azonosítójáról és megnevezéséről! Egy új oszlopban azt is jelenítsük meg, hogy melyik munka hetente mennyit fizet! \n",
                "\n",
                "a.  Az oszlop neve legyen Heti bér, az értéket kerekítsük 1000 forintra! \n",
                "\n",
                "b.  A listát szűrjük azon rekordokra, ahol a kerekített heti bér 10000 Ft felett van!"
            ],
            "metadata": {
                "azdata_cell_guid": "217c5772-afe2-4a7c-b913-e3a3e09d6411"
            },
            "attachments": {}
        },
        {
            "cell_type": "code",
            "source": [
                "SELECT munkaId,\r\n",
                "       allas,\r\n",
                "\t   ROUND(oradij * oraszam * 5, -3) AS 'Heti bér'\r\n",
                "FROM munka\r\n",
                "WHERE ROUND(oradij * oraszam * 5, -3)> 10000\r\n",
                ""
            ],
            "metadata": {
                "azdata_cell_guid": "a9cc0926-3dbd-4ed8-8179-1c39d64a0762",
                "language": "sql"
            },
            "outputs": [],
            "execution_count": null
        },
        {
            "cell_type": "markdown",
            "source": [
                "11. A diákok számára differenciált béremelést terveznek: a középiskolások esetében 33%, egyéb esetben 17% mértékben. Készítsünk listát, amely tartalmazza a munkák azonosítóját, az állás nevét, az eredeti óradíjat és a tervezett emelt óradíjat.\n",
                "\n",
                "  \n",
                "\n",
                "a.  Az oszlopoknak adjuk nevet értelemszerűen!\n",
                "\n",
                "b.  Az emelt óradíj összegét kerekítsük egészre! (Az esetlegesen megjelenő 0 tizedesjegyekkel ne foglalkozzunk)"
            ],
            "metadata": {
                "azdata_cell_guid": "d2340f5f-1614-473c-b937-85740d67f7c1"
            },
            "attachments": {}
        },
        {
            "cell_type": "code",
            "source": [
                "SELECT munkaid AS 'Munka azonosítája',\r\n",
                "\t   oradij AS 'Eredeti óradíj',\r\n",
                "\t   ROUND(oradij * IIF(kozepiskolas = 1, 1.33, 1.17), 0) \r\n",
                "       AS 'Emelt óradíj'\r\n",
                "FROM munka"
            ],
            "metadata": {
                "azdata_cell_guid": "e99c2c53-898f-4787-b0e6-182d106dc16f",
                "language": "sql"
            },
            "outputs": [
                {
                    "output_type": "display_data",
                    "data": {
                        "text/html": "(41 rows affected)"
                    },
                    "metadata": {}
                },
                {
                    "output_type": "display_data",
                    "data": {
                        "text/html": "Total execution time: 00:00:00.020"
                    },
                    "metadata": {}
                },
                {
                    "output_type": "execute_result",
                    "metadata": {},
                    "execution_count": 6,
                    "data": {
                        "application/vnd.dataresource+json": {
                            "schema": {
                                "fields": [
                                    {
                                        "name": "Munka azonosítája"
                                    },
                                    {
                                        "name": "Eredeti óradíj"
                                    },
                                    {
                                        "name": "Emelt óradíj"
                                    }
                                ]
                            },
                            "data": [
                                {
                                    "Munka azonosítája": "1",
                                    "Eredeti óradíj": "400",
                                    "Emelt óradíj": "468.00"
                                },
                                {
                                    "Munka azonosítája": "2",
                                    "Eredeti óradíj": "300",
                                    "Emelt óradíj": "351.00"
                                },
                                {
                                    "Munka azonosítája": "3",
                                    "Eredeti óradíj": "500",
                                    "Emelt óradíj": "665.00"
                                },
                                {
                                    "Munka azonosítája": "4",
                                    "Eredeti óradíj": "350",
                                    "Emelt óradíj": "410.00"
                                },
                                {
                                    "Munka azonosítája": "5",
                                    "Eredeti óradíj": "450",
                                    "Emelt óradíj": "527.00"
                                },
                                {
                                    "Munka azonosítája": "6",
                                    "Eredeti óradíj": "300",
                                    "Emelt óradíj": "399.00"
                                },
                                {
                                    "Munka azonosítája": "7",
                                    "Eredeti óradíj": "400",
                                    "Emelt óradíj": "468.00"
                                },
                                {
                                    "Munka azonosítája": "8",
                                    "Eredeti óradíj": "300",
                                    "Emelt óradíj": "351.00"
                                },
                                {
                                    "Munka azonosítája": "9",
                                    "Eredeti óradíj": "400",
                                    "Emelt óradíj": "468.00"
                                },
                                {
                                    "Munka azonosítája": "10",
                                    "Eredeti óradíj": "400",
                                    "Emelt óradíj": "468.00"
                                },
                                {
                                    "Munka azonosítája": "11",
                                    "Eredeti óradíj": "300",
                                    "Emelt óradíj": "399.00"
                                },
                                {
                                    "Munka azonosítája": "12",
                                    "Eredeti óradíj": "300",
                                    "Emelt óradíj": "399.00"
                                },
                                {
                                    "Munka azonosítája": "13",
                                    "Eredeti óradíj": "400",
                                    "Emelt óradíj": "468.00"
                                },
                                {
                                    "Munka azonosítája": "14",
                                    "Eredeti óradíj": "400",
                                    "Emelt óradíj": "468.00"
                                },
                                {
                                    "Munka azonosítája": "15",
                                    "Eredeti óradíj": "400",
                                    "Emelt óradíj": "468.00"
                                },
                                {
                                    "Munka azonosítája": "16",
                                    "Eredeti óradíj": "450",
                                    "Emelt óradíj": "527.00"
                                },
                                {
                                    "Munka azonosítája": "17",
                                    "Eredeti óradíj": "450",
                                    "Emelt óradíj": "527.00"
                                },
                                {
                                    "Munka azonosítája": "18",
                                    "Eredeti óradíj": "500",
                                    "Emelt óradíj": "585.00"
                                },
                                {
                                    "Munka azonosítája": "19",
                                    "Eredeti óradíj": "500",
                                    "Emelt óradíj": "585.00"
                                },
                                {
                                    "Munka azonosítája": "20",
                                    "Eredeti óradíj": "350",
                                    "Emelt óradíj": "466.00"
                                },
                                {
                                    "Munka azonosítája": "21",
                                    "Eredeti óradíj": "350",
                                    "Emelt óradíj": "466.00"
                                },
                                {
                                    "Munka azonosítája": "22",
                                    "Eredeti óradíj": "400",
                                    "Emelt óradíj": "468.00"
                                },
                                {
                                    "Munka azonosítája": "23",
                                    "Eredeti óradíj": "300",
                                    "Emelt óradíj": "351.00"
                                },
                                {
                                    "Munka azonosítája": "24",
                                    "Eredeti óradíj": "300",
                                    "Emelt óradíj": "351.00"
                                },
                                {
                                    "Munka azonosítája": "25",
                                    "Eredeti óradíj": "250",
                                    "Emelt óradíj": "333.00"
                                },
                                {
                                    "Munka azonosítája": "26",
                                    "Eredeti óradíj": "250",
                                    "Emelt óradíj": "333.00"
                                },
                                {
                                    "Munka azonosítája": "27",
                                    "Eredeti óradíj": "300",
                                    "Emelt óradíj": "399.00"
                                },
                                {
                                    "Munka azonosítája": "28",
                                    "Eredeti óradíj": "300",
                                    "Emelt óradíj": "399.00"
                                },
                                {
                                    "Munka azonosítája": "29",
                                    "Eredeti óradíj": "300",
                                    "Emelt óradíj": "399.00"
                                },
                                {
                                    "Munka azonosítája": "30",
                                    "Eredeti óradíj": "300",
                                    "Emelt óradíj": "399.00"
                                },
                                {
                                    "Munka azonosítája": "31",
                                    "Eredeti óradíj": "200",
                                    "Emelt óradíj": "266.00"
                                },
                                {
                                    "Munka azonosítája": "32",
                                    "Eredeti óradíj": "200",
                                    "Emelt óradíj": "266.00"
                                },
                                {
                                    "Munka azonosítája": "33",
                                    "Eredeti óradíj": "200",
                                    "Emelt óradíj": "266.00"
                                },
                                {
                                    "Munka azonosítája": "34",
                                    "Eredeti óradíj": "200",
                                    "Emelt óradíj": "266.00"
                                },
                                {
                                    "Munka azonosítája": "35",
                                    "Eredeti óradíj": "300",
                                    "Emelt óradíj": "351.00"
                                },
                                {
                                    "Munka azonosítája": "36",
                                    "Eredeti óradíj": "300",
                                    "Emelt óradíj": "351.00"
                                },
                                {
                                    "Munka azonosítája": "37",
                                    "Eredeti óradíj": "300",
                                    "Emelt óradíj": "351.00"
                                },
                                {
                                    "Munka azonosítája": "38",
                                    "Eredeti óradíj": "400",
                                    "Emelt óradíj": "468.00"
                                },
                                {
                                    "Munka azonosítája": "39",
                                    "Eredeti óradíj": "400",
                                    "Emelt óradíj": "468.00"
                                },
                                {
                                    "Munka azonosítája": "40",
                                    "Eredeti óradíj": "400",
                                    "Emelt óradíj": "468.00"
                                },
                                {
                                    "Munka azonosítája": "41",
                                    "Eredeti óradíj": "400",
                                    "Emelt óradíj": "468.00"
                                }
                            ]
                        },
                        "text/html": [
                            "<table>",
                            "<tr><th>Munka azonosítája</th><th>Eredeti óradíj</th><th>Emelt óradíj</th></tr>",
                            "<tr><td>1</td><td>400</td><td>468.00</td></tr>",
                            "<tr><td>2</td><td>300</td><td>351.00</td></tr>",
                            "<tr><td>3</td><td>500</td><td>665.00</td></tr>",
                            "<tr><td>4</td><td>350</td><td>410.00</td></tr>",
                            "<tr><td>5</td><td>450</td><td>527.00</td></tr>",
                            "<tr><td>6</td><td>300</td><td>399.00</td></tr>",
                            "<tr><td>7</td><td>400</td><td>468.00</td></tr>",
                            "<tr><td>8</td><td>300</td><td>351.00</td></tr>",
                            "<tr><td>9</td><td>400</td><td>468.00</td></tr>",
                            "<tr><td>10</td><td>400</td><td>468.00</td></tr>",
                            "<tr><td>11</td><td>300</td><td>399.00</td></tr>",
                            "<tr><td>12</td><td>300</td><td>399.00</td></tr>",
                            "<tr><td>13</td><td>400</td><td>468.00</td></tr>",
                            "<tr><td>14</td><td>400</td><td>468.00</td></tr>",
                            "<tr><td>15</td><td>400</td><td>468.00</td></tr>",
                            "<tr><td>16</td><td>450</td><td>527.00</td></tr>",
                            "<tr><td>17</td><td>450</td><td>527.00</td></tr>",
                            "<tr><td>18</td><td>500</td><td>585.00</td></tr>",
                            "<tr><td>19</td><td>500</td><td>585.00</td></tr>",
                            "<tr><td>20</td><td>350</td><td>466.00</td></tr>",
                            "<tr><td>21</td><td>350</td><td>466.00</td></tr>",
                            "<tr><td>22</td><td>400</td><td>468.00</td></tr>",
                            "<tr><td>23</td><td>300</td><td>351.00</td></tr>",
                            "<tr><td>24</td><td>300</td><td>351.00</td></tr>",
                            "<tr><td>25</td><td>250</td><td>333.00</td></tr>",
                            "<tr><td>26</td><td>250</td><td>333.00</td></tr>",
                            "<tr><td>27</td><td>300</td><td>399.00</td></tr>",
                            "<tr><td>28</td><td>300</td><td>399.00</td></tr>",
                            "<tr><td>29</td><td>300</td><td>399.00</td></tr>",
                            "<tr><td>30</td><td>300</td><td>399.00</td></tr>",
                            "<tr><td>31</td><td>200</td><td>266.00</td></tr>",
                            "<tr><td>32</td><td>200</td><td>266.00</td></tr>",
                            "<tr><td>33</td><td>200</td><td>266.00</td></tr>",
                            "<tr><td>34</td><td>200</td><td>266.00</td></tr>",
                            "<tr><td>35</td><td>300</td><td>351.00</td></tr>",
                            "<tr><td>36</td><td>300</td><td>351.00</td></tr>",
                            "<tr><td>37</td><td>300</td><td>351.00</td></tr>",
                            "<tr><td>38</td><td>400</td><td>468.00</td></tr>",
                            "<tr><td>39</td><td>400</td><td>468.00</td></tr>",
                            "<tr><td>40</td><td>400</td><td>468.00</td></tr>",
                            "<tr><td>41</td><td>400</td><td>468.00</td></tr>",
                            "</table>"
                        ]
                    }
                }
            ],
            "execution_count": 6
        },
        {
            "cell_type": "markdown",
            "source": [
                "12. A diákok számára próbaidőt írnak elő, amely a munka kezdetétől számítva 3 hónapig tart.    Jelenítsük meg a munka tábla adatait egy új oszloppal kiegészítve, amelyik a próbaidő    végének dátumát mutatja!  \n",
                "\n",
                "  \n",
                "\n",
                "a.  Az oszlop neve Próbaidő vége legyen! \n",
                "\n",
                "b.  A lista ne tartalmazza azokat a munkákat, ahol a diákok azonosítója nincs megadva!"
            ],
            "metadata": {
                "azdata_cell_guid": "a765e9d6-58b3-4171-872a-78f3118fd6e3"
            },
            "attachments": {}
        },
        {
            "cell_type": "code",
            "source": [
                "SELECT *,\r\n",
                "       DATEADD(month, 3, datum) AS 'Próbaidő vége'\r\n",
                "FROM   munka\r\n",
                "WHERE  DiakAz IS NOT NULL"
            ],
            "metadata": {
                "azdata_cell_guid": "422e8127-b652-4d3a-bfd7-9b1637b5781e",
                "language": "sql"
            },
            "outputs": [
                {
                    "output_type": "display_data",
                    "data": {
                        "text/html": "(31 rows affected)"
                    },
                    "metadata": {}
                },
                {
                    "output_type": "display_data",
                    "data": {
                        "text/html": "Total execution time: 00:00:00.011"
                    },
                    "metadata": {}
                },
                {
                    "output_type": "execute_result",
                    "metadata": {},
                    "execution_count": 5,
                    "data": {
                        "application/vnd.dataresource+json": {
                            "schema": {
                                "fields": [
                                    {
                                        "name": "munkaId"
                                    },
                                    {
                                        "name": "MhelyId"
                                    },
                                    {
                                        "name": "DiakAz"
                                    },
                                    {
                                        "name": "allas"
                                    },
                                    {
                                        "name": "datum"
                                    },
                                    {
                                        "name": "oradij"
                                    },
                                    {
                                        "name": "oraszam"
                                    },
                                    {
                                        "name": "kozepiskolas"
                                    },
                                    {
                                        "name": "Próbaidő vége"
                                    }
                                ]
                            },
                            "data": [
                                {
                                    "munkaId": "1",
                                    "MhelyId": "1",
                                    "DiakAz": "1",
                                    "allas": "kézbesítő",
                                    "datum": "2003-07-02 00:00:00.000",
                                    "oradij": "400",
                                    "oraszam": "4",
                                    "kozepiskolas": "0",
                                    "Próbaidő vége": "2003-10-02 00:00:00.000"
                                },
                                {
                                    "munkaId": "2",
                                    "MhelyId": "1",
                                    "DiakAz": "2",
                                    "allas": "ügyfélszolgálati munkatárs",
                                    "datum": "2003-07-03 00:00:00.000",
                                    "oradij": "300",
                                    "oraszam": "4",
                                    "kozepiskolas": "0",
                                    "Próbaidő vége": "2003-10-03 00:00:00.000"
                                },
                                {
                                    "munkaId": "3",
                                    "MhelyId": "2",
                                    "DiakAz": "1",
                                    "allas": "kisegítő",
                                    "datum": "2003-07-01 00:00:00.000",
                                    "oradij": "500",
                                    "oraszam": "4",
                                    "kozepiskolas": "1",
                                    "Próbaidő vége": "2003-10-01 00:00:00.000"
                                },
                                {
                                    "munkaId": "4",
                                    "MhelyId": "2",
                                    "DiakAz": "2",
                                    "allas": "eladó",
                                    "datum": "2003-07-01 00:00:00.000",
                                    "oradij": "350",
                                    "oraszam": "4",
                                    "kozepiskolas": "0",
                                    "Próbaidő vége": "2003-10-01 00:00:00.000"
                                },
                                {
                                    "munkaId": "5",
                                    "MhelyId": "1",
                                    "DiakAz": "1",
                                    "allas": "kézbesítő",
                                    "datum": "2003-07-03 00:00:00.000",
                                    "oradij": "450",
                                    "oraszam": "6",
                                    "kozepiskolas": "0",
                                    "Próbaidő vége": "2003-10-03 00:00:00.000"
                                },
                                {
                                    "munkaId": "6",
                                    "MhelyId": "1",
                                    "DiakAz": "2",
                                    "allas": "futár",
                                    "datum": "2003-07-06 00:00:00.000",
                                    "oradij": "300",
                                    "oraszam": "5",
                                    "kozepiskolas": "1",
                                    "Próbaidő vége": "2003-10-06 00:00:00.000"
                                },
                                {
                                    "munkaId": "9",
                                    "MhelyId": "9",
                                    "DiakAz": "6",
                                    "allas": "takarító",
                                    "datum": "2003-06-19 00:00:00.000",
                                    "oradij": "400",
                                    "oraszam": "4",
                                    "kozepiskolas": "0",
                                    "Próbaidő vége": "2003-09-19 00:00:00.000"
                                },
                                {
                                    "munkaId": "10",
                                    "MhelyId": "9",
                                    "DiakAz": "6",
                                    "allas": "takarító",
                                    "datum": "2003-06-20 00:00:00.000",
                                    "oradij": "400",
                                    "oraszam": "4",
                                    "kozepiskolas": "0",
                                    "Próbaidő vége": "2003-09-20 00:00:00.000"
                                },
                                {
                                    "munkaId": "11",
                                    "MhelyId": "9",
                                    "DiakAz": "8",
                                    "allas": "kisegítő",
                                    "datum": "2003-06-21 00:00:00.000",
                                    "oradij": "300",
                                    "oraszam": "6",
                                    "kozepiskolas": "1",
                                    "Próbaidő vége": "2003-09-21 00:00:00.000"
                                },
                                {
                                    "munkaId": "12",
                                    "MhelyId": "9",
                                    "DiakAz": "8",
                                    "allas": "kisegítő",
                                    "datum": "2003-06-22 00:00:00.000",
                                    "oradij": "300",
                                    "oraszam": "6",
                                    "kozepiskolas": "1",
                                    "Próbaidő vége": "2003-09-22 00:00:00.000"
                                },
                                {
                                    "munkaId": "13",
                                    "MhelyId": "9",
                                    "DiakAz": "6",
                                    "allas": "takarító",
                                    "datum": "2003-06-23 00:00:00.000",
                                    "oradij": "400",
                                    "oraszam": "4",
                                    "kozepiskolas": "0",
                                    "Próbaidő vége": "2003-09-23 00:00:00.000"
                                },
                                {
                                    "munkaId": "14",
                                    "MhelyId": "6",
                                    "DiakAz": "4",
                                    "allas": "ruhatáros",
                                    "datum": "2003-09-11 00:00:00.000",
                                    "oradij": "400",
                                    "oraszam": "4",
                                    "kozepiskolas": "0",
                                    "Próbaidő vége": "2003-12-11 00:00:00.000"
                                },
                                {
                                    "munkaId": "15",
                                    "MhelyId": "6",
                                    "DiakAz": "7",
                                    "allas": "ruhatáros",
                                    "datum": "2003-09-11 00:00:00.000",
                                    "oradij": "400",
                                    "oraszam": "4",
                                    "kozepiskolas": "0",
                                    "Próbaidő vége": "2003-12-11 00:00:00.000"
                                },
                                {
                                    "munkaId": "16",
                                    "MhelyId": "6",
                                    "DiakAz": "5",
                                    "allas": "pincér",
                                    "datum": "2003-06-11 00:00:00.000",
                                    "oradij": "450",
                                    "oraszam": "6",
                                    "kozepiskolas": "0",
                                    "Próbaidő vége": "2003-09-11 00:00:00.000"
                                },
                                {
                                    "munkaId": "17",
                                    "MhelyId": "6",
                                    "DiakAz": "5",
                                    "allas": "pincér",
                                    "datum": "2003-06-12 00:00:00.000",
                                    "oradij": "450",
                                    "oraszam": "6",
                                    "kozepiskolas": "0",
                                    "Próbaidő vége": "2003-09-12 00:00:00.000"
                                },
                                {
                                    "munkaId": "18",
                                    "MhelyId": "8",
                                    "DiakAz": "9",
                                    "allas": "eladó",
                                    "datum": "2003-07-21 00:00:00.000",
                                    "oradij": "500",
                                    "oraszam": "4",
                                    "kozepiskolas": "0",
                                    "Próbaidő vége": "2003-10-21 00:00:00.000"
                                },
                                {
                                    "munkaId": "19",
                                    "MhelyId": "8",
                                    "DiakAz": "9",
                                    "allas": "eladó",
                                    "datum": "2003-07-22 00:00:00.000",
                                    "oradij": "500",
                                    "oraszam": "4",
                                    "kozepiskolas": "0",
                                    "Próbaidő vége": "2003-10-22 00:00:00.000"
                                },
                                {
                                    "munkaId": "20",
                                    "MhelyId": "8",
                                    "DiakAz": "10",
                                    "allas": "takarító",
                                    "datum": "2003-08-10 00:00:00.000",
                                    "oradij": "350",
                                    "oraszam": "6",
                                    "kozepiskolas": "1",
                                    "Próbaidő vége": "2003-11-10 00:00:00.000"
                                },
                                {
                                    "munkaId": "21",
                                    "MhelyId": "8",
                                    "DiakAz": "10",
                                    "allas": "takarító",
                                    "datum": "2003-08-11 00:00:00.000",
                                    "oradij": "350",
                                    "oraszam": "6",
                                    "kozepiskolas": "1",
                                    "Próbaidő vége": "2003-11-11 00:00:00.000"
                                },
                                {
                                    "munkaId": "22",
                                    "MhelyId": "11",
                                    "DiakAz": "5",
                                    "allas": "eladó",
                                    "datum": "2003-05-10 00:00:00.000",
                                    "oradij": "400",
                                    "oraszam": "4",
                                    "kozepiskolas": "0",
                                    "Próbaidő vége": "2003-08-10 00:00:00.000"
                                },
                                {
                                    "munkaId": "23",
                                    "MhelyId": "11",
                                    "DiakAz": "6",
                                    "allas": "raktáros",
                                    "datum": "2003-05-20 00:00:00.000",
                                    "oradij": "300",
                                    "oraszam": "4",
                                    "kozepiskolas": "0",
                                    "Próbaidő vége": "2003-08-20 00:00:00.000"
                                },
                                {
                                    "munkaId": "24",
                                    "MhelyId": "11",
                                    "DiakAz": "5",
                                    "allas": "eladó",
                                    "datum": "2003-06-23 00:00:00.000",
                                    "oradij": "300",
                                    "oraszam": "6",
                                    "kozepiskolas": "0",
                                    "Próbaidő vége": "2003-09-23 00:00:00.000"
                                },
                                {
                                    "munkaId": "27",
                                    "MhelyId": "10",
                                    "DiakAz": "3",
                                    "allas": "takarító",
                                    "datum": "2003-07-31 00:00:00.000",
                                    "oradij": "300",
                                    "oraszam": "4",
                                    "kozepiskolas": "1",
                                    "Próbaidő vége": "2003-10-31 00:00:00.000"
                                },
                                {
                                    "munkaId": "28",
                                    "MhelyId": "10",
                                    "DiakAz": "3",
                                    "allas": "takarító",
                                    "datum": "2003-08-01 00:00:00.000",
                                    "oradij": "300",
                                    "oraszam": "4",
                                    "kozepiskolas": "1",
                                    "Próbaidő vége": "2003-11-01 00:00:00.000"
                                },
                                {
                                    "munkaId": "29",
                                    "MhelyId": "10",
                                    "DiakAz": "8",
                                    "allas": "eladó",
                                    "datum": "2003-09-12 00:00:00.000",
                                    "oradij": "300",
                                    "oraszam": "6",
                                    "kozepiskolas": "1",
                                    "Próbaidő vége": "2003-12-12 00:00:00.000"
                                },
                                {
                                    "munkaId": "30",
                                    "MhelyId": "10",
                                    "DiakAz": "8",
                                    "allas": "eladó",
                                    "datum": "2003-09-13 00:00:00.000",
                                    "oradij": "300",
                                    "oraszam": "6",
                                    "kozepiskolas": "1",
                                    "Próbaidő vége": "2003-12-13 00:00:00.000"
                                },
                                {
                                    "munkaId": "31",
                                    "MhelyId": "7",
                                    "DiakAz": "8",
                                    "allas": "ruhatáros",
                                    "datum": "2003-08-20 00:00:00.000",
                                    "oradij": "200",
                                    "oraszam": "4",
                                    "kozepiskolas": "1",
                                    "Próbaidő vége": "2003-11-20 00:00:00.000"
                                },
                                {
                                    "munkaId": "32",
                                    "MhelyId": "7",
                                    "DiakAz": "8",
                                    "allas": "ruhatáros",
                                    "datum": "2003-08-21 00:00:00.000",
                                    "oradij": "200",
                                    "oraszam": "4",
                                    "kozepiskolas": "1",
                                    "Próbaidő vége": "2003-11-21 00:00:00.000"
                                },
                                {
                                    "munkaId": "38",
                                    "MhelyId": "5",
                                    "DiakAz": "7",
                                    "allas": "eladó",
                                    "datum": "2003-06-05 00:00:00.000",
                                    "oradij": "400",
                                    "oraszam": "4",
                                    "kozepiskolas": "0",
                                    "Próbaidő vége": "2003-09-05 00:00:00.000"
                                },
                                {
                                    "munkaId": "39",
                                    "MhelyId": "5",
                                    "DiakAz": "7",
                                    "allas": "eladó",
                                    "datum": "2003-06-06 00:00:00.000",
                                    "oradij": "400",
                                    "oraszam": "4",
                                    "kozepiskolas": "0",
                                    "Próbaidő vége": "2003-09-06 00:00:00.000"
                                },
                                {
                                    "munkaId": "40",
                                    "MhelyId": "5",
                                    "DiakAz": "7",
                                    "allas": "eladó",
                                    "datum": "2003-06-07 00:00:00.000",
                                    "oradij": "400",
                                    "oraszam": "4",
                                    "kozepiskolas": "0",
                                    "Próbaidő vége": "2003-09-07 00:00:00.000"
                                }
                            ]
                        },
                        "text/html": [
                            "<table>",
                            "<tr><th>munkaId</th><th>MhelyId</th><th>DiakAz</th><th>allas</th><th>datum</th><th>oradij</th><th>oraszam</th><th>kozepiskolas</th><th>Próbaidő vége</th></tr>",
                            "<tr><td>1</td><td>1</td><td>1</td><td>kézbesítő</td><td>2003-07-02 00:00:00.000</td><td>400</td><td>4</td><td>0</td><td>2003-10-02 00:00:00.000</td></tr>",
                            "<tr><td>2</td><td>1</td><td>2</td><td>ügyfélszolgálati munkatárs</td><td>2003-07-03 00:00:00.000</td><td>300</td><td>4</td><td>0</td><td>2003-10-03 00:00:00.000</td></tr>",
                            "<tr><td>3</td><td>2</td><td>1</td><td>kisegítő</td><td>2003-07-01 00:00:00.000</td><td>500</td><td>4</td><td>1</td><td>2003-10-01 00:00:00.000</td></tr>",
                            "<tr><td>4</td><td>2</td><td>2</td><td>eladó</td><td>2003-07-01 00:00:00.000</td><td>350</td><td>4</td><td>0</td><td>2003-10-01 00:00:00.000</td></tr>",
                            "<tr><td>5</td><td>1</td><td>1</td><td>kézbesítő</td><td>2003-07-03 00:00:00.000</td><td>450</td><td>6</td><td>0</td><td>2003-10-03 00:00:00.000</td></tr>",
                            "<tr><td>6</td><td>1</td><td>2</td><td>futár</td><td>2003-07-06 00:00:00.000</td><td>300</td><td>5</td><td>1</td><td>2003-10-06 00:00:00.000</td></tr>",
                            "<tr><td>9</td><td>9</td><td>6</td><td>takarító</td><td>2003-06-19 00:00:00.000</td><td>400</td><td>4</td><td>0</td><td>2003-09-19 00:00:00.000</td></tr>",
                            "<tr><td>10</td><td>9</td><td>6</td><td>takarító</td><td>2003-06-20 00:00:00.000</td><td>400</td><td>4</td><td>0</td><td>2003-09-20 00:00:00.000</td></tr>",
                            "<tr><td>11</td><td>9</td><td>8</td><td>kisegítő</td><td>2003-06-21 00:00:00.000</td><td>300</td><td>6</td><td>1</td><td>2003-09-21 00:00:00.000</td></tr>",
                            "<tr><td>12</td><td>9</td><td>8</td><td>kisegítő</td><td>2003-06-22 00:00:00.000</td><td>300</td><td>6</td><td>1</td><td>2003-09-22 00:00:00.000</td></tr>",
                            "<tr><td>13</td><td>9</td><td>6</td><td>takarító</td><td>2003-06-23 00:00:00.000</td><td>400</td><td>4</td><td>0</td><td>2003-09-23 00:00:00.000</td></tr>",
                            "<tr><td>14</td><td>6</td><td>4</td><td>ruhatáros</td><td>2003-09-11 00:00:00.000</td><td>400</td><td>4</td><td>0</td><td>2003-12-11 00:00:00.000</td></tr>",
                            "<tr><td>15</td><td>6</td><td>7</td><td>ruhatáros</td><td>2003-09-11 00:00:00.000</td><td>400</td><td>4</td><td>0</td><td>2003-12-11 00:00:00.000</td></tr>",
                            "<tr><td>16</td><td>6</td><td>5</td><td>pincér</td><td>2003-06-11 00:00:00.000</td><td>450</td><td>6</td><td>0</td><td>2003-09-11 00:00:00.000</td></tr>",
                            "<tr><td>17</td><td>6</td><td>5</td><td>pincér</td><td>2003-06-12 00:00:00.000</td><td>450</td><td>6</td><td>0</td><td>2003-09-12 00:00:00.000</td></tr>",
                            "<tr><td>18</td><td>8</td><td>9</td><td>eladó</td><td>2003-07-21 00:00:00.000</td><td>500</td><td>4</td><td>0</td><td>2003-10-21 00:00:00.000</td></tr>",
                            "<tr><td>19</td><td>8</td><td>9</td><td>eladó</td><td>2003-07-22 00:00:00.000</td><td>500</td><td>4</td><td>0</td><td>2003-10-22 00:00:00.000</td></tr>",
                            "<tr><td>20</td><td>8</td><td>10</td><td>takarító</td><td>2003-08-10 00:00:00.000</td><td>350</td><td>6</td><td>1</td><td>2003-11-10 00:00:00.000</td></tr>",
                            "<tr><td>21</td><td>8</td><td>10</td><td>takarító</td><td>2003-08-11 00:00:00.000</td><td>350</td><td>6</td><td>1</td><td>2003-11-11 00:00:00.000</td></tr>",
                            "<tr><td>22</td><td>11</td><td>5</td><td>eladó</td><td>2003-05-10 00:00:00.000</td><td>400</td><td>4</td><td>0</td><td>2003-08-10 00:00:00.000</td></tr>",
                            "<tr><td>23</td><td>11</td><td>6</td><td>raktáros</td><td>2003-05-20 00:00:00.000</td><td>300</td><td>4</td><td>0</td><td>2003-08-20 00:00:00.000</td></tr>",
                            "<tr><td>24</td><td>11</td><td>5</td><td>eladó</td><td>2003-06-23 00:00:00.000</td><td>300</td><td>6</td><td>0</td><td>2003-09-23 00:00:00.000</td></tr>",
                            "<tr><td>27</td><td>10</td><td>3</td><td>takarító</td><td>2003-07-31 00:00:00.000</td><td>300</td><td>4</td><td>1</td><td>2003-10-31 00:00:00.000</td></tr>",
                            "<tr><td>28</td><td>10</td><td>3</td><td>takarító</td><td>2003-08-01 00:00:00.000</td><td>300</td><td>4</td><td>1</td><td>2003-11-01 00:00:00.000</td></tr>",
                            "<tr><td>29</td><td>10</td><td>8</td><td>eladó</td><td>2003-09-12 00:00:00.000</td><td>300</td><td>6</td><td>1</td><td>2003-12-12 00:00:00.000</td></tr>",
                            "<tr><td>30</td><td>10</td><td>8</td><td>eladó</td><td>2003-09-13 00:00:00.000</td><td>300</td><td>6</td><td>1</td><td>2003-12-13 00:00:00.000</td></tr>",
                            "<tr><td>31</td><td>7</td><td>8</td><td>ruhatáros</td><td>2003-08-20 00:00:00.000</td><td>200</td><td>4</td><td>1</td><td>2003-11-20 00:00:00.000</td></tr>",
                            "<tr><td>32</td><td>7</td><td>8</td><td>ruhatáros</td><td>2003-08-21 00:00:00.000</td><td>200</td><td>4</td><td>1</td><td>2003-11-21 00:00:00.000</td></tr>",
                            "<tr><td>38</td><td>5</td><td>7</td><td>eladó</td><td>2003-06-05 00:00:00.000</td><td>400</td><td>4</td><td>0</td><td>2003-09-05 00:00:00.000</td></tr>",
                            "<tr><td>39</td><td>5</td><td>7</td><td>eladó</td><td>2003-06-06 00:00:00.000</td><td>400</td><td>4</td><td>0</td><td>2003-09-06 00:00:00.000</td></tr>",
                            "<tr><td>40</td><td>5</td><td>7</td><td>eladó</td><td>2003-06-07 00:00:00.000</td><td>400</td><td>4</td><td>0</td><td>2003-09-07 00:00:00.000</td></tr>",
                            "</table>"
                        ]
                    }
                }
            ],
            "execution_count": 5
        },
        {
            "cell_type": "markdown",
            "source": [
                "13. Készítsünk listát a munkák azonosítóiról és a megnevezésükről! A megnevezés allas-óraszám formában jelenjen meg, pl: eladó-4. \n",
                "\n",
                "  \n",
                "\n",
                "a.  Jelenítsük meg a dátumot is, de csak a évet és a hónapot, pl: 2003-07! \n",
                "\n",
                "b.  Ennek az oszlopnak 'Kezdés hónapja' legyen a neve! A listát szűrjük a nyári hónapokra!"
            ],
            "metadata": {
                "azdata_cell_guid": "3f9237ae-f109-401c-acb9-31d75e73331b"
            },
            "attachments": {}
        },
        {
            "cell_type": "code",
            "source": [
                "SELECT munkaId,\r\n",
                "       allas + '-'+ CAST(oraszam AS varchar(1)) AS 'Megnevezés',\r\n",
                "       LEFT(CAST(datum AS date), 7) AS 'Kezdés hónapja'\r\n",
                "FROM munka\r\n",
                "WHERE MONTH(datum) IN (6, 7, 8)"
            ],
            "metadata": {
                "azdata_cell_guid": "4b31bb89-cfbc-46b1-8639-85c462877786",
                "language": "sql"
            },
            "outputs": [
                {
                    "output_type": "display_data",
                    "data": {
                        "text/html": "(32 rows affected)"
                    },
                    "metadata": {}
                },
                {
                    "output_type": "display_data",
                    "data": {
                        "text/html": "Total execution time: 00:00:00.009"
                    },
                    "metadata": {}
                },
                {
                    "output_type": "execute_result",
                    "metadata": {},
                    "execution_count": 4,
                    "data": {
                        "application/vnd.dataresource+json": {
                            "schema": {
                                "fields": [
                                    {
                                        "name": "munkaId"
                                    },
                                    {
                                        "name": "Megnevezés"
                                    },
                                    {
                                        "name": "Kezdés hónapja"
                                    }
                                ]
                            },
                            "data": [
                                {
                                    "munkaId": "1",
                                    "Megnevezés": "kézbesítő-4",
                                    "Kezdés hónapja": "2003-07"
                                },
                                {
                                    "munkaId": "2",
                                    "Megnevezés": "ügyfélszolgálati munkatárs-4",
                                    "Kezdés hónapja": "2003-07"
                                },
                                {
                                    "munkaId": "3",
                                    "Megnevezés": "kisegítő-4",
                                    "Kezdés hónapja": "2003-07"
                                },
                                {
                                    "munkaId": "4",
                                    "Megnevezés": "eladó-4",
                                    "Kezdés hónapja": "2003-07"
                                },
                                {
                                    "munkaId": "5",
                                    "Megnevezés": "kézbesítő-6",
                                    "Kezdés hónapja": "2003-07"
                                },
                                {
                                    "munkaId": "6",
                                    "Megnevezés": "futár-5",
                                    "Kezdés hónapja": "2003-07"
                                },
                                {
                                    "munkaId": "7",
                                    "Megnevezés": "eladó-6",
                                    "Kezdés hónapja": "2003-07"
                                },
                                {
                                    "munkaId": "8",
                                    "Megnevezés": "kisegítő-4",
                                    "Kezdés hónapja": "2003-06"
                                },
                                {
                                    "munkaId": "9",
                                    "Megnevezés": "takarító-4",
                                    "Kezdés hónapja": "2003-06"
                                },
                                {
                                    "munkaId": "10",
                                    "Megnevezés": "takarító-4",
                                    "Kezdés hónapja": "2003-06"
                                },
                                {
                                    "munkaId": "11",
                                    "Megnevezés": "kisegítő-6",
                                    "Kezdés hónapja": "2003-06"
                                },
                                {
                                    "munkaId": "12",
                                    "Megnevezés": "kisegítő-6",
                                    "Kezdés hónapja": "2003-06"
                                },
                                {
                                    "munkaId": "13",
                                    "Megnevezés": "takarító-4",
                                    "Kezdés hónapja": "2003-06"
                                },
                                {
                                    "munkaId": "16",
                                    "Megnevezés": "pincér-6",
                                    "Kezdés hónapja": "2003-06"
                                },
                                {
                                    "munkaId": "17",
                                    "Megnevezés": "pincér-6",
                                    "Kezdés hónapja": "2003-06"
                                },
                                {
                                    "munkaId": "18",
                                    "Megnevezés": "eladó-4",
                                    "Kezdés hónapja": "2003-07"
                                },
                                {
                                    "munkaId": "19",
                                    "Megnevezés": "eladó-4",
                                    "Kezdés hónapja": "2003-07"
                                },
                                {
                                    "munkaId": "20",
                                    "Megnevezés": "takarító-6",
                                    "Kezdés hónapja": "2003-08"
                                },
                                {
                                    "munkaId": "21",
                                    "Megnevezés": "takarító-6",
                                    "Kezdés hónapja": "2003-08"
                                },
                                {
                                    "munkaId": "24",
                                    "Megnevezés": "eladó-6",
                                    "Kezdés hónapja": "2003-06"
                                },
                                {
                                    "munkaId": "25",
                                    "Megnevezés": "takarító-4",
                                    "Kezdés hónapja": "2003-07"
                                },
                                {
                                    "munkaId": "26",
                                    "Megnevezés": "takarító-4",
                                    "Kezdés hónapja": "2003-07"
                                },
                                {
                                    "munkaId": "27",
                                    "Megnevezés": "takarító-4",
                                    "Kezdés hónapja": "2003-07"
                                },
                                {
                                    "munkaId": "28",
                                    "Megnevezés": "takarító-4",
                                    "Kezdés hónapja": "2003-08"
                                },
                                {
                                    "munkaId": "31",
                                    "Megnevezés": "ruhatáros-4",
                                    "Kezdés hónapja": "2003-08"
                                },
                                {
                                    "munkaId": "32",
                                    "Megnevezés": "ruhatáros-4",
                                    "Kezdés hónapja": "2003-08"
                                },
                                {
                                    "munkaId": "33",
                                    "Megnevezés": "ruhatáros-4",
                                    "Kezdés hónapja": "2003-08"
                                },
                                {
                                    "munkaId": "34",
                                    "Megnevezés": "ruhatáros-4",
                                    "Kezdés hónapja": "2003-08"
                                },
                                {
                                    "munkaId": "38",
                                    "Megnevezés": "eladó-4",
                                    "Kezdés hónapja": "2003-06"
                                },
                                {
                                    "munkaId": "39",
                                    "Megnevezés": "eladó-4",
                                    "Kezdés hónapja": "2003-06"
                                },
                                {
                                    "munkaId": "40",
                                    "Megnevezés": "eladó-4",
                                    "Kezdés hónapja": "2003-06"
                                },
                                {
                                    "munkaId": "41",
                                    "Megnevezés": "eladó-6",
                                    "Kezdés hónapja": "2003-07"
                                }
                            ]
                        },
                        "text/html": [
                            "<table>",
                            "<tr><th>munkaId</th><th>Megnevezés</th><th>Kezdés hónapja</th></tr>",
                            "<tr><td>1</td><td>kézbesítő-4</td><td>2003-07</td></tr>",
                            "<tr><td>2</td><td>ügyfélszolgálati munkatárs-4</td><td>2003-07</td></tr>",
                            "<tr><td>3</td><td>kisegítő-4</td><td>2003-07</td></tr>",
                            "<tr><td>4</td><td>eladó-4</td><td>2003-07</td></tr>",
                            "<tr><td>5</td><td>kézbesítő-6</td><td>2003-07</td></tr>",
                            "<tr><td>6</td><td>futár-5</td><td>2003-07</td></tr>",
                            "<tr><td>7</td><td>eladó-6</td><td>2003-07</td></tr>",
                            "<tr><td>8</td><td>kisegítő-4</td><td>2003-06</td></tr>",
                            "<tr><td>9</td><td>takarító-4</td><td>2003-06</td></tr>",
                            "<tr><td>10</td><td>takarító-4</td><td>2003-06</td></tr>",
                            "<tr><td>11</td><td>kisegítő-6</td><td>2003-06</td></tr>",
                            "<tr><td>12</td><td>kisegítő-6</td><td>2003-06</td></tr>",
                            "<tr><td>13</td><td>takarító-4</td><td>2003-06</td></tr>",
                            "<tr><td>16</td><td>pincér-6</td><td>2003-06</td></tr>",
                            "<tr><td>17</td><td>pincér-6</td><td>2003-06</td></tr>",
                            "<tr><td>18</td><td>eladó-4</td><td>2003-07</td></tr>",
                            "<tr><td>19</td><td>eladó-4</td><td>2003-07</td></tr>",
                            "<tr><td>20</td><td>takarító-6</td><td>2003-08</td></tr>",
                            "<tr><td>21</td><td>takarító-6</td><td>2003-08</td></tr>",
                            "<tr><td>24</td><td>eladó-6</td><td>2003-06</td></tr>",
                            "<tr><td>25</td><td>takarító-4</td><td>2003-07</td></tr>",
                            "<tr><td>26</td><td>takarító-4</td><td>2003-07</td></tr>",
                            "<tr><td>27</td><td>takarító-4</td><td>2003-07</td></tr>",
                            "<tr><td>28</td><td>takarító-4</td><td>2003-08</td></tr>",
                            "<tr><td>31</td><td>ruhatáros-4</td><td>2003-08</td></tr>",
                            "<tr><td>32</td><td>ruhatáros-4</td><td>2003-08</td></tr>",
                            "<tr><td>33</td><td>ruhatáros-4</td><td>2003-08</td></tr>",
                            "<tr><td>34</td><td>ruhatáros-4</td><td>2003-08</td></tr>",
                            "<tr><td>38</td><td>eladó-4</td><td>2003-06</td></tr>",
                            "<tr><td>39</td><td>eladó-4</td><td>2003-06</td></tr>",
                            "<tr><td>40</td><td>eladó-4</td><td>2003-06</td></tr>",
                            "<tr><td>41</td><td>eladó-6</td><td>2003-07</td></tr>",
                            "</table>"
                        ]
                    }
                }
            ],
            "execution_count": 4
        },
        {
            "cell_type": "markdown",
            "source": [
                "14. Készítsünk listát a diákok adatairól, amely a Nev oszlop helyén a diák monogramját jeleníti meg (keresztnév, illetve vezetéknév első betűje összefűzve). \n",
                "\n",
                "a.  A listát szűrjük 1983.01.01 és 1987.06.01 között született diákokra!"
            ],
            "metadata": {
                "azdata_cell_guid": "f634e09a-85ef-4e70-8ec6-ef355dfddaa7"
            },
            "attachments": {}
        },
        {
            "cell_type": "code",
            "source": [
                "SELECT DiakAz,\r\n",
                "       LEFT(Nev, 1)+LEFT(RIGHT(NEV, LEN(NEV)-CHARINDEX(' ',NEV)),1) AS 'Nev'\r\n",
                "FROM diak\r\n",
                "WHERE Szulido BETWEEN '1983.01.01' AND '1987.06.01'"
            ],
            "metadata": {
                "azdata_cell_guid": "88abc55b-2c78-495b-a72f-3f8f4eb5fe70",
                "language": "sql"
            },
            "outputs": [
                {
                    "output_type": "display_data",
                    "data": {
                        "text/html": "(4 rows affected)"
                    },
                    "metadata": {}
                },
                {
                    "output_type": "display_data",
                    "data": {
                        "text/html": "Total execution time: 00:00:00.019"
                    },
                    "metadata": {}
                },
                {
                    "output_type": "execute_result",
                    "metadata": {},
                    "execution_count": 3,
                    "data": {
                        "application/vnd.dataresource+json": {
                            "schema": {
                                "fields": [
                                    {
                                        "name": "DiakAz"
                                    },
                                    {
                                        "name": "Nev"
                                    }
                                ]
                            },
                            "data": [
                                {
                                    "DiakAz": "3",
                                    "Nev": "KI"
                                },
                                {
                                    "DiakAz": "5",
                                    "Nev": "KP"
                                },
                                {
                                    "DiakAz": "9",
                                    "Nev": "KO"
                                },
                                {
                                    "DiakAz": "10",
                                    "Nev": "KP"
                                }
                            ]
                        },
                        "text/html": [
                            "<table>",
                            "<tr><th>DiakAz</th><th>Nev</th></tr>",
                            "<tr><td>3</td><td>KI</td></tr>",
                            "<tr><td>5</td><td>KP</td></tr>",
                            "<tr><td>9</td><td>KO</td></tr>",
                            "<tr><td>10</td><td>KP</td></tr>",
                            "</table>"
                        ]
                    }
                }
            ],
            "execution_count": 3
        },
        {
            "cell_type": "markdown",
            "source": [
                "15. A diákok a munkakezdés évének utolsó napján bónuszt kapnak, amennyiben az adott évben legalább 6 hónapot dolgoznak. \n",
                "\n",
                "  \n",
                "\n",
                "a.  Jelenítsük meg, hogy az egyes munkák adatait, egy új oszlopban az éves bónusz napját is 'Bónusz dátum' néven! \n",
                "\n",
                "b.  A lista csak a bónuszra jogosultak adatait tartalmazza!"
            ],
            "metadata": {
                "azdata_cell_guid": "4cbf2f0d-a65d-480a-8186-ccdb24498443"
            },
            "attachments": {}
        },
        {
            "cell_type": "code",
            "source": [
                "SELECT *,\r\n",
                "       CAST(CAST(YEAR(datum) AS VARCHAR(4))+'-12-31' AS DATE) \r\n",
                "       AS 'Bónusz dátum'\r\n",
                "FROM munka\r\n",
                "WHERE DATEDIFF(month, datum, CAST(CAST(YEAR(datum) AS VARCHAR(4))+'-12-31' AS DATE))>=6"
            ],
            "metadata": {
                "azdata_cell_guid": "c148aee8-bc85-40bf-b80a-a4898a6c05cb",
                "language": "sql"
            },
            "outputs": [
                {
                    "output_type": "display_data",
                    "data": {
                        "text/html": "(14 rows affected)"
                    },
                    "metadata": {}
                },
                {
                    "output_type": "display_data",
                    "data": {
                        "text/html": "Total execution time: 00:00:00.009"
                    },
                    "metadata": {}
                },
                {
                    "output_type": "execute_result",
                    "metadata": {},
                    "execution_count": 2,
                    "data": {
                        "application/vnd.dataresource+json": {
                            "schema": {
                                "fields": [
                                    {
                                        "name": "munkaId"
                                    },
                                    {
                                        "name": "MhelyId"
                                    },
                                    {
                                        "name": "DiakAz"
                                    },
                                    {
                                        "name": "allas"
                                    },
                                    {
                                        "name": "datum"
                                    },
                                    {
                                        "name": "oradij"
                                    },
                                    {
                                        "name": "oraszam"
                                    },
                                    {
                                        "name": "kozepiskolas"
                                    },
                                    {
                                        "name": "Bónusz dátum"
                                    }
                                ]
                            },
                            "data": [
                                {
                                    "munkaId": "8",
                                    "MhelyId": "9",
                                    "DiakAz": "NULL",
                                    "allas": "kisegítő",
                                    "datum": "2003-06-19 00:00:00.000",
                                    "oradij": "300",
                                    "oraszam": "4",
                                    "kozepiskolas": "0",
                                    "Bónusz dátum": "2003-12-31"
                                },
                                {
                                    "munkaId": "9",
                                    "MhelyId": "9",
                                    "DiakAz": "6",
                                    "allas": "takarító",
                                    "datum": "2003-06-19 00:00:00.000",
                                    "oradij": "400",
                                    "oraszam": "4",
                                    "kozepiskolas": "0",
                                    "Bónusz dátum": "2003-12-31"
                                },
                                {
                                    "munkaId": "10",
                                    "MhelyId": "9",
                                    "DiakAz": "6",
                                    "allas": "takarító",
                                    "datum": "2003-06-20 00:00:00.000",
                                    "oradij": "400",
                                    "oraszam": "4",
                                    "kozepiskolas": "0",
                                    "Bónusz dátum": "2003-12-31"
                                },
                                {
                                    "munkaId": "11",
                                    "MhelyId": "9",
                                    "DiakAz": "8",
                                    "allas": "kisegítő",
                                    "datum": "2003-06-21 00:00:00.000",
                                    "oradij": "300",
                                    "oraszam": "6",
                                    "kozepiskolas": "1",
                                    "Bónusz dátum": "2003-12-31"
                                },
                                {
                                    "munkaId": "12",
                                    "MhelyId": "9",
                                    "DiakAz": "8",
                                    "allas": "kisegítő",
                                    "datum": "2003-06-22 00:00:00.000",
                                    "oradij": "300",
                                    "oraszam": "6",
                                    "kozepiskolas": "1",
                                    "Bónusz dátum": "2003-12-31"
                                },
                                {
                                    "munkaId": "13",
                                    "MhelyId": "9",
                                    "DiakAz": "6",
                                    "allas": "takarító",
                                    "datum": "2003-06-23 00:00:00.000",
                                    "oradij": "400",
                                    "oraszam": "4",
                                    "kozepiskolas": "0",
                                    "Bónusz dátum": "2003-12-31"
                                },
                                {
                                    "munkaId": "16",
                                    "MhelyId": "6",
                                    "DiakAz": "5",
                                    "allas": "pincér",
                                    "datum": "2003-06-11 00:00:00.000",
                                    "oradij": "450",
                                    "oraszam": "6",
                                    "kozepiskolas": "0",
                                    "Bónusz dátum": "2003-12-31"
                                },
                                {
                                    "munkaId": "17",
                                    "MhelyId": "6",
                                    "DiakAz": "5",
                                    "allas": "pincér",
                                    "datum": "2003-06-12 00:00:00.000",
                                    "oradij": "450",
                                    "oraszam": "6",
                                    "kozepiskolas": "0",
                                    "Bónusz dátum": "2003-12-31"
                                },
                                {
                                    "munkaId": "22",
                                    "MhelyId": "11",
                                    "DiakAz": "5",
                                    "allas": "eladó",
                                    "datum": "2003-05-10 00:00:00.000",
                                    "oradij": "400",
                                    "oraszam": "4",
                                    "kozepiskolas": "0",
                                    "Bónusz dátum": "2003-12-31"
                                },
                                {
                                    "munkaId": "23",
                                    "MhelyId": "11",
                                    "DiakAz": "6",
                                    "allas": "raktáros",
                                    "datum": "2003-05-20 00:00:00.000",
                                    "oradij": "300",
                                    "oraszam": "4",
                                    "kozepiskolas": "0",
                                    "Bónusz dátum": "2003-12-31"
                                },
                                {
                                    "munkaId": "24",
                                    "MhelyId": "11",
                                    "DiakAz": "5",
                                    "allas": "eladó",
                                    "datum": "2003-06-23 00:00:00.000",
                                    "oradij": "300",
                                    "oraszam": "6",
                                    "kozepiskolas": "0",
                                    "Bónusz dátum": "2003-12-31"
                                },
                                {
                                    "munkaId": "38",
                                    "MhelyId": "5",
                                    "DiakAz": "7",
                                    "allas": "eladó",
                                    "datum": "2003-06-05 00:00:00.000",
                                    "oradij": "400",
                                    "oraszam": "4",
                                    "kozepiskolas": "0",
                                    "Bónusz dátum": "2003-12-31"
                                },
                                {
                                    "munkaId": "39",
                                    "MhelyId": "5",
                                    "DiakAz": "7",
                                    "allas": "eladó",
                                    "datum": "2003-06-06 00:00:00.000",
                                    "oradij": "400",
                                    "oraszam": "4",
                                    "kozepiskolas": "0",
                                    "Bónusz dátum": "2003-12-31"
                                },
                                {
                                    "munkaId": "40",
                                    "MhelyId": "5",
                                    "DiakAz": "7",
                                    "allas": "eladó",
                                    "datum": "2003-06-07 00:00:00.000",
                                    "oradij": "400",
                                    "oraszam": "4",
                                    "kozepiskolas": "0",
                                    "Bónusz dátum": "2003-12-31"
                                }
                            ]
                        },
                        "text/html": [
                            "<table>",
                            "<tr><th>munkaId</th><th>MhelyId</th><th>DiakAz</th><th>allas</th><th>datum</th><th>oradij</th><th>oraszam</th><th>kozepiskolas</th><th>Bónusz dátum</th></tr>",
                            "<tr><td>8</td><td>9</td><td>NULL</td><td>kisegítő</td><td>2003-06-19 00:00:00.000</td><td>300</td><td>4</td><td>0</td><td>2003-12-31</td></tr>",
                            "<tr><td>9</td><td>9</td><td>6</td><td>takarító</td><td>2003-06-19 00:00:00.000</td><td>400</td><td>4</td><td>0</td><td>2003-12-31</td></tr>",
                            "<tr><td>10</td><td>9</td><td>6</td><td>takarító</td><td>2003-06-20 00:00:00.000</td><td>400</td><td>4</td><td>0</td><td>2003-12-31</td></tr>",
                            "<tr><td>11</td><td>9</td><td>8</td><td>kisegítő</td><td>2003-06-21 00:00:00.000</td><td>300</td><td>6</td><td>1</td><td>2003-12-31</td></tr>",
                            "<tr><td>12</td><td>9</td><td>8</td><td>kisegítő</td><td>2003-06-22 00:00:00.000</td><td>300</td><td>6</td><td>1</td><td>2003-12-31</td></tr>",
                            "<tr><td>13</td><td>9</td><td>6</td><td>takarító</td><td>2003-06-23 00:00:00.000</td><td>400</td><td>4</td><td>0</td><td>2003-12-31</td></tr>",
                            "<tr><td>16</td><td>6</td><td>5</td><td>pincér</td><td>2003-06-11 00:00:00.000</td><td>450</td><td>6</td><td>0</td><td>2003-12-31</td></tr>",
                            "<tr><td>17</td><td>6</td><td>5</td><td>pincér</td><td>2003-06-12 00:00:00.000</td><td>450</td><td>6</td><td>0</td><td>2003-12-31</td></tr>",
                            "<tr><td>22</td><td>11</td><td>5</td><td>eladó</td><td>2003-05-10 00:00:00.000</td><td>400</td><td>4</td><td>0</td><td>2003-12-31</td></tr>",
                            "<tr><td>23</td><td>11</td><td>6</td><td>raktáros</td><td>2003-05-20 00:00:00.000</td><td>300</td><td>4</td><td>0</td><td>2003-12-31</td></tr>",
                            "<tr><td>24</td><td>11</td><td>5</td><td>eladó</td><td>2003-06-23 00:00:00.000</td><td>300</td><td>6</td><td>0</td><td>2003-12-31</td></tr>",
                            "<tr><td>38</td><td>5</td><td>7</td><td>eladó</td><td>2003-06-05 00:00:00.000</td><td>400</td><td>4</td><td>0</td><td>2003-12-31</td></tr>",
                            "<tr><td>39</td><td>5</td><td>7</td><td>eladó</td><td>2003-06-06 00:00:00.000</td><td>400</td><td>4</td><td>0</td><td>2003-12-31</td></tr>",
                            "<tr><td>40</td><td>5</td><td>7</td><td>eladó</td><td>2003-06-07 00:00:00.000</td><td>400</td><td>4</td><td>0</td><td>2003-12-31</td></tr>",
                            "</table>"
                        ]
                    }
                }
            ],
            "execution_count": 2
        }
    ]
}